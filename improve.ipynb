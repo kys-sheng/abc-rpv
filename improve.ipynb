{
 "cells": [
  {
   "cell_type": "code",
   "execution_count": 2,
   "metadata": {},
   "outputs": [],
   "source": [
    "import abcrpv_alpha as rpv"
   ]
  },
  {
   "cell_type": "code",
   "execution_count": 10,
   "metadata": {},
   "outputs": [
    {
     "name": "stdout",
     "output_type": "stream",
     "text": [
      "Results saved in  /home/ys/hep/abc-rpv/abctestrun/abcrpv_alpha/results/two_lsp_from_ttjjjjjj_ALL_ALL.csv\n"
     ]
    },
    {
     "data": {
      "text/html": [
       "<div>\n",
       "<style scoped>\n",
       "    .dataframe tbody tr th:only-of-type {\n",
       "        vertical-align: middle;\n",
       "    }\n",
       "\n",
       "    .dataframe tbody tr th {\n",
       "        vertical-align: top;\n",
       "    }\n",
       "\n",
       "    .dataframe thead th {\n",
       "        text-align: right;\n",
       "    }\n",
       "</style>\n",
       "<table border=\"1\" class=\"dataframe\">\n",
       "  <thead>\n",
       "    <tr style=\"text-align: right;\">\n",
       "      <th></th>\n",
       "      <th>CAT</th>\n",
       "      <th>LSP A</th>\n",
       "      <th>LSP B</th>\n",
       "      <th>Signature A</th>\n",
       "      <th>Signature B</th>\n",
       "      <th>Chain A</th>\n",
       "      <th>Chain B</th>\n",
       "      <th>Signatures</th>\n",
       "      <th>Signature A (ER)</th>\n",
       "      <th>Signature B (ER)</th>\n",
       "      <th>Signatures (ER)</th>\n",
       "    </tr>\n",
       "  </thead>\n",
       "  <tbody>\n",
       "    <tr>\n",
       "      <th>129</th>\n",
       "      <td>U D D</td>\n",
       "      <td>t_L</td>\n",
       "      <td>t_L</td>\n",
       "      <td>tjjj</td>\n",
       "      <td>tjjj</td>\n",
       "      <td>['t_L -- (t) -- B -- (j) -- u -- [j,j]', 't_L -- (t) -- B -- (j) -- d -- [j,j]', 't_L -- (t) -- B -- (j) -- d -- [j,j]']</td>\n",
       "      <td>['t_L -- (t) -- B -- (j) -- u -- [j,j]', 't_L -- (t) -- B -- (j) -- d -- [j,j]', 't_L -- (t) -- B -- (j) -- d -- [j,j]']</td>\n",
       "      <td>ttjjjjjj</td>\n",
       "      <td>3j_l + 1t</td>\n",
       "      <td>3j_l + 1t</td>\n",
       "      <td>6j_l + 2t</td>\n",
       "    </tr>\n",
       "    <tr>\n",
       "      <th>130</th>\n",
       "      <td>U D D</td>\n",
       "      <td>t</td>\n",
       "      <td>t</td>\n",
       "      <td>tjjj</td>\n",
       "      <td>tjjj</td>\n",
       "      <td>['t -- (t) -- B -- (j) -- u -- [j,j]', 't -- (t) -- B -- (j) -- d -- [j,j]', 't -- (t) -- B -- (j) -- d -- [j,j]']</td>\n",
       "      <td>['t -- (t) -- B -- (j) -- u -- [j,j]', 't -- (t) -- B -- (j) -- d -- [j,j]', 't -- (t) -- B -- (j) -- d -- [j,j]']</td>\n",
       "      <td>ttjjjjjj</td>\n",
       "      <td>3j_l + 1t</td>\n",
       "      <td>3j_l + 1t</td>\n",
       "      <td>6j_l + 2t</td>\n",
       "    </tr>\n",
       "    <tr>\n",
       "      <th>812</th>\n",
       "      <td>U_3 D D</td>\n",
       "      <td>q</td>\n",
       "      <td>q</td>\n",
       "      <td>tjjj</td>\n",
       "      <td>tjjj</td>\n",
       "      <td>['q -- (j) -- B -- (t) -- t -- [j,j]', 'q -- (j) -- B -- (j) -- d -- [t,j]', 'q -- (j) -- B -- (j) -- d -- [t,j]']</td>\n",
       "      <td>['q -- (j) -- B -- (t) -- t -- [j,j]', 'q -- (j) -- B -- (j) -- d -- [t,j]', 'q -- (j) -- B -- (j) -- d -- [t,j]']</td>\n",
       "      <td>ttjjjjjj</td>\n",
       "      <td>3j_l + 1t</td>\n",
       "      <td>3j_l + 1t</td>\n",
       "      <td>6j_l + 2t</td>\n",
       "    </tr>\n",
       "    <tr>\n",
       "      <th>813</th>\n",
       "      <td>U_3 D D</td>\n",
       "      <td>d</td>\n",
       "      <td>d</td>\n",
       "      <td>tjjj</td>\n",
       "      <td>tjjj</td>\n",
       "      <td>['d -- (j) -- B -- (t) -- t -- [j,j]']</td>\n",
       "      <td>['d -- (j) -- B -- (t) -- t -- [j,j]']</td>\n",
       "      <td>ttjjjjjj</td>\n",
       "      <td>3j_l + 1t</td>\n",
       "      <td>3j_l + 1t</td>\n",
       "      <td>6j_l + 2t</td>\n",
       "    </tr>\n",
       "    <tr>\n",
       "      <th>817</th>\n",
       "      <td>U_3 D D</td>\n",
       "      <td>u</td>\n",
       "      <td>u</td>\n",
       "      <td>tjjj</td>\n",
       "      <td>tjjj</td>\n",
       "      <td>['u -- (j) -- B -- (t) -- t -- [j,j]', 'u -- (j) -- B -- (j) -- d -- [t,j]', 'u -- (j) -- B -- (j) -- d -- [t,j]']</td>\n",
       "      <td>['u -- (j) -- B -- (t) -- t -- [j,j]', 'u -- (j) -- B -- (j) -- d -- [t,j]', 'u -- (j) -- B -- (j) -- d -- [t,j]']</td>\n",
       "      <td>ttjjjjjj</td>\n",
       "      <td>3j_l + 1t</td>\n",
       "      <td>3j_l + 1t</td>\n",
       "      <td>6j_l + 2t</td>\n",
       "    </tr>\n",
       "  </tbody>\n",
       "</table>\n",
       "</div>"
      ],
      "text/plain": [
       "         CAT LSP A LSP B Signature A Signature B  \\\n",
       "129    U D D   t_L   t_L        tjjj        tjjj   \n",
       "130    U D D     t     t        tjjj        tjjj   \n",
       "812  U_3 D D     q     q        tjjj        tjjj   \n",
       "813  U_3 D D     d     d        tjjj        tjjj   \n",
       "817  U_3 D D     u     u        tjjj        tjjj   \n",
       "\n",
       "                                                                                                                      Chain A  \\\n",
       "129  ['t_L -- (t) -- B -- (j) -- u -- [j,j]', 't_L -- (t) -- B -- (j) -- d -- [j,j]', 't_L -- (t) -- B -- (j) -- d -- [j,j]']   \n",
       "130        ['t -- (t) -- B -- (j) -- u -- [j,j]', 't -- (t) -- B -- (j) -- d -- [j,j]', 't -- (t) -- B -- (j) -- d -- [j,j]']   \n",
       "812        ['q -- (j) -- B -- (t) -- t -- [j,j]', 'q -- (j) -- B -- (j) -- d -- [t,j]', 'q -- (j) -- B -- (j) -- d -- [t,j]']   \n",
       "813                                                                                    ['d -- (j) -- B -- (t) -- t -- [j,j]']   \n",
       "817        ['u -- (j) -- B -- (t) -- t -- [j,j]', 'u -- (j) -- B -- (j) -- d -- [t,j]', 'u -- (j) -- B -- (j) -- d -- [t,j]']   \n",
       "\n",
       "                                                                                                                      Chain B  \\\n",
       "129  ['t_L -- (t) -- B -- (j) -- u -- [j,j]', 't_L -- (t) -- B -- (j) -- d -- [j,j]', 't_L -- (t) -- B -- (j) -- d -- [j,j]']   \n",
       "130        ['t -- (t) -- B -- (j) -- u -- [j,j]', 't -- (t) -- B -- (j) -- d -- [j,j]', 't -- (t) -- B -- (j) -- d -- [j,j]']   \n",
       "812        ['q -- (j) -- B -- (t) -- t -- [j,j]', 'q -- (j) -- B -- (j) -- d -- [t,j]', 'q -- (j) -- B -- (j) -- d -- [t,j]']   \n",
       "813                                                                                    ['d -- (j) -- B -- (t) -- t -- [j,j]']   \n",
       "817        ['u -- (j) -- B -- (t) -- t -- [j,j]', 'u -- (j) -- B -- (j) -- d -- [t,j]', 'u -- (j) -- B -- (j) -- d -- [t,j]']   \n",
       "\n",
       "    Signatures Signature A (ER) Signature B (ER) Signatures (ER)  \n",
       "129   ttjjjjjj        3j_l + 1t        3j_l + 1t       6j_l + 2t  \n",
       "130   ttjjjjjj        3j_l + 1t        3j_l + 1t       6j_l + 2t  \n",
       "812   ttjjjjjj        3j_l + 1t        3j_l + 1t       6j_l + 2t  \n",
       "813   ttjjjjjj        3j_l + 1t        3j_l + 1t       6j_l + 2t  \n",
       "817   ttjjjjjj        3j_l + 1t        3j_l + 1t       6j_l + 2t  "
      ]
     },
     "metadata": {},
     "output_type": "display_data"
    },
    {
     "data": {
      "text/plain": [
       "129    [t_L -- (t) -- B -- (j) -- u -- [j,j], t_L -- (t) -- B -- (j) -- d -- [j,j], t_L -- (t) -- B -- (j) -- d -- [j,j]]\n",
       "130          [t -- (t) -- B -- (j) -- u -- [j,j], t -- (t) -- B -- (j) -- d -- [j,j], t -- (t) -- B -- (j) -- d -- [j,j]]\n",
       "812          [q -- (j) -- B -- (t) -- t -- [j,j], q -- (j) -- B -- (j) -- d -- [t,j], q -- (j) -- B -- (j) -- d -- [t,j]]\n",
       "813                                                                                  [d -- (j) -- B -- (t) -- t -- [j,j]]\n",
       "817          [u -- (j) -- B -- (t) -- t -- [j,j], u -- (j) -- B -- (j) -- d -- [t,j], u -- (j) -- B -- (j) -- d -- [t,j]]\n",
       "Name: Chain A, dtype: object"
      ]
     },
     "metadata": {},
     "output_type": "display_data"
    }
   ],
   "source": [
    "import pandas as pd\n",
    "pd.set_option('display.max_colwidth',None)\n",
    "myresult=rpv.find_two_lsp_from_signature(\"ttjjjjjj\")\n",
    "display(myresult)\n",
    "display(myresult['Chain A'].map(eval))"
   ]
  },
  {
   "cell_type": "code",
   "execution_count": 11,
   "metadata": {},
   "outputs": [
    {
     "name": "stdout",
     "output_type": "stream",
     "text": [
      "t_L -- (t) -- B -- (j) -- u -- [j,j]\n",
      "t_L -- (t) -- B -- (j) -- d -- [j,j]\n",
      "t_L -- (t) -- B -- (j) -- d -- [j,j]\n"
     ]
    }
   ],
   "source": [
    "for i in myresult['Chain A'].map(eval).loc[129]:\n",
    "    print(i)"
   ]
  },
  {
   "cell_type": "code",
   "execution_count": 4,
   "metadata": {},
   "outputs": [],
   "source": [
    "import os \n",
    "import warnings\n",
    "import pandas as pd\n",
    "\n",
    "abcrpv_package_path = \"/home/ys/hep/abc-rpv/abctestrun/abcrpv_alpha\""
   ]
  },
  {
   "cell_type": "code",
   "execution_count": 7,
   "metadata": {},
   "outputs": [],
   "source": [
    "\n",
    "def find_one_lsp_from_signature(signature,rpv_coup=\"ALL\",category=\"ALL\",filename=\"\",inclusive=False,ninclusivej=10,ninclusivel=10,ninclusivemet=True,save_results=True,verbose=True):\n",
    "    assert type(signature) == str, \"input signature needs to be str, only taking one signature at a time\"\n",
    "    assert rpv.rmisc.check_signature_format(signature), \"Check signature format, allowed syntax:{x}\".format(x=rpv.rdef.FINAL_STATE)\n",
    "    input_signature = signature\n",
    "    rpv_coup = rpv_coup.upper()\n",
    "    category = category.upper()\n",
    "    if category != \"ALL\":\n",
    "        if category.count(\" \") < 2:\n",
    "            if category.count(\"E\") > 0:\n",
    "                raise NameError(\"Look up rpv.rdef.CAT_DICT for categories' syntax, it seems like youre trying LLE. Try:\\n{x}\".format(x=rpv.rdef.CAT_DICT[\"LLE\"]))\n",
    "            if category.count(\"Q\") > 0:\n",
    "                raise NameError(\"Look up rpv.rdef.CAT_DICT for categories' syntax, it seems like youre trying LQD. Try:\\n{x}\".format(x=rpv.rdef.CAT_DICT[\"LQD\"]))\n",
    "            if category.count(\"U\") > 0:\n",
    "                raise NameError(\"Look up rpv.rdef.CAT_DICT for categories' syntax, it seems like youre trying UDD. Try:\\n{x}\".format(x=rpv.rdef.CAT_DICT[\"UDD\"]))\n",
    "        if  rpv_coup != \"ALL\" and category not in rpv.rdef.CAT_DICT[rpv_coup]:\n",
    "            raise NameError(\"\\\"\"+category+\"\\\" not a category in \"+rpv_coup)\n",
    "    \n",
    "    if filename == \"\":\n",
    "        filename = \"one_lsp_that_decays_to_\"+signature+\"_\"+rpv_coup+\"_\"+category.replace(\" \",\"\")+\".csv\"\n",
    "\n",
    "    if save_results ==True:\n",
    "        if \".csv\" not in filename:\n",
    "            filename=filename+\".csv\"\n",
    "        results_path = os.path.join(abcrpv_package_path,\"results/\"+filename)\n",
    "\n",
    "\n",
    "    rpv_coup = rpv_coup.replace(\" \",\"\")\n",
    "    if category != \"ALL\" and rpv_coup == \"ALL\":\n",
    "        for i,j in rpv.rdef.CAT_DICT.items():\n",
    "            if category in j:        \n",
    "                rpv_coup = i\n",
    "\n",
    "    warnings.filterwarnings(\"ignore\") #ignore panda.append deprecategorye warning, @TODO update this, do this without append\n",
    "    signature = rpv.rmisc.signature_ordering(signature)\n",
    "    output_pd = pd.DataFrame()\n",
    "        \n",
    "\n",
    "    if \"L\" in signature or \"J\"in signature or \"3\"in signature  :\n",
    "        signature = (rpv.set_elements_simplified(signature))\n",
    "        if verbose == True:\n",
    "            print(\"More than one signature in input :\\n\",input_signature)\n",
    "            print(\"Will be looking up               :\\n\",signature)\n",
    "\n",
    "        if inclusive==True:\n",
    "            isignatureJ_dat = []\n",
    "            isignatureL_dat = []\n",
    "            isignatureL_dat = []\n",
    "            for isignature in signature:\n",
    "                isignatureJ_dat = isignatureJ_dat +(rpv.set_elements_simplified(isignature+\"J\"))\n",
    "                isignatureL_dat = isignatureL_dat +(rpv.set_elements_simplified(isignature+\"L\"))\n",
    "            signature = isignatureJ_dat + isignatureL_dat + signature\n",
    "            if verbose == True:\n",
    "                print(\"Inclusive option chose :\\n\")\n",
    "                print(\"Also Will be looking up {x}+{n}              :\\n\".format(x=input_signature,n=ninclusivej),isignatureJ_dat)\n",
    "                print(\"Also Will be looking up {x}+{n}              :\\n\".format(x=input_signature,n=ninclusivel),isignatureL_dat)\n",
    "                print(\"Also Will be looking up {x}+{n}              :\\n\".format(x=input_signature,n=ninclusivel),isignatureL_dat)\n",
    "                ninclusivej\n",
    "                ninclusivel\n",
    "                ninclusivemet\n",
    "                print(\"Total               :\\n\",signature)\n",
    "                \n",
    "\n",
    "        \n",
    "    else:\n",
    "        signature = [signature]\n",
    "\n",
    "    if rpv_coup == \"ALL\":\n",
    "        for _,LSP_dec_df in rpv.ONE_LSP_RPV_DECAY_DICT.items():\n",
    "            for k in signature:\n",
    "                output_pd = output_pd.append(LSP_dec_df.loc[(LSP_dec_df['Signatures'] == k)])\n",
    "\n",
    "    elif rpv_coup != \"ALL\":\n",
    "        LSP_dec_df = rpv.ONE_LSP_RPV_DECAY_DICT[rpv_coup.upper()]\n",
    "        if category == \"ALL\" :\n",
    "            for k in signature:\n",
    "                output_pd = output_pd.append(LSP_dec_df.loc[(LSP_dec_df['Signatures'] == k)])\n",
    "\n",
    "        elif  category != \"ALL\" :\n",
    "            for k in signature:\n",
    "                output_pd = output_pd.append(LSP_dec_df.loc[(LSP_dec_df['Signatures'] == k) & (LSP_dec_df['Category'] == category)])\n",
    "\n",
    "\n",
    "    if save_results==True:\n",
    "        if verbose == True:\n",
    "            print(\"Results saved in \",results_path)\n",
    "        output_pd.to_csv(results_path,index=False)     \n",
    "    return  output_pd  "
   ]
  },
  {
   "cell_type": "code",
   "execution_count": 8,
   "metadata": {},
   "outputs": [
    {
     "name": "stdout",
     "output_type": "stream",
     "text": [
      "More than one signature in input\n",
      "\n",
      "Will be looking up               :\n",
      " ['jjl', 'jjT', 'tjl', 'tjT', 'bjl', 'bjT', 'tjl', 'tjT', 'ttl', 'ttT', 'tbl', 'tbT', 'bjl', 'bjT', 'tbl', 'tbT', 'bbl', 'bbT']\n",
      "Inclusive option chose :\n",
      "\n",
      "Also Will be looking up               :\n",
      " ['jjjl', 'tjjl', 'bjjl', 'jjjT', 'tjjT', 'bjjT', 'tjjl', 'ttjl', 'tbjl', 'tjjT', 'ttjT', 'tbjT', 'bjjl', 'tbjl', 'bbjl', 'bjjT', 'tbjT', 'bbjT', 'tjjl', 'ttjl', 'tbjl', 'tjjT', 'ttjT', 'tbjT', 'ttjl', 'tttl', 'ttbl', 'ttjT', 'tttT', 'ttbT', 'tbjl', 'ttbl', 'tbbl', 'tbjT', 'ttbT', 'tbbT', 'bjjl', 'tbjl', 'bbjl', 'bjjT', 'tbjT', 'bbjT', 'tbjl', 'ttbl', 'tbbl', 'tbjT', 'ttbT', 'tbbT', 'bbjl', 'tbbl', 'bbbl', 'bbjT', 'tbbT', 'bbbT']\n",
      "Also Will be looking up               :\n",
      " ['jjll', 'jjTl', 'jjTl', 'jjTT', 'tjll', 'tjTl', 'tjTl', 'tjTT', 'bjll', 'bjTl', 'bjTl', 'bjTT', 'tjll', 'tjTl', 'tjTl', 'tjTT', 'ttll', 'ttTl', 'ttTl', 'ttTT', 'tbll', 'tbTl', 'tbTl', 'tbTT', 'bjll', 'bjTl', 'bjTl', 'bjTT', 'tbll', 'tbTl', 'tbTl', 'tbTT', 'bbll', 'bbTl', 'bbTl', 'bbTT']\n",
      "Total               :\n",
      " ['jjjl', 'tjjl', 'bjjl', 'jjjT', 'tjjT', 'bjjT', 'tjjl', 'ttjl', 'tbjl', 'tjjT', 'ttjT', 'tbjT', 'bjjl', 'tbjl', 'bbjl', 'bjjT', 'tbjT', 'bbjT', 'tjjl', 'ttjl', 'tbjl', 'tjjT', 'ttjT', 'tbjT', 'ttjl', 'tttl', 'ttbl', 'ttjT', 'tttT', 'ttbT', 'tbjl', 'ttbl', 'tbbl', 'tbjT', 'ttbT', 'tbbT', 'bjjl', 'tbjl', 'bbjl', 'bjjT', 'tbjT', 'bbjT', 'tbjl', 'ttbl', 'tbbl', 'tbjT', 'ttbT', 'tbbT', 'bbjl', 'tbbl', 'bbbl', 'bbjT', 'tbbT', 'bbbT', 'jjll', 'jjTl', 'jjTl', 'jjTT', 'tjll', 'tjTl', 'tjTl', 'tjTT', 'bjll', 'bjTl', 'bjTl', 'bjTT', 'tjll', 'tjTl', 'tjTl', 'tjTT', 'ttll', 'ttTl', 'ttTl', 'ttTT', 'tbll', 'tbTl', 'tbTl', 'tbTT', 'bjll', 'bjTl', 'bjTl', 'bjTT', 'tbll', 'tbTl', 'tbTl', 'tbTT', 'bbll', 'bbTl', 'bbTl', 'bbTT', 'jjl', 'jjT', 'tjl', 'tjT', 'bjl', 'bjT', 'tjl', 'tjT', 'ttl', 'ttT', 'tbl', 'tbT', 'bjl', 'bjT', 'tbl', 'tbT', 'bbl', 'bbT']\n",
      "Results saved in  /home/ys/hep/abc-rpv/abctestrun/abcrpv_alpha/results/one_lsp_that_decays_to_JJL_ALL_ALL.csv\n"
     ]
    },
    {
     "data": {
      "text/html": [
       "<div>\n",
       "<style scoped>\n",
       "    .dataframe tbody tr th:only-of-type {\n",
       "        vertical-align: middle;\n",
       "    }\n",
       "\n",
       "    .dataframe tbody tr th {\n",
       "        vertical-align: top;\n",
       "    }\n",
       "\n",
       "    .dataframe thead th {\n",
       "        text-align: right;\n",
       "    }\n",
       "</style>\n",
       "<table border=\"1\" class=\"dataframe\">\n",
       "  <thead>\n",
       "    <tr style=\"text-align: right;\">\n",
       "      <th></th>\n",
       "      <th>Category</th>\n",
       "      <th>LSP</th>\n",
       "      <th>decays via</th>\n",
       "      <th>Signatures</th>\n",
       "      <th>Chain</th>\n",
       "      <th>NV_cascade</th>\n",
       "      <th>Signatures (ER)</th>\n",
       "    </tr>\n",
       "  </thead>\n",
       "  <tbody>\n",
       "    <tr>\n",
       "      <th>481</th>\n",
       "      <td>L Q D</td>\n",
       "      <td>q</td>\n",
       "      <td>l</td>\n",
       "      <td>jjjl</td>\n",
       "      <td>q -- (j) -- B -- (l) -- l -- [j,j]</td>\n",
       "      <td>2</td>\n",
       "      <td>3j_l + 1l</td>\n",
       "    </tr>\n",
       "    <tr>\n",
       "      <th>483</th>\n",
       "      <td>L Q D</td>\n",
       "      <td>q</td>\n",
       "      <td>d</td>\n",
       "      <td>jjjl</td>\n",
       "      <td>q -- (j) -- B -- (j) -- d -- [l,j]</td>\n",
       "      <td>2</td>\n",
       "      <td>3j_l + 1l</td>\n",
       "    </tr>\n",
       "    <tr>\n",
       "      <th>485</th>\n",
       "      <td>L Q D</td>\n",
       "      <td>q</td>\n",
       "      <td>nu</td>\n",
       "      <td>jjjl</td>\n",
       "      <td>q -- (j) -- W^+ -- (l) -- nu -- [j,j]</td>\n",
       "      <td>2</td>\n",
       "      <td>3j_l + 1l</td>\n",
       "    </tr>\n",
       "    <tr>\n",
       "      <th>552</th>\n",
       "      <td>L Q D</td>\n",
       "      <td>d</td>\n",
       "      <td>l</td>\n",
       "      <td>jjjl</td>\n",
       "      <td>d -- (j) -- B -- (l) -- l -- [j,j]</td>\n",
       "      <td>2</td>\n",
       "      <td>3j_l + 1l</td>\n",
       "    </tr>\n",
       "    <tr>\n",
       "      <th>553</th>\n",
       "      <td>L Q D</td>\n",
       "      <td>d</td>\n",
       "      <td>q</td>\n",
       "      <td>jjjl</td>\n",
       "      <td>d -- (j) -- B -- (j) -- q -- [l,j]</td>\n",
       "      <td>2</td>\n",
       "      <td>3j_l + 1l</td>\n",
       "    </tr>\n",
       "    <tr>\n",
       "      <th>...</th>\n",
       "      <td>...</td>\n",
       "      <td>...</td>\n",
       "      <td>...</td>\n",
       "      <td>...</td>\n",
       "      <td>...</td>\n",
       "      <td>...</td>\n",
       "      <td>...</td>\n",
       "    </tr>\n",
       "    <tr>\n",
       "      <th>421</th>\n",
       "      <td>U_3 D_3 D_3</td>\n",
       "      <td>tau_L</td>\n",
       "      <td>b</td>\n",
       "      <td>tbbT</td>\n",
       "      <td>tau_L -- (T) -- B -- (b) -- b -- [t,b]</td>\n",
       "      <td>2</td>\n",
       "      <td>1t + 2b + 1tau</td>\n",
       "    </tr>\n",
       "    <tr>\n",
       "      <th>422</th>\n",
       "      <td>U_3 D_3 D_3</td>\n",
       "      <td>tau_L</td>\n",
       "      <td>b</td>\n",
       "      <td>tbbT</td>\n",
       "      <td>tau_L -- (T) -- B -- (b) -- b -- [t,b]</td>\n",
       "      <td>2</td>\n",
       "      <td>1t + 2b + 1tau</td>\n",
       "    </tr>\n",
       "    <tr>\n",
       "      <th>456</th>\n",
       "      <td>U_3 D_3 D_3</td>\n",
       "      <td>tau</td>\n",
       "      <td>t</td>\n",
       "      <td>tbbT</td>\n",
       "      <td>tau -- (T) -- B -- (t) -- t -- [b,b]</td>\n",
       "      <td>2</td>\n",
       "      <td>1t + 2b + 1tau</td>\n",
       "    </tr>\n",
       "    <tr>\n",
       "      <th>457</th>\n",
       "      <td>U_3 D_3 D_3</td>\n",
       "      <td>tau</td>\n",
       "      <td>b</td>\n",
       "      <td>tbbT</td>\n",
       "      <td>tau -- (T) -- B -- (b) -- b -- [t,b]</td>\n",
       "      <td>2</td>\n",
       "      <td>1t + 2b + 1tau</td>\n",
       "    </tr>\n",
       "    <tr>\n",
       "      <th>458</th>\n",
       "      <td>U_3 D_3 D_3</td>\n",
       "      <td>tau</td>\n",
       "      <td>b</td>\n",
       "      <td>tbbT</td>\n",
       "      <td>tau -- (T) -- B -- (b) -- b -- [t,b]</td>\n",
       "      <td>2</td>\n",
       "      <td>1t + 2b + 1tau</td>\n",
       "    </tr>\n",
       "  </tbody>\n",
       "</table>\n",
       "<p>1346 rows × 7 columns</p>\n",
       "</div>"
      ],
      "text/plain": [
       "        Category    LSP decays via Signatures  \\\n",
       "481        L Q D      q          l       jjjl   \n",
       "483        L Q D      q          d       jjjl   \n",
       "485        L Q D      q         nu       jjjl   \n",
       "552        L Q D      d          l       jjjl   \n",
       "553        L Q D      d          q       jjjl   \n",
       "..           ...    ...        ...        ...   \n",
       "421  U_3 D_3 D_3  tau_L          b       tbbT   \n",
       "422  U_3 D_3 D_3  tau_L          b       tbbT   \n",
       "456  U_3 D_3 D_3    tau          t       tbbT   \n",
       "457  U_3 D_3 D_3    tau          b       tbbT   \n",
       "458  U_3 D_3 D_3    tau          b       tbbT   \n",
       "\n",
       "                                      Chain  NV_cascade  Signatures (ER)  \n",
       "481      q -- (j) -- B -- (l) -- l -- [j,j]           2        3j_l + 1l  \n",
       "483      q -- (j) -- B -- (j) -- d -- [l,j]           2        3j_l + 1l  \n",
       "485   q -- (j) -- W^+ -- (l) -- nu -- [j,j]           2        3j_l + 1l  \n",
       "552      d -- (j) -- B -- (l) -- l -- [j,j]           2        3j_l + 1l  \n",
       "553      d -- (j) -- B -- (j) -- q -- [l,j]           2        3j_l + 1l  \n",
       "..                                      ...         ...              ...  \n",
       "421  tau_L -- (T) -- B -- (b) -- b -- [t,b]           2   1t + 2b + 1tau  \n",
       "422  tau_L -- (T) -- B -- (b) -- b -- [t,b]           2   1t + 2b + 1tau  \n",
       "456    tau -- (T) -- B -- (t) -- t -- [b,b]           2   1t + 2b + 1tau  \n",
       "457    tau -- (T) -- B -- (b) -- b -- [t,b]           2   1t + 2b + 1tau  \n",
       "458    tau -- (T) -- B -- (b) -- b -- [t,b]           2   1t + 2b + 1tau  \n",
       "\n",
       "[1346 rows x 7 columns]"
      ]
     },
     "execution_count": 8,
     "metadata": {},
     "output_type": "execute_result"
    }
   ],
   "source": [
    "find_one_lsp_from_signature(\"JJL\",inclusive=True)"
   ]
  },
  {
   "cell_type": "code",
   "execution_count": null,
   "metadata": {},
   "outputs": [],
   "source": []
  },
  {
   "attachments": {},
   "cell_type": "markdown",
   "metadata": {},
   "source": [
    "# Introduction on syntax"
   ]
  },
  {
   "attachments": {},
   "cell_type": "markdown",
   "metadata": {},
   "source": [
    "### Sparticles\n",
    "Notation used in for sparticles in code:\n",
    "- \"B\",      = Bino               <br>\n",
    "- \"W^+\"    = Charged Wino       <br>\n",
    "- \"W^0\"    = Neutral Wino       <br>\n",
    "- \"G\"      = Gluino             <br>\n",
    "- \"H^+\"    = Charged Higgsino   <br>\n",
    "- \"H^0\"    = Neutral Higgsino   <br>\n",
    "- \"q\"      = u_L, d_L, c_L, s_L <br>\n",
    "- \"d\"      = d_R, s_R           <br>\n",
    "- \"u\"      = u_R, c_R           <br>\n",
    "- \"l\"      = e_L, mu_L          <br>\n",
    "- \"nu\"     = nu_e, nu_mu        <br>\n",
    "- \"e\"      = e_R, mu_R          <br>\n",
    "- \"t_L\"    = t_L                <br>\n",
    "- \"b_L\"    = b_L                <br>\n",
    "- \"t\"      = t_R                <br>\n",
    "- \"b\"      = b_R                <br>\n",
    "- \"tau_L\"  = tau_L              <br>\n",
    "- \"tau\"     = tau_R              <br>\n",
    "- \"nu_tau\" = nu_tau             <br>\n",
    "\n",
    "You can use **rdef.SPARTICLES** to show all the possibilities\n"
   ]
  },
  {
   "cell_type": "code",
   "execution_count": null,
   "metadata": {},
   "outputs": [],
   "source": [
    "print(rpv.rdef.SPARTICLES)"
   ]
  },
  {
   "attachments": {},
   "cell_type": "markdown",
   "metadata": {},
   "source": [
    "### Final State Object\n",
    "Notation used in for fiinal state object in code (one-char syntax):<br>\n",
    "\"v\" = Massive Bosons  (W,Z,H)  \n",
    "\"J\" = jet             (u, d, c, s, t, b )         \n",
    "\"3\" = 3rd gen jet     (t, b )         \n",
    "\"t\" = top             (t)         \n",
    "\"b\" = bottom jet      (b)                 \n",
    "\"j\" = light jet       (u, d, c, s)                 \n",
    "\"L\" = charged leptons (e, mu, tau )                     \n",
    "\"l\" = light lepton    (e, mu )                     \n",
    "\"T\" = tau             (tau)         \n",
    "\"E\" = MET             (nu)    \n",
    "\n",
    "You can use **rdef.FINAL_STATE** to show all the possibilities"
   ]
  },
  {
   "cell_type": "code",
   "execution_count": null,
   "metadata": {},
   "outputs": [],
   "source": [
    "rpv.rdef.FINAL_STATE"
   ]
  },
  {
   "attachments": {},
   "cell_type": "markdown",
   "metadata": {},
   "source": [
    "# RPV Categories\n",
    "\n",
    "**rdef.CAT_DICT** is a dictionary that contains all the catoegories in each of the RPV couplings."
   ]
  },
  {
   "cell_type": "code",
   "execution_count": null,
   "metadata": {},
   "outputs": [],
   "source": [
    "print(rpv.rdef.CAT_DICT[\"LLE\"])\n",
    "print(rpv.rdef.CAT_DICT[\"LQD\"])\n",
    "print(rpv.rdef.CAT_DICT[\"UDD\"])"
   ]
  },
  {
   "attachments": {},
   "cell_type": "markdown",
   "metadata": {},
   "source": [
    "# Dictionaries"
   ]
  },
  {
   "attachments": {},
   "cell_type": "markdown",
   "metadata": {},
   "source": [
    "Note: almost every output from here on are Pandas dataframe."
   ]
  },
  {
   "attachments": {},
   "cell_type": "markdown",
   "metadata": {},
   "source": [
    "### **ONE_LSP_RPV_DECAY_DICT**\n",
    "It contains all information about the possibe decays of all the LSPs"
   ]
  },
  {
   "cell_type": "code",
   "execution_count": null,
   "metadata": {},
   "outputs": [],
   "source": [
    "rpv.ONE_LSP_RPV_DECAY_DICT[\"LLE\"]\n"
   ]
  },
  {
   "cell_type": "code",
   "execution_count": null,
   "metadata": {},
   "outputs": [],
   "source": [
    "rpv.ONE_LSP_RPV_DECAY_DICT[\"LQD\"]"
   ]
  },
  {
   "cell_type": "code",
   "execution_count": null,
   "metadata": {},
   "outputs": [],
   "source": [
    "rpv.ONE_LSP_RPV_DECAY_DICT[\"UDD\"]"
   ]
  },
  {
   "attachments": {},
   "cell_type": "markdown",
   "metadata": {},
   "source": [
    "### Understanding Signature and Chains syntax\n"
   ]
  },
  {
   "cell_type": "code",
   "execution_count": null,
   "metadata": {},
   "outputs": [],
   "source": [
    "(rpv.find_one_lsp_from_signature(\"jjllE\",rpv_coup=\"LLE\",category=\"L L E\").iloc[1])"
   ]
  },
  {
   "attachments": {},
   "cell_type": "markdown",
   "metadata": {},
   "source": [
    "\n",
    "#### Example Decay Chain <br>\n",
    "    'W^0 -- (j) -- q -- (j) -- B -- (l) -- e -- [l,E]'\n",
    "- () and [] are in signature syntax <br>\n",
    "- others are in sparticle syntax <br>\n",
    "\n",
    "So, going from the left to right, we started with a  \n",
    "1. a Wino, **W^0** that decays to 1/2gen squark, **q** while producing a jet, **(j)**\n",
    "2. the squark, **q** decays to a Bino, **B** while producing another jet **(j)**\n",
    "3. the Bino, **B** decays to a RH 1/2gen sleptons, **e** while producing a light lepton **(l)**\n",
    "4. and the sleptons, **e** finally decay to lepton and missing transverse energy  **[l,E]**\n",
    "\n",
    "From all the signatures combined, one can see that we have:\n",
    "- in our syntax: **jjllE** \n",
    "- or an easy-read syntax: **2j_l + 2l + MET**"
   ]
  },
  {
   "attachments": {},
   "cell_type": "markdown",
   "metadata": {},
   "source": [
    "![image](./abcrpv_alpha/example.png)"
   ]
  },
  {
   "cell_type": "code",
   "execution_count": null,
   "metadata": {},
   "outputs": [],
   "source": []
  },
  {
   "attachments": {},
   "cell_type": "markdown",
   "metadata": {},
   "source": [
    "### **TWO_LSP_RPV_DECAY_DICT**\n",
    "It contains all information about the possibe signatures arising from pair production of two LSPs"
   ]
  },
  {
   "cell_type": "code",
   "execution_count": null,
   "metadata": {},
   "outputs": [],
   "source": [
    "rpv.TWO_LSP_RPV_DECAY_DICT[\"LLE\"]"
   ]
  },
  {
   "cell_type": "code",
   "execution_count": null,
   "metadata": {},
   "outputs": [],
   "source": [
    "rpv.TWO_LSP_RPV_DECAY_DICT[\"LQD\"]"
   ]
  },
  {
   "cell_type": "code",
   "execution_count": null,
   "metadata": {},
   "outputs": [],
   "source": [
    "rpv.TWO_LSP_RPV_DECAY_DICT[\"UDD\"]"
   ]
  },
  {
   "attachments": {},
   "cell_type": "markdown",
   "metadata": {},
   "source": [
    "As one can see, the total amount of data can be a lot. (And it can be even more, if you generate the data yourself with different input tables. Refer paper for more details)\n",
    "\n",
    "# Functions\n",
    "To fully utilize the tables, we provide a few functions:\n",
    "\n",
    "### 1. **find_one_lsp_from_signature(signature,rpv_coup=\"ALL\",category=\"ALL\",filename=\"\",save_results=True,verbose=True)**\n",
    "- Inputs:\n",
    "  - **signature**    (str)  : inpput collider signature you want to know (refer syntax mentioned above)  <br> \n",
    "  - **rpv_coup**     (str)  : \"LLE\", \"LQD\", \"UDD\" or \"ALL\"(default)\n",
    "  - **category**     (str)  : any category name (refer syntax mentioned above) or \"ALL\"(default)\n",
    "  - **filename**     (str)  : file name is save_results is set to be True. (Default:  \"one_lsp_that_decays_to_\"+signature+\"_\"+rpv_coup+\"_\"+category.replace(\" \",\"\")+\".csv\")\n",
    "  - **save_results** (bool) : save output into a csv file. (Default: True)\n",
    "\n",
    "If you have a signature (eg. 2 jets(any) + 2 light leptons + MET), and you wanna know what LSP can decay to it, use: <br>\n"
   ]
  },
  {
   "cell_type": "code",
   "execution_count": null,
   "metadata": {},
   "outputs": [],
   "source": [
    "rpv.find_one_lsp_from_signature(\"JJLLE\")"
   ]
  },
  {
   "attachments": {},
   "cell_type": "markdown",
   "metadata": {},
   "source": [
    "There are cases where it might be too much possibilities.\n",
    "You can restrict the possibilities by providing which couplings and/or which categories:"
   ]
  },
  {
   "cell_type": "code",
   "execution_count": null,
   "metadata": {},
   "outputs": [],
   "source": [
    "rpv.find_one_lsp_from_signature(\"JJLLE\",\"LQD\")"
   ]
  },
  {
   "cell_type": "code",
   "execution_count": null,
   "metadata": {},
   "outputs": [],
   "source": [
    "rpv.find_one_lsp_from_signature(\"JJLLE\",\"LQD\", \"L_3 Q_3 D\")"
   ]
  },
  {
   "attachments": {},
   "cell_type": "markdown",
   "metadata": {},
   "source": [
    "Similary, one can use the case for two LSPs scenario\n",
    "\n",
    "### 2. **find_two_lsp_from_signature(signature,rpv_coup=\"ALL\",category=\"ALL\",filename=\"\",save_results=True,verbose=True)**\n",
    "- Inputs:\n",
    "  - **signature**    (str)  : inpput collider signature you want to know (refer syntax mentioned above)  <br> \n",
    "  - **rpv_coup**     (str)  : \"LLE\", \"LQD\", \"UDD\" or \"ALL\"(default)\n",
    "  - **category**     (str)  : any category name (refer syntax mentioned above) or \"ALL\"(default)\n",
    "  - **filename**     (str)  : file name is save_results is set to be True. (Default:  \"one_lsp_that_decays_to_\"+signature+\"_\"+rpv_coup+\"_\"+category.replace(\" \",\"\")+\".csv\")\n",
    "  - **save_results** (bool) : save output into a csv file. (Default: True)\n",
    "\n",
    "If you have a signature (eg. 2 jets(any) + 3 light leptons + MET), and you wanna know which pair production of LSPs can produce such signature, use: <br>\n"
   ]
  },
  {
   "cell_type": "code",
   "execution_count": null,
   "metadata": {},
   "outputs": [],
   "source": [
    "display(rpv.find_two_lsp_from_signature(\"JJLLLE\"))\n"
   ]
  },
  {
   "attachments": {},
   "cell_type": "markdown",
   "metadata": {},
   "source": [
    "Alternatively, you can also look at what are all the possible decays that one LSP can have\n",
    "\n",
    "### 3.**find_signatures_from_one_lsp(lsp,rpv_coup=\"ALL\",category=\"ALL\",filename=\"\",save_results=True,verbose=True):**\n",
    "Input\n",
    "  - **lsp**          (str)  : input LSP sparticle (refer SPARTICLE syntax mentioned above) \n",
    "  - **rpv_coup**     (str)  : \"LLE\", \"LQD\", \"UDD\" or \"ALL\"(default)\n",
    "  - **category**     (str)  : any category name (refer CATEGORY syntax mentioned above) or \"ALL\"(default)\n",
    "  - **filename**     (str)  : file name is save_results is set to be True. (Default:  \"one_lsp_that_decays_to_\"+signature+\"_\"+rpv_coup+\"_\"+category.replace(\" \",\"\")+\".csv\")\n",
    "  - **save_results** (bool) : save output into a csv file. (Default: True)\n",
    "save_results=True,verbose=True\n"
   ]
  },
  {
   "cell_type": "code",
   "execution_count": null,
   "metadata": {},
   "outputs": [],
   "source": [
    "rpv.find_signatures_from_one_lsp(\"G\")\n"
   ]
  },
  {
   "attachments": {},
   "cell_type": "markdown",
   "metadata": {},
   "source": [
    "Similary for the two LSP scenario\n",
    "\n",
    "### 4.**find_signatures_from_two_lsp(lspa,lspb=\"\",rpv_coup=\"ALL\",category=\"ALL\",filename=\"\",save_results=True,verbose=True):**\n",
    "Input\n",
    "  - **lspa**          (str)  : input LSP A sparticle (refer SPARTICLE syntax mentioned above) \n",
    "  - **lspb**          (str)  : input LSP B sparticle (refer SPARTICLE syntax mentioned above) Default: same as LSP A. Cases where there are SU(2) mass degenerate sparticles, you can include them.\n",
    "  - **rpv_coup**     (str)  : \"LLE\", \"LQD\", \"UDD\" or \"ALL\"(default)\n",
    "  - **category**     (str)  : any category name (refer CATEGORY syntax mentioned above) or \"ALL\"(default)\n",
    "  - **filename**     (str)  : file name is save_results is set to be True. (Default:  \"one_lsp_that_decays_to_\"+signature+\"_\"+rpv_coup+\"_\"+category.replace(\" \",\"\")+\".csv\")\n",
    "  - **save_results** (bool) : save output into a csv file. (Default: True)\n"
   ]
  },
  {
   "cell_type": "code",
   "execution_count": null,
   "metadata": {},
   "outputs": [],
   "source": [
    "display(rpv.find_signatures_from_two_lsp(\"G\"))"
   ]
  },
  {
   "cell_type": "code",
   "execution_count": null,
   "metadata": {},
   "outputs": [],
   "source": [
    "display(rpv.find_signatures_from_two_lsp(\"W^0\",\"W^+\"))"
   ]
  },
  {
   "attachments": {},
   "cell_type": "markdown",
   "metadata": {},
   "source": [
    "# Signature Category Dictionary"
   ]
  },
  {
   "attachments": {},
   "cell_type": "markdown",
   "metadata": {},
   "source": [
    "### **rpv.ONE_LSP_SIG_CAT_DICT** \n",
    "categorized all possible final states of LSP decay based on their RPV categories"
   ]
  },
  {
   "cell_type": "code",
   "execution_count": null,
   "metadata": {},
   "outputs": [],
   "source": [
    "rpv.ONE_LSP_SIG_CAT_DICT[\"LLE\"]\n"
   ]
  },
  {
   "cell_type": "code",
   "execution_count": null,
   "metadata": {},
   "outputs": [],
   "source": [
    "rpv.ONE_LSP_SIG_CAT_DICT[\"LQD\"]\n"
   ]
  },
  {
   "cell_type": "code",
   "execution_count": null,
   "metadata": {},
   "outputs": [],
   "source": [
    "rpv.ONE_LSP_SIG_CAT_DICT[\"UDD\"]\n"
   ]
  },
  {
   "attachments": {},
   "cell_type": "markdown",
   "metadata": {},
   "source": [
    "### **rpv.TWO_LSP_SIG_CAT_DICT** \n",
    "captures all possible signature of from pair production of LSP categorized into all the categories <br>"
   ]
  },
  {
   "cell_type": "code",
   "execution_count": null,
   "metadata": {},
   "outputs": [],
   "source": [
    "rpv.TWO_LSP_SIG_CAT_DICT[\"LLE\"]\n"
   ]
  },
  {
   "cell_type": "code",
   "execution_count": null,
   "metadata": {},
   "outputs": [],
   "source": [
    "rpv.TWO_LSP_SIG_CAT_DICT[\"LQD\"]\n"
   ]
  },
  {
   "cell_type": "code",
   "execution_count": null,
   "metadata": {},
   "outputs": [],
   "source": [
    "rpv.TWO_LSP_SIG_CAT_DICT[\"UDD\"]\n"
   ]
  },
  {
   "attachments": {},
   "cell_type": "markdown",
   "metadata": {},
   "source": [
    "### **rpv.TWO_LSP_SIG_CAT_COMPLETE_DICT** \n",
    "Complete data used to generate **rpv.TWO_LSP_SIG_CAT_DICT**. \n",
    "Note: Computationally expensive to get proper minimal set, use the one that was produced and generate manually only if neccesary.\n",
    "- LLE 2mins  <br>\n",
    "- LQD 30mins<br>\n",
    "- UDD 2hours <br>\n"
   ]
  },
  {
   "cell_type": "code",
   "execution_count": null,
   "metadata": {},
   "outputs": [],
   "source": [
    "rpv.TWO_LSP_SIG_CAT_COMPLETE_DICT[\"LLE\"]"
   ]
  },
  {
   "attachments": {},
   "cell_type": "markdown",
   "metadata": {},
   "source": [
    "# Example on how to cross check with results on our paper"
   ]
  },
  {
   "cell_type": "code",
   "execution_count": null,
   "metadata": {},
   "outputs": [],
   "source": [
    "#Looking at Table 2 of the paper\n",
    "LSP = \"G\"\n",
    "insignature = \"llllJJJJE\"\n",
    "incategory = \"L L E\"\n",
    "x = rpv.find_two_lsp_from_signature(insignature,category=incategory)\n",
    "display(x)\n",
    "if len(x[x[\"LSP A\"] == LSP][\"Signatures\"].values) > 1:\n",
    "    print(rpv.get_common(x[x[\"LSP A\"] == LSP][\"Signatures\"].values))\n",
    "    print(rpv.minimal_sets_simplified_signatures(x[x[\"LSP A\"] == LSP][\"Signatures\"].values))"
   ]
  },
  {
   "attachments": {},
   "cell_type": "markdown",
   "metadata": {},
   "source": [
    "# Future updates:\n",
    "- Include charges of final state objects (Need to rewrite code base, in progress)\n",
    "- Using all possible exact vertices instead of not_suppressed table (Need to rewrite code base, in progress)\n",
    "- Incorporate code with large RPV cases (Depends on how that project goes)\n"
   ]
  },
  {
   "cell_type": "code",
   "execution_count": null,
   "metadata": {},
   "outputs": [],
   "source": []
  },
  {
   "attachments": {},
   "cell_type": "markdown",
   "metadata": {},
   "source": [
    "# MISC Functions and Dictionaries"
   ]
  },
  {
   "attachments": {},
   "cell_type": "markdown",
   "metadata": {},
   "source": [
    "If you wanna get transition signature between sparticles based on your input tables:"
   ]
  },
  {
   "cell_type": "code",
   "execution_count": null,
   "metadata": {},
   "outputs": [],
   "source": [
    "rpv.get_transition_sig(\"W^0\",\"G\")"
   ]
  },
  {
   "attachments": {},
   "cell_type": "markdown",
   "metadata": {},
   "source": [
    "If you wanna find the superset that include your input signature"
   ]
  },
  {
   "cell_type": "code",
   "execution_count": null,
   "metadata": {},
   "outputs": [],
   "source": [
    "rpv.get_all_superset(\"jjlE\",True,True,True)"
   ]
  },
  {
   "attachments": {},
   "cell_type": "markdown",
   "metadata": {},
   "source": [
    "If you wanna find all possible subsets of your signature"
   ]
  },
  {
   "cell_type": "code",
   "execution_count": null,
   "metadata": {},
   "outputs": [],
   "source": [
    "rpv.get_subsets([\"JJl\",\"JJE\"])"
   ]
  },
  {
   "attachments": {},
   "cell_type": "markdown",
   "metadata": {},
   "source": [
    "If you wanna convert the code signature syntax to something easier to understand:"
   ]
  },
  {
   "cell_type": "code",
   "execution_count": null,
   "metadata": {},
   "outputs": [],
   "source": [
    "rpv.rmisc.easy_read(\"jjJlTTE\")"
   ]
  },
  {
   "attachments": {},
   "cell_type": "markdown",
   "metadata": {},
   "source": [
    "If you wanna look up the input transitions tables:"
   ]
  },
  {
   "cell_type": "code",
   "execution_count": null,
   "metadata": {},
   "outputs": [],
   "source": [
    "rpv.NOTSUP_TABLE"
   ]
  },
  {
   "cell_type": "code",
   "execution_count": null,
   "metadata": {},
   "outputs": [],
   "source": [
    "rpv.SUP_TABLE"
   ]
  },
  {
   "cell_type": "code",
   "execution_count": null,
   "metadata": {},
   "outputs": [],
   "source": [
    "rpv.STRSUP_TABLE"
   ]
  },
  {
   "attachments": {},
   "cell_type": "markdown",
   "metadata": {},
   "source": [
    "# Advanced Functions"
   ]
  },
  {
   "attachments": {},
   "cell_type": "markdown",
   "metadata": {},
   "source": [
    "When using different input tables, it is important to regenerate all the tables used so far.\n",
    "- rpv.generate_transition_df(nv=1,save_csv=False) <br>\n",
    "  - --> Default nv=1:<br>\n",
    "    - when generating the table, we have used only *vertices* in the table_notsup.csv (ie transitions that are not suppressed).  <br>\n",
    "    - By default, we only look for the minimal non-vanishing vertices when constructing all the tables and dictionaries. However, it is also possible to include all possible chains up to  3 *vertices* (nv=3). <br>\n",
    "    - This would lead to more possible chains. And more possible signatures in most (if not all) scenario<br>\n",
    "  - --> This generate main table for generation of evey other table. \n",
    "  - --> Switch on same_csv=True, to ensure results are saved. <br>\n",
    "<br>\n",
    "  \n",
    "- rpv.generate_transitions_table()<br>\n",
    "  --> generate transitions_table<br>\n",
    "  \n",
    "- rpv.generate_LSP_RPV_decay_table(rpv_coup):<br>\n",
    "  --> generate ONE_LSP_RPV_decay_table<br>\n",
    "  \n",
    "- rpv.generate_LSP_sig_cat_table(rpv_coup)<br>\n",
    "  --> generate ONE_LSP_sig_cat_table<br>\n",
    "  \n",
    "- rpv.generate_2LSP_RPV_decay_table(rpv_coup)<br>\n",
    "  --> generate 2LSP_RPV_decay_table<br>\n",
    "  \n",
    "- rpv.generate_2LSP_sig_complete(rpv_coup)<br>\n",
    "  --> generate 2LSP_sig_complete<br>\n",
    "  --> **##NOT AVAILABLE YET, WORK IN PROGRESS##** computationally expensive to get proper minimal set\n",
    "  "
   ]
  },
  {
   "attachments": {},
   "cell_type": "markdown",
   "metadata": {},
   "source": [
    "### **rpv.TRANSITION_DF**\n",
    "Main table generated from inputs transition tables. All other tables are generated from this"
   ]
  },
  {
   "cell_type": "code",
   "execution_count": null,
   "metadata": {},
   "outputs": [],
   "source": [
    "rpv.TRANSITION_DF"
   ]
  },
  {
   "attachments": {},
   "cell_type": "markdown",
   "metadata": {},
   "source": [
    "### **rpv.TRANSITIONS_TABLE**\n",
    "Compiled Transitions tables"
   ]
  },
  {
   "cell_type": "code",
   "execution_count": null,
   "metadata": {},
   "outputs": [],
   "source": [
    "rpv.TRANSITIONS_TABLE"
   ]
  },
  {
   "attachments": {},
   "cell_type": "markdown",
   "metadata": {},
   "source": [
    "### **rpv.sanity_checks()**\n",
    "If one modified any of the input tables or regenerate tables with different number of vertices, it is a good thing to do some sanity checks"
   ]
  },
  {
   "cell_type": "code",
   "execution_count": null,
   "metadata": {},
   "outputs": [],
   "source": [
    "rpv.sanity_checks()"
   ]
  },
  {
   "cell_type": "code",
   "execution_count": null,
   "metadata": {},
   "outputs": [],
   "source": []
  }
 ],
 "metadata": {
  "kernelspec": {
   "display_name": "Python 3",
   "language": "python",
   "name": "python3"
  },
  "language_info": {
   "codemirror_mode": {
    "name": "ipython",
    "version": 3
   },
   "file_extension": ".py",
   "mimetype": "text/x-python",
   "name": "python",
   "nbconvert_exporter": "python",
   "pygments_lexer": "ipython3",
   "version": "3.8.10"
  },
  "orig_nbformat": 4
 },
 "nbformat": 4,
 "nbformat_minor": 2
}

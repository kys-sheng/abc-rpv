{
 "cells": [
  {
   "cell_type": "code",
   "execution_count": null,
   "metadata": {},
   "outputs": [],
   "source": [
    "import abcrpv as rpv"
   ]
  },
  {
   "attachments": {},
   "cell_type": "markdown",
   "metadata": {},
   "source": [
    "# Introduction on syntax"
   ]
  },
  {
   "attachments": {},
   "cell_type": "markdown",
   "metadata": {},
   "source": [
    "### Sparticles\n",
    "Notation used in for sparticles in code:\n",
    "- \"B\",      = Bino               <br>\n",
    "- \"W^+\"    = Charged Wino       <br>\n",
    "- \"W^0\"    = Neutral Wino       <br>\n",
    "- \"G\"      = Gluino             <br>\n",
    "- \"H^+\"    = Charged Higgsino   <br>\n",
    "- \"H^0\"    = Neutral Higgsino   <br>\n",
    "- \"q\"      = u_L, d_L, c_L, s_L <br>\n",
    "- \"d\"      = d_R, s_R           <br>\n",
    "- \"u\"      = u_R, c_R           <br>\n",
    "- \"l\"      = e_L, mu_L          <br>\n",
    "- \"nu\"     = nu_e, nu_mu        <br>\n",
    "- \"e\"      = e_R, mu_R          <br>\n",
    "- \"t_L\"    = t_L                <br>\n",
    "- \"b_L\"    = b_L                <br>\n",
    "- \"t\"      = t_R                <br>\n",
    "- \"b\"      = b_R                <br>\n",
    "- \"tau_L\"  = tau_L              <br>\n",
    "- \"tau\"     = tau_R              <br>\n",
    "- \"nu_tau\" = nu_tau             <br>\n",
    "\n",
    "You can use **rdef.SPARTICLES** to show all the possibilities\n"
   ]
  },
  {
   "cell_type": "code",
   "execution_count": null,
   "metadata": {},
   "outputs": [],
   "source": [
    "print(rpv.rdef.SPARTICLES)"
   ]
  },
  {
   "attachments": {},
   "cell_type": "markdown",
   "metadata": {},
   "source": [
    "### Final State Object\n",
    "Notation used in for fiinal state object in code (one-char syntax):<br>\n",
    "\"v\" = Massive Bosons  (W,Z,H)  \n",
    "\"J\" = jet             (u, d, c, s, t, b )         \n",
    "\"3\" = 3rd gen jet     (t, b )         \n",
    "\"t\" = top             (t)         \n",
    "\"b\" = bottom jet      (b)                 \n",
    "\"j\" = light jet       (u, d, c, s)                 \n",
    "\"L\" = charged leptons (e, mu, tau )                     \n",
    "\"l\" = light lepton    (e, mu )                     \n",
    "\"T\" = tau             (tau)         \n",
    "\"X\" = MET             (nu)    \n",
    "\n",
    "You can use **rdef.FINAL_STATE** to show all the possibilities"
   ]
  },
  {
   "cell_type": "code",
   "execution_count": null,
   "metadata": {},
   "outputs": [],
   "source": [
    "rpv.rdef.FINAL_STATE"
   ]
  },
  {
   "attachments": {},
   "cell_type": "markdown",
   "metadata": {},
   "source": [
    "# RPV Categories\n",
    "\n",
    "**rdef.CAT_DICT** is a dictionary that contains all the catoegories in each of the RPV couplings."
   ]
  },
  {
   "cell_type": "code",
   "execution_count": null,
   "metadata": {},
   "outputs": [],
   "source": [
    "print(rpv.rdef.CAT_DICT[\"LLE\"])\n",
    "print(rpv.rdef.CAT_DICT[\"LQD\"])\n",
    "print(rpv.rdef.CAT_DICT[\"UDD\"])"
   ]
  },
  {
   "attachments": {},
   "cell_type": "markdown",
   "metadata": {},
   "source": [
    "# Dictionaries"
   ]
  },
  {
   "attachments": {},
   "cell_type": "markdown",
   "metadata": {},
   "source": [
    "Note: almost every output from here on are Pandas dataframe."
   ]
  },
  {
   "attachments": {},
   "cell_type": "markdown",
   "metadata": {},
   "source": [
    "### **ONE_LSP_RPV_DECAY_DICT**\n",
    "It contains all information about the possibe decays of all the LSPs"
   ]
  },
  {
   "cell_type": "code",
   "execution_count": null,
   "metadata": {},
   "outputs": [],
   "source": [
    "rpv.ONE_LSP_RPV_DECAY_DICT[\"LLE\"]\n"
   ]
  },
  {
   "cell_type": "code",
   "execution_count": null,
   "metadata": {},
   "outputs": [],
   "source": [
    "rpv.ONE_LSP_RPV_DECAY_DICT[\"LQD\"]"
   ]
  },
  {
   "cell_type": "code",
   "execution_count": null,
   "metadata": {},
   "outputs": [],
   "source": [
    "rpv.ONE_LSP_RPV_DECAY_DICT[\"UDD\"]"
   ]
  },
  {
   "attachments": {},
   "cell_type": "markdown",
   "metadata": {},
   "source": [
    "### Understanding Signature and Chains syntax\n"
   ]
  },
  {
   "cell_type": "code",
   "execution_count": null,
   "metadata": {},
   "outputs": [],
   "source": [
    "(rpv.find_one_lsp_from_signature(\"jjllX\",rpv_coup=\"LLE\",category=\"L L E\").iloc[1])"
   ]
  },
  {
   "attachments": {},
   "cell_type": "markdown",
   "metadata": {},
   "source": [
    "\n",
    "#### Example Decay Chain <br>\n",
    "    'W^0 -- (j) -- q -- (j) -- B -- (l) -- e -- [l,X]'\n",
    "- () and [] are in signature syntax <br>\n",
    "- others are in sparticle syntax <br>\n",
    "\n",
    "So, going from the left to right, we started with a  \n",
    "1. a Wino, **W^0** that decays to 1/2gen squark, **q** while producing a jet, **(j)**\n",
    "2. the squark, **q** decays to a Bino, **B** while producing another jet **(j)**\n",
    "3. the Bino, **B** decays to a RH 1/2gen sleptons, **e** while producing a light lepton **(l)**\n",
    "4. and the sleptons, **e** finally decay to lepton and missing transverse energy  **[l,X]**\n",
    "\n",
    "From all the signatures combined, one can see that we have:\n",
    "- in our syntax: **jjllX** \n",
    "- or an easy-read syntax: **2j_l + 2l + MET**"
   ]
  },
  {
   "attachments": {},
   "cell_type": "markdown",
   "metadata": {},
   "source": [
    "![image](./example.png)"
   ]
  },
  {
   "cell_type": "code",
   "execution_count": null,
   "metadata": {},
   "outputs": [],
   "source": []
  },
  {
   "attachments": {},
   "cell_type": "markdown",
   "metadata": {},
   "source": [
    "### **TWO_LSP_RPV_DECAY_DICT**\n",
    "It contains all information about the possibe signatures arising from pair production of two LSPs"
   ]
  },
  {
   "cell_type": "code",
   "execution_count": 25,
   "metadata": {},
   "outputs": [
    {
     "data": {
      "text/html": [
       "<div>\n",
       "<style scoped>\n",
       "    .dataframe tbody tr th:only-of-type {\n",
       "        vertical-align: middle;\n",
       "    }\n",
       "\n",
       "    .dataframe tbody tr th {\n",
       "        vertical-align: top;\n",
       "    }\n",
       "\n",
       "    .dataframe thead th {\n",
       "        text-align: right;\n",
       "    }\n",
       "</style>\n",
       "<table border=\"1\" class=\"dataframe\">\n",
       "  <thead>\n",
       "    <tr style=\"text-align: right;\">\n",
       "      <th></th>\n",
       "      <th>CAT</th>\n",
       "      <th>LSP A</th>\n",
       "      <th>LSP B</th>\n",
       "      <th>Signature A</th>\n",
       "      <th>Signature B</th>\n",
       "      <th>Chain A</th>\n",
       "      <th>Chain B</th>\n",
       "      <th>Signatures</th>\n",
       "      <th>Signature A (ER)</th>\n",
       "      <th>Signature B (ER)</th>\n",
       "      <th>Signatures (ER)</th>\n",
       "    </tr>\n",
       "  </thead>\n",
       "  <tbody>\n",
       "    <tr>\n",
       "      <th>0</th>\n",
       "      <td>L L E</td>\n",
       "      <td>B</td>\n",
       "      <td>B</td>\n",
       "      <td>llX</td>\n",
       "      <td>llX</td>\n",
       "      <td>[B -- (l) -- l -- [X,l], B -- (X) -- nu -- [l,...</td>\n",
       "      <td>[B -- (l) -- l -- [X,l], B -- (X) -- nu -- [l,...</td>\n",
       "      <td>llllX</td>\n",
       "      <td>2l + MET</td>\n",
       "      <td>2l + MET</td>\n",
       "      <td>4l + MET</td>\n",
       "    </tr>\n",
       "    <tr>\n",
       "      <th>1</th>\n",
       "      <td>L L E</td>\n",
       "      <td>W^+</td>\n",
       "      <td>W^+</td>\n",
       "      <td>TllX</td>\n",
       "      <td>TllX</td>\n",
       "      <td>[W^+ -- (X) -- tau_L -- (T) -- B -- (l) -- e -...</td>\n",
       "      <td>[W^+ -- (X) -- tau_L -- (T) -- B -- (l) -- e -...</td>\n",
       "      <td>TTllllX</td>\n",
       "      <td>2l + 1tau + MET</td>\n",
       "      <td>2l + 1tau + MET</td>\n",
       "      <td>4l + 2tau + MET</td>\n",
       "    </tr>\n",
       "    <tr>\n",
       "      <th>2</th>\n",
       "      <td>L L E</td>\n",
       "      <td>W^+</td>\n",
       "      <td>W^+</td>\n",
       "      <td>TllX</td>\n",
       "      <td>vvllX</td>\n",
       "      <td>[W^+ -- (X) -- tau_L -- (T) -- B -- (l) -- e -...</td>\n",
       "      <td>[W^+ -- (v) -- H^+ -- (v) -- B -- (l) -- e -- ...</td>\n",
       "      <td>vvTllllX</td>\n",
       "      <td>2l + 1tau + MET</td>\n",
       "      <td>2l + 2v + MET</td>\n",
       "      <td>4l + 1tau + 2v + MET</td>\n",
       "    </tr>\n",
       "    <tr>\n",
       "      <th>3</th>\n",
       "      <td>L L E</td>\n",
       "      <td>W^+</td>\n",
       "      <td>W^+</td>\n",
       "      <td>TllX</td>\n",
       "      <td>tbllX</td>\n",
       "      <td>[W^+ -- (X) -- tau_L -- (T) -- B -- (l) -- e -...</td>\n",
       "      <td>[W^+ -- (t) -- b_L -- (b) -- B -- (l) -- e -- ...</td>\n",
       "      <td>tbTllllX</td>\n",
       "      <td>2l + 1tau + MET</td>\n",
       "      <td>1t + 1b + 2l + MET</td>\n",
       "      <td>1t + 1b + 4l + 1tau + MET</td>\n",
       "    </tr>\n",
       "    <tr>\n",
       "      <th>4</th>\n",
       "      <td>L L E</td>\n",
       "      <td>W^+</td>\n",
       "      <td>W^+</td>\n",
       "      <td>TllX</td>\n",
       "      <td>lllX</td>\n",
       "      <td>[W^+ -- (X) -- tau_L -- (T) -- B -- (l) -- e -...</td>\n",
       "      <td>[W^+ -- (X) -- l -- (l) -- B -- (l) -- e -- [l...</td>\n",
       "      <td>TlllllX</td>\n",
       "      <td>2l + 1tau + MET</td>\n",
       "      <td>3l + MET</td>\n",
       "      <td>5l + 1tau + MET</td>\n",
       "    </tr>\n",
       "    <tr>\n",
       "      <th>...</th>\n",
       "      <td>...</td>\n",
       "      <td>...</td>\n",
       "      <td>...</td>\n",
       "      <td>...</td>\n",
       "      <td>...</td>\n",
       "      <td>...</td>\n",
       "      <td>...</td>\n",
       "      <td>...</td>\n",
       "      <td>...</td>\n",
       "      <td>...</td>\n",
       "      <td>...</td>\n",
       "    </tr>\n",
       "    <tr>\n",
       "      <th>2205</th>\n",
       "      <td>L_3 L E_3</td>\n",
       "      <td>tau</td>\n",
       "      <td>tau</td>\n",
       "      <td>TTlX</td>\n",
       "      <td>TTTX</td>\n",
       "      <td>[tau -- (T) -- B -- (l) -- l -- [X,T], tau -- ...</td>\n",
       "      <td>[tau -- (T) -- B -- (T) -- tau_L -- [X,T], tau...</td>\n",
       "      <td>TTTTTlX</td>\n",
       "      <td>1l + 2tau + MET</td>\n",
       "      <td>3tau + MET</td>\n",
       "      <td>1l + 5tau + MET</td>\n",
       "    </tr>\n",
       "    <tr>\n",
       "      <th>2206</th>\n",
       "      <td>L_3 L E_3</td>\n",
       "      <td>tau</td>\n",
       "      <td>tau</td>\n",
       "      <td>TTTX</td>\n",
       "      <td>TX</td>\n",
       "      <td>[tau -- (T) -- B -- (T) -- tau_L -- [X,T], tau...</td>\n",
       "      <td>[tau -- [T,X]]</td>\n",
       "      <td>TTTTX</td>\n",
       "      <td>3tau + MET</td>\n",
       "      <td>1tau + MET</td>\n",
       "      <td>4tau + MET</td>\n",
       "    </tr>\n",
       "    <tr>\n",
       "      <th>2207</th>\n",
       "      <td>L_3 L E_3</td>\n",
       "      <td>tau</td>\n",
       "      <td>tau</td>\n",
       "      <td>TTTX</td>\n",
       "      <td>lX</td>\n",
       "      <td>[tau -- (T) -- B -- (T) -- tau_L -- [X,T], tau...</td>\n",
       "      <td>[tau -- [l,X]]</td>\n",
       "      <td>TTTlX</td>\n",
       "      <td>3tau + MET</td>\n",
       "      <td>1l + MET</td>\n",
       "      <td>1l + 3tau + MET</td>\n",
       "    </tr>\n",
       "    <tr>\n",
       "      <th>2208</th>\n",
       "      <td>L_3 L E_3</td>\n",
       "      <td>tau</td>\n",
       "      <td>tau</td>\n",
       "      <td>TTTX</td>\n",
       "      <td>TTlX</td>\n",
       "      <td>[tau -- (T) -- B -- (T) -- tau_L -- [X,T], tau...</td>\n",
       "      <td>[tau -- (T) -- B -- (l) -- l -- [X,T], tau -- ...</td>\n",
       "      <td>TTTTTlX</td>\n",
       "      <td>3tau + MET</td>\n",
       "      <td>1l + 2tau + MET</td>\n",
       "      <td>1l + 5tau + MET</td>\n",
       "    </tr>\n",
       "    <tr>\n",
       "      <th>2209</th>\n",
       "      <td>L_3 L E_3</td>\n",
       "      <td>tau</td>\n",
       "      <td>tau</td>\n",
       "      <td>TTTX</td>\n",
       "      <td>TTTX</td>\n",
       "      <td>[tau -- (T) -- B -- (T) -- tau_L -- [X,T], tau...</td>\n",
       "      <td>[tau -- (T) -- B -- (T) -- tau_L -- [X,T], tau...</td>\n",
       "      <td>TTTTTTX</td>\n",
       "      <td>3tau + MET</td>\n",
       "      <td>3tau + MET</td>\n",
       "      <td>6tau + MET</td>\n",
       "    </tr>\n",
       "  </tbody>\n",
       "</table>\n",
       "<p>2210 rows × 11 columns</p>\n",
       "</div>"
      ],
      "text/plain": [
       "            CAT LSP A LSP B Signature A Signature B  \\\n",
       "0         L L E     B     B         llX         llX   \n",
       "1         L L E   W^+   W^+        TllX        TllX   \n",
       "2         L L E   W^+   W^+        TllX       vvllX   \n",
       "3         L L E   W^+   W^+        TllX       tbllX   \n",
       "4         L L E   W^+   W^+        TllX        lllX   \n",
       "...         ...   ...   ...         ...         ...   \n",
       "2205  L_3 L E_3   tau   tau        TTlX        TTTX   \n",
       "2206  L_3 L E_3   tau   tau        TTTX          TX   \n",
       "2207  L_3 L E_3   tau   tau        TTTX          lX   \n",
       "2208  L_3 L E_3   tau   tau        TTTX        TTlX   \n",
       "2209  L_3 L E_3   tau   tau        TTTX        TTTX   \n",
       "\n",
       "                                                Chain A  \\\n",
       "0     [B -- (l) -- l -- [X,l], B -- (X) -- nu -- [l,...   \n",
       "1     [W^+ -- (X) -- tau_L -- (T) -- B -- (l) -- e -...   \n",
       "2     [W^+ -- (X) -- tau_L -- (T) -- B -- (l) -- e -...   \n",
       "3     [W^+ -- (X) -- tau_L -- (T) -- B -- (l) -- e -...   \n",
       "4     [W^+ -- (X) -- tau_L -- (T) -- B -- (l) -- e -...   \n",
       "...                                                 ...   \n",
       "2205  [tau -- (T) -- B -- (l) -- l -- [X,T], tau -- ...   \n",
       "2206  [tau -- (T) -- B -- (T) -- tau_L -- [X,T], tau...   \n",
       "2207  [tau -- (T) -- B -- (T) -- tau_L -- [X,T], tau...   \n",
       "2208  [tau -- (T) -- B -- (T) -- tau_L -- [X,T], tau...   \n",
       "2209  [tau -- (T) -- B -- (T) -- tau_L -- [X,T], tau...   \n",
       "\n",
       "                                                Chain B Signatures  \\\n",
       "0     [B -- (l) -- l -- [X,l], B -- (X) -- nu -- [l,...      llllX   \n",
       "1     [W^+ -- (X) -- tau_L -- (T) -- B -- (l) -- e -...    TTllllX   \n",
       "2     [W^+ -- (v) -- H^+ -- (v) -- B -- (l) -- e -- ...   vvTllllX   \n",
       "3     [W^+ -- (t) -- b_L -- (b) -- B -- (l) -- e -- ...   tbTllllX   \n",
       "4     [W^+ -- (X) -- l -- (l) -- B -- (l) -- e -- [l...    TlllllX   \n",
       "...                                                 ...        ...   \n",
       "2205  [tau -- (T) -- B -- (T) -- tau_L -- [X,T], tau...    TTTTTlX   \n",
       "2206                                     [tau -- [T,X]]      TTTTX   \n",
       "2207                                     [tau -- [l,X]]      TTTlX   \n",
       "2208  [tau -- (T) -- B -- (l) -- l -- [X,T], tau -- ...    TTTTTlX   \n",
       "2209  [tau -- (T) -- B -- (T) -- tau_L -- [X,T], tau...    TTTTTTX   \n",
       "\n",
       "      Signature A (ER)     Signature B (ER)             Signatures (ER)  \n",
       "0             2l + MET             2l + MET                    4l + MET  \n",
       "1      2l + 1tau + MET      2l + 1tau + MET             4l + 2tau + MET  \n",
       "2      2l + 1tau + MET        2l + 2v + MET        4l + 1tau + 2v + MET  \n",
       "3      2l + 1tau + MET   1t + 1b + 2l + MET   1t + 1b + 4l + 1tau + MET  \n",
       "4      2l + 1tau + MET             3l + MET             5l + 1tau + MET  \n",
       "...                ...                  ...                         ...  \n",
       "2205   1l + 2tau + MET           3tau + MET             1l + 5tau + MET  \n",
       "2206        3tau + MET           1tau + MET                  4tau + MET  \n",
       "2207        3tau + MET             1l + MET             1l + 3tau + MET  \n",
       "2208        3tau + MET      1l + 2tau + MET             1l + 5tau + MET  \n",
       "2209        3tau + MET           3tau + MET                  6tau + MET  \n",
       "\n",
       "[2210 rows x 11 columns]"
      ]
     },
     "execution_count": 25,
     "metadata": {},
     "output_type": "execute_result"
    }
   ],
   "source": [
    "rpv.TWO_LSP_RPV_DECAY_DICT[\"LLE\"]"
   ]
  },
  {
   "cell_type": "code",
   "execution_count": null,
   "metadata": {},
   "outputs": [],
   "source": [
    "rpv.TWO_LSP_RPV_DECAY_DICT[\"LQD\"]"
   ]
  },
  {
   "cell_type": "code",
   "execution_count": null,
   "metadata": {},
   "outputs": [],
   "source": [
    "rpv.TWO_LSP_RPV_DECAY_DICT[\"UDD\"]"
   ]
  },
  {
   "attachments": {},
   "cell_type": "markdown",
   "metadata": {},
   "source": [
    "As one can see, the total amount of data can be a lot. (And it can be even more, if you generate the data yourself with different input tables. Refer paper for more details)\n",
    "\n",
    "# Functions\n",
    "To fully utilize the tables, we provide a few functions:\n",
    "\n",
    "### 1. **find_one_lsp_from_signature(signature,rpv_coup=\"ALL\",category=\"ALL\",filename=\"\",save_results=True,verbose=True)**\n",
    "- Inputs:\n",
    "  - **signature**    (str)  : inpput collider signature you want to know (refer syntax mentioned above)  <br> \n",
    "  - **rpv_coup**     (str)  : \"LLE\", \"LQD\", \"UDD\" or \"ALL\"(default)\n",
    "  - **category**     (str)  : any category name (refer syntax mentioned above) or \"ALL\"(default)\n",
    "  - **filename**     (str)  : file name is save_results is set to be True. (Default:  \"one_lsp_that_decays_to_\"+signature+\"_\"+rpv_coup+\"_\"+category.replace(\" \",\"\")+\".csv\")\n",
    "  - **save_results** (bool) : save output into a csv file. (Default: True)\n",
    "\n",
    "If you have a signature (eg. 2 jets(any) + 2 light leptons + MET), and you wanna know what LSP can decay to it, use: <br>\n"
   ]
  },
  {
   "cell_type": "code",
   "execution_count": null,
   "metadata": {},
   "outputs": [],
   "source": [
    "rpv.find_one_lsp_from_signature(\"JJLLX\")"
   ]
  },
  {
   "attachments": {},
   "cell_type": "markdown",
   "metadata": {},
   "source": [
    "There are cases where it might be too much possibilities.\n",
    "You can restrict the possibilities by providing which couplings and/or which categories:"
   ]
  },
  {
   "cell_type": "code",
   "execution_count": null,
   "metadata": {},
   "outputs": [],
   "source": [
    "rpv.find_one_lsp_from_signature(\"JJLLX\",\"LQD\")"
   ]
  },
  {
   "cell_type": "code",
   "execution_count": null,
   "metadata": {},
   "outputs": [],
   "source": [
    "rpv.find_one_lsp_from_signature(\"JJLLX\",\"LQD\", \"L_3 Q_3 D\")"
   ]
  },
  {
   "attachments": {},
   "cell_type": "markdown",
   "metadata": {},
   "source": [
    "Similary, one can use the case for two LSPs scenario\n",
    "\n",
    "### 2. **find_two_lsp_from_signature(signature,rpv_coup=\"ALL\",category=\"ALL\",filename=\"\",save_results=True,verbose=True)**\n",
    "- Inputs:\n",
    "  - **signature**    (str)  : inpput collider signature you want to know (refer syntax mentioned above)  <br> \n",
    "  - **rpv_coup**     (str)  : \"LLE\", \"LQD\", \"UDD\" or \"ALL\"(default)\n",
    "  - **category**     (str)  : any category name (refer syntax mentioned above) or \"ALL\"(default)\n",
    "  - **filename**     (str)  : file name is save_results is set to be True. (Default:  \"one_lsp_that_decays_to_\"+signature+\"_\"+rpv_coup+\"_\"+category.replace(\" \",\"\")+\".csv\")\n",
    "  - **save_results** (bool) : save output into a csv file. (Default: True)\n",
    "\n",
    "If you have a signature (eg. 2 jets(any) + 3 light leptons + MET), and you wanna know which pair production of LSPs can produce such signature, use: <br>\n"
   ]
  },
  {
   "cell_type": "code",
   "execution_count": null,
   "metadata": {},
   "outputs": [],
   "source": [
    "display(rpv.find_two_lsp_from_signature(\"JJLLLX\"))\n"
   ]
  },
  {
   "attachments": {},
   "cell_type": "markdown",
   "metadata": {},
   "source": [
    "Alternatively, you can also look at what are all the possible decays that one LSP can have\n",
    "\n",
    "### 3.**find_signatures_from_one_lsp(lsp,rpv_coup=\"ALL\",category=\"ALL\",filename=\"\",save_results=True,verbose=True):**\n",
    "Input\n",
    "  - **lsp**          (str)  : input LSP sparticle (refer SPARTICLE syntax mentioned above) \n",
    "  - **rpv_coup**     (str)  : \"LLE\", \"LQD\", \"UDD\" or \"ALL\"(default)\n",
    "  - **category**     (str)  : any category name (refer CATEGORY syntax mentioned above) or \"ALL\"(default)\n",
    "  - **filename**     (str)  : file name is save_results is set to be True. (Default:  \"one_lsp_that_decays_to_\"+signature+\"_\"+rpv_coup+\"_\"+category.replace(\" \",\"\")+\".csv\")\n",
    "  - **save_results** (bool) : save output into a csv file. (Default: True)\n",
    "save_results=True,verbose=True\n"
   ]
  },
  {
   "cell_type": "code",
   "execution_count": null,
   "metadata": {},
   "outputs": [],
   "source": [
    "rpv.find_signatures_from_one_lsp(\"G\")\n"
   ]
  },
  {
   "attachments": {},
   "cell_type": "markdown",
   "metadata": {},
   "source": [
    "Similary for the two LSP scenario\n",
    "\n",
    "### 4.**find_signatures_from_two_lsp(lspa,lspb=\"\",rpv_coup=\"ALL\",category=\"ALL\",filename=\"\",save_results=True,verbose=True):**\n",
    "Input\n",
    "  - **lspa**          (str)  : input LSP A sparticle (refer SPARTICLE syntax mentioned above) \n",
    "  - **lspb**          (str)  : input LSP B sparticle (refer SPARTICLE syntax mentioned above) Default: same as LSP A. Cases where there are SU(2) mass degenerate sparticles, you can include them.\n",
    "  - **rpv_coup**     (str)  : \"LLE\", \"LQD\", \"UDD\" or \"ALL\"(default)\n",
    "  - **category**     (str)  : any category name (refer CATEGORY syntax mentioned above) or \"ALL\"(default)\n",
    "  - **filename**     (str)  : file name is save_results is set to be True. (Default:  \"one_lsp_that_decays_to_\"+signature+\"_\"+rpv_coup+\"_\"+category.replace(\" \",\"\")+\".csv\")\n",
    "  - **save_results** (bool) : save output into a csv file. (Default: True)\n"
   ]
  },
  {
   "cell_type": "code",
   "execution_count": null,
   "metadata": {},
   "outputs": [],
   "source": [
    "display(rpv.find_signatures_from_two_lsp(\"G\"))"
   ]
  },
  {
   "cell_type": "code",
   "execution_count": null,
   "metadata": {},
   "outputs": [],
   "source": [
    "display(rpv.find_signatures_from_two_lsp(\"W^0\",\"W^+\"))"
   ]
  },
  {
   "attachments": {},
   "cell_type": "markdown",
   "metadata": {},
   "source": [
    "# Signature Category Dictionary"
   ]
  },
  {
   "attachments": {},
   "cell_type": "markdown",
   "metadata": {},
   "source": [
    "### **rpv.ONE_LSP_SIG_CAT_DICT** \n",
    "categorized all possible final states of LSP decay based on their RPV categories"
   ]
  },
  {
   "cell_type": "code",
   "execution_count": null,
   "metadata": {},
   "outputs": [],
   "source": [
    "rpv.ONE_LSP_SIG_CAT_DICT[\"LLE\"]\n"
   ]
  },
  {
   "cell_type": "code",
   "execution_count": null,
   "metadata": {},
   "outputs": [],
   "source": [
    "rpv.ONE_LSP_SIG_CAT_DICT[\"LQD\"]\n"
   ]
  },
  {
   "cell_type": "code",
   "execution_count": null,
   "metadata": {},
   "outputs": [],
   "source": [
    "rpv.ONE_LSP_SIG_CAT_DICT[\"UDD\"]\n"
   ]
  },
  {
   "attachments": {},
   "cell_type": "markdown",
   "metadata": {},
   "source": [
    "### **rpv.TWO_LSP_SIG_CAT_DICT** \n",
    "captures all possible signature of from pair production of LSP categorized into all the categories <br>"
   ]
  },
  {
   "cell_type": "code",
   "execution_count": null,
   "metadata": {},
   "outputs": [],
   "source": [
    "rpv.TWO_LSP_SIG_CAT_DICT[\"LLE\"]\n"
   ]
  },
  {
   "cell_type": "code",
   "execution_count": null,
   "metadata": {},
   "outputs": [],
   "source": [
    "rpv.TWO_LSP_SIG_CAT_DICT[\"LQD\"]\n"
   ]
  },
  {
   "cell_type": "code",
   "execution_count": null,
   "metadata": {},
   "outputs": [],
   "source": [
    "rpv.TWO_LSP_SIG_CAT_DICT[\"UDD\"]\n"
   ]
  },
  {
   "attachments": {},
   "cell_type": "markdown",
   "metadata": {},
   "source": [
    "### **rpv.TWO_LSP_SIG_CAT_COMPLETE_DICT** \n",
    "Complete data used to generate **rpv.TWO_LSP_SIG_CAT_DICT**. \n",
    "Note: Computationally expensive to get proper minimal set, use the one that was produced and generate manually only if neccesary.\n",
    "- LLE 2mins  <br>\n",
    "- LQD 30mins<br>\n",
    "- UDD 2hours <br>\n"
   ]
  },
  {
   "cell_type": "code",
   "execution_count": null,
   "metadata": {},
   "outputs": [],
   "source": [
    "rpv.TWO_LSP_SIG_CAT_COMPLETE_DICT[\"LLE\"]"
   ]
  },
  {
   "attachments": {},
   "cell_type": "markdown",
   "metadata": {},
   "source": [
    "# Example on how to cross check with results on our paper"
   ]
  },
  {
   "cell_type": "code",
   "execution_count": null,
   "metadata": {},
   "outputs": [],
   "source": [
    "#Looking at Table 2 of the paper\n",
    "LSP = \"G\"\n",
    "insignature = \"llllJJJJX\"\n",
    "incategory = \"L L E\"\n",
    "x = rpv.find_two_lsp_from_signature(insignature,category=incategory)\n",
    "display(x)\n",
    "if len(x[x[\"LSP A\"] == LSP][\"Signatures\"].values) > 1:\n",
    "    print(rpv.get_common(x[x[\"LSP A\"] == LSP][\"Signatures\"].values))\n",
    "    print(rpv.minimal_sets_simplified_signatures(x[x[\"LSP A\"] == LSP][\"Signatures\"].values))"
   ]
  },
  {
   "attachments": {},
   "cell_type": "markdown",
   "metadata": {},
   "source": [
    "# Future updates:\n",
    "- Include charges of final state objects (Need to rewrite code base, in progress)\n",
    "- \n",
    "- Using all possible exact vertices instead of not_suppressed table (Need to rewrite code base, in progress)\n",
    "- Incorporate code with large RPV cases (Depends on how that project goes)\n"
   ]
  },
  {
   "cell_type": "code",
   "execution_count": null,
   "metadata": {},
   "outputs": [],
   "source": []
  },
  {
   "attachments": {},
   "cell_type": "markdown",
   "metadata": {},
   "source": [
    "# MISC Functions and Dictionaries"
   ]
  },
  {
   "attachments": {},
   "cell_type": "markdown",
   "metadata": {},
   "source": [
    "If you wanna get transition signature between sparticles based on your input tables:"
   ]
  },
  {
   "cell_type": "code",
   "execution_count": null,
   "metadata": {},
   "outputs": [],
   "source": [
    "rpv.get_transition_sig(\"W^0\",\"G\")"
   ]
  },
  {
   "attachments": {},
   "cell_type": "markdown",
   "metadata": {},
   "source": [
    "If you wanna find the superset that include your input signature"
   ]
  },
  {
   "cell_type": "code",
   "execution_count": null,
   "metadata": {},
   "outputs": [],
   "source": [
    "rpv.get_all_superset(\"jjlE\",True,True,True)"
   ]
  },
  {
   "attachments": {},
   "cell_type": "markdown",
   "metadata": {},
   "source": [
    "If you wanna find all possible subsets of your signature"
   ]
  },
  {
   "cell_type": "code",
   "execution_count": null,
   "metadata": {},
   "outputs": [],
   "source": [
    "rpv.get_subsets([\"JJl\",\"JJE\"])"
   ]
  },
  {
   "attachments": {},
   "cell_type": "markdown",
   "metadata": {},
   "source": [
    "If you wanna convert the code signature syntax to something easier to understand:"
   ]
  },
  {
   "cell_type": "code",
   "execution_count": null,
   "metadata": {},
   "outputs": [],
   "source": [
    "rpv.rmisc.easy_read(\"jjJlTTE\")"
   ]
  },
  {
   "attachments": {},
   "cell_type": "markdown",
   "metadata": {},
   "source": [
    "If you wanna look up the input transitions tables:"
   ]
  },
  {
   "cell_type": "code",
   "execution_count": null,
   "metadata": {},
   "outputs": [],
   "source": [
    "rpv.NOTSUP_TABLE"
   ]
  },
  {
   "cell_type": "code",
   "execution_count": null,
   "metadata": {},
   "outputs": [],
   "source": [
    "rpv.SUP_TABLE"
   ]
  },
  {
   "cell_type": "code",
   "execution_count": null,
   "metadata": {},
   "outputs": [],
   "source": [
    "rpv.STRSUP_TABLE"
   ]
  },
  {
   "attachments": {},
   "cell_type": "markdown",
   "metadata": {},
   "source": [
    "# Advanced Functions"
   ]
  },
  {
   "attachments": {},
   "cell_type": "markdown",
   "metadata": {},
   "source": [
    "When using different input tables, it is important to regenerate all the tables used so far.\n",
    "- rpv.generate_transition_df(nv=1,save_csv=False) <br>\n",
    "  - --> Default nv=1:<br>\n",
    "    - when generating the table, we have used only *vertices* in the table_notsup.csv (ie transitions that are not suppressed).  <br>\n",
    "    - By default, we only look for the minimal non-vanishing vertices when constructing all the tables and dictionaries. However, it is also possible to include all possible chains up to  3 *vertices* (nv=3). <br>\n",
    "    - This would lead to more possible chains. And more possible signatures in most (if not all) scenario<br>\n",
    "  - --> This generate main table for generation of evey other table. \n",
    "  - --> Switch on same_csv=True, to ensure results are saved. <br>\n",
    "<br>\n",
    "  \n",
    "- rpv.generate_transitions_table()<br>\n",
    "  --> generate transitions_table<br>\n",
    "  \n",
    "- rpv.generate_LSP_RPV_decay_table(rpv_coup):<br>\n",
    "  --> generate ONE_LSP_RPV_decay_table<br>\n",
    "  \n",
    "- rpv.generate_LSP_sig_cat_table(rpv_coup)<br>\n",
    "  --> generate ONE_LSP_sig_cat_table<br>\n",
    "  \n",
    "- rpv.generate_2LSP_RPV_decay_table(rpv_coup)<br>\n",
    "  --> generate 2LSP_RPV_decay_table<br>\n",
    "  \n",
    "- rpv.generate_2LSP_sig_complete(rpv_coup)<br>\n",
    "  --> generate 2LSP_sig_complete<br>\n",
    "  --> **##NOT AVAILABLE YET, WORK IN PROGRESS##** computationally expensive to get proper minimal set\n",
    "  "
   ]
  },
  {
   "attachments": {},
   "cell_type": "markdown",
   "metadata": {},
   "source": [
    "### **rpv.TRANSITION_DF**\n",
    "Main table generated from inputs transition tables. All other tables are generated from this"
   ]
  },
  {
   "cell_type": "code",
   "execution_count": null,
   "metadata": {},
   "outputs": [],
   "source": [
    "rpv.TRANSITION_DF"
   ]
  },
  {
   "attachments": {},
   "cell_type": "markdown",
   "metadata": {},
   "source": [
    "### **rpv.TRANSITIONS_TABLE**\n",
    "Compiled Transitions tables"
   ]
  },
  {
   "cell_type": "code",
   "execution_count": null,
   "metadata": {},
   "outputs": [],
   "source": [
    "rpv.TRANSITIONS_TABLE"
   ]
  },
  {
   "attachments": {},
   "cell_type": "markdown",
   "metadata": {},
   "source": [
    "### **rpv.sanity_checks()**\n",
    "If one modified any of the input tables or regenerate tables with different number of vertices, it is a good thing to do some sanity checks"
   ]
  },
  {
   "cell_type": "code",
   "execution_count": null,
   "metadata": {},
   "outputs": [],
   "source": [
    "rpv.sanity_checks()"
   ]
  },
  {
   "cell_type": "code",
   "execution_count": null,
   "metadata": {},
   "outputs": [],
   "source": []
  }
 ],
 "metadata": {
  "kernelspec": {
   "display_name": "Python 3",
   "language": "python",
   "name": "python3"
  },
  "language_info": {
   "codemirror_mode": {
    "name": "ipython",
    "version": 3
   },
   "file_extension": ".py",
   "mimetype": "text/x-python",
   "name": "python",
   "nbconvert_exporter": "python",
   "pygments_lexer": "ipython3",
   "version": "3.8.10"
  },
  "orig_nbformat": 4
 },
 "nbformat": 4,
 "nbformat_minor": 2
}

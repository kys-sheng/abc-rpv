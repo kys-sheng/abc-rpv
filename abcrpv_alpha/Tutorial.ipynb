{
 "cells": [
  {
   "cell_type": "code",
   "execution_count": 5,
   "metadata": {},
   "outputs": [],
   "source": [
    "import abcrpv as rpv"
   ]
  },
  {
   "attachments": {},
   "cell_type": "markdown",
   "metadata": {},
   "source": [
    "# Introduction on syntax"
   ]
  },
  {
   "attachments": {},
   "cell_type": "markdown",
   "metadata": {},
   "source": [
    "### Sparticles\n",
    "Notation used in for sparticles in code:\n",
    "- \"B\",      = Bino               <br>\n",
    "- \"W^+\"    = Charged Wino       <br>\n",
    "- \"W^0\"    = Neutral Wino       <br>\n",
    "- \"G\"      = Gluino             <br>\n",
    "- \"H^+\"    = Charged Higgsino   <br>\n",
    "- \"H^0\"    = Neutral Higgsino   <br>\n",
    "- \"q\"      = u_L, d_L, c_L, s_L <br>\n",
    "- \"d\"      = d_R, s_R           <br>\n",
    "- \"u\"      = u_R, c_R           <br>\n",
    "- \"l\"      = e_L, mu_L          <br>\n",
    "- \"nu\"     = nu_e, nu_mu        <br>\n",
    "- \"e\"      = e_R, mu_R          <br>\n",
    "- \"t_L\"    = t_L                <br>\n",
    "- \"b_L\"    = b_L                <br>\n",
    "- \"t\"      = t_R                <br>\n",
    "- \"b\"      = b_R                <br>\n",
    "- \"tau_L\"  = tau_L              <br>\n",
    "- \"tau\"     = tau_R              <br>\n",
    "- \"nu_tau\" = nu_tau             <br>\n",
    "\n",
    "You can use **rdef.SPARTICLES** to show all the possibilities\n"
   ]
  },
  {
   "cell_type": "code",
   "execution_count": null,
   "metadata": {},
   "outputs": [],
   "source": [
    "print(rpv.rdef.SPARTICLES)"
   ]
  },
  {
   "attachments": {},
   "cell_type": "markdown",
   "metadata": {},
   "source": [
    "### Final State Object\n",
    "Notation used in for fiinal state object in code (one-char syntax):<br>\n",
    "\"v\" = Massive Bosons  (W,Z,H)  \n",
    "\"J\" = jet             (u, d, c, s, t, b )         \n",
    "\"3\" = 3rd gen jet     (t, b )         \n",
    "\"t\" = top             (t)         \n",
    "\"b\" = bottom jet      (b)                 \n",
    "\"j\" = light jet       (u, d, c, s)                 \n",
    "\"L\" = charged leptons (e, mu, tau )                     \n",
    "\"l\" = light lepton    (e, mu )                     \n",
    "\"T\" = tau             (tau)         \n",
    "\"E\" = MET             (nu)    \n",
    "\n",
    "You can use **rdef.FINAL_STATE** to show all the possibilities"
   ]
  },
  {
   "cell_type": "code",
   "execution_count": null,
   "metadata": {},
   "outputs": [],
   "source": [
    "rpv.rdef.FINAL_STATE"
   ]
  },
  {
   "attachments": {},
   "cell_type": "markdown",
   "metadata": {},
   "source": [
    "# RPV Categories\n",
    "\n",
    "**rdef.CAT_DICT** is a dictionary that contains all the catoegories in each of the RPV couplings."
   ]
  },
  {
   "cell_type": "code",
   "execution_count": null,
   "metadata": {},
   "outputs": [],
   "source": [
    "print(rpv.rdef.CAT_DICT[\"LLE\"])\n",
    "print(rpv.rdef.CAT_DICT[\"LQD\"])\n",
    "print(rpv.rdef.CAT_DICT[\"UDD\"])"
   ]
  },
  {
   "attachments": {},
   "cell_type": "markdown",
   "metadata": {},
   "source": [
    "# Dictionaries"
   ]
  },
  {
   "attachments": {},
   "cell_type": "markdown",
   "metadata": {},
   "source": [
    "Note: almost every output from here on are Pandas dataframe."
   ]
  },
  {
   "attachments": {},
   "cell_type": "markdown",
   "metadata": {},
   "source": [
    "### **ONE_LSP_RPV_DECAY_DICT**\n",
    "It contains all information about the possibe decays of all the LSPs"
   ]
  },
  {
   "cell_type": "code",
   "execution_count": null,
   "metadata": {},
   "outputs": [],
   "source": [
    "rpv.ONE_LSP_RPV_DECAY_DICT[\"LLE\"]\n"
   ]
  },
  {
   "cell_type": "code",
   "execution_count": null,
   "metadata": {},
   "outputs": [],
   "source": [
    "rpv.ONE_LSP_RPV_DECAY_DICT[\"LQD\"]"
   ]
  },
  {
   "cell_type": "code",
   "execution_count": null,
   "metadata": {},
   "outputs": [],
   "source": [
    "rpv.ONE_LSP_RPV_DECAY_DICT[\"UDD\"]"
   ]
  },
  {
   "attachments": {},
   "cell_type": "markdown",
   "metadata": {},
   "source": [
    "### Understanding Signature and Chains syntax\n"
   ]
  },
  {
   "cell_type": "code",
   "execution_count": null,
   "metadata": {},
   "outputs": [],
   "source": [
    "(rpv.find_one_lsp_from_signature(\"jjllE\",rpv_coup=\"LLE\",category=\"L L E\").iloc[1])"
   ]
  },
  {
   "attachments": {},
   "cell_type": "markdown",
   "metadata": {},
   "source": [
    "\n",
    "Example Decay Chain <br>\n",
    "    'W^0 -- (j) -- q -- (j) -- B -- (l) -- e -- [l,E]'\n",
    "- () and [] are in signature syntax <br>\n",
    "- others are in sparticle syntax <br>\n",
    "\n",
    "So, going from the left to right, we started with a  \n",
    "1. a Wino, **W^0** that decays to 1/2gen squark, **q** while producing a jet, **(j)**\n",
    "2. the squark, **q** decays to a Bino, **B** while producing another jet **(j)**\n",
    "3. the Bino, **B** decays to a RH 1/2gen sleptons, **e** while producing a light lepton **(l)**\n",
    "4. and the sleptons, **e** finally decay to lepton and missing transverse energy  **[l,E]**\n",
    "\n",
    "From all the signatures combined, one can see that we have:\n",
    "- in our syntax: **jjllE** \n",
    "- or an easy-read syntax: **2j_l + 2l + MET**"
   ]
  },
  {
   "cell_type": "code",
   "execution_count": null,
   "metadata": {},
   "outputs": [],
   "source": []
  },
  {
   "attachments": {},
   "cell_type": "markdown",
   "metadata": {},
   "source": [
    "### **TWO_LSP_RPV_DECAY_DICT**\n",
    "It contains all information about the possibe signatures arising from pair production of two LSPs"
   ]
  },
  {
   "cell_type": "code",
   "execution_count": null,
   "metadata": {},
   "outputs": [],
   "source": [
    "rpv.TWO_LSP_RPV_DECAY_DICT[\"LLE\"]"
   ]
  },
  {
   "cell_type": "code",
   "execution_count": null,
   "metadata": {},
   "outputs": [],
   "source": [
    "rpv.TWO_LSP_RPV_DECAY_DICT[\"LQD\"]"
   ]
  },
  {
   "cell_type": "code",
   "execution_count": null,
   "metadata": {},
   "outputs": [],
   "source": [
    "rpv.TWO_LSP_RPV_DECAY_DICT[\"UDD\"]"
   ]
  },
  {
   "attachments": {},
   "cell_type": "markdown",
   "metadata": {},
   "source": [
    "As one can see, the total amount of data can be a lot. (And it can be even more, if you generate the data yourself with different input tables. Refer paper for more details)\n",
    "\n",
    "# Functions\n",
    "To fully utilize the tables, we provide a few functions:\n",
    "\n",
    "### 1. **find_one_lsp_from_signature(signature,rpv_coup=\"ALL\",category=\"ALL\",filename=\"\",save_results=True,verbose=True)**\n",
    "- Inputs:\n",
    "  - **signature**    (str)  : inpput collider signature you want to know (refer syntax mentioned above)  <br> \n",
    "  - **rpv_coup**     (str)  : \"LLE\", \"LQD\", \"UDD\" or \"ALL\"(default)\n",
    "  - **category**     (str)  : any category name (refer syntax mentioned above) or \"ALL\"(default)\n",
    "  - **filename**     (str)  : file name is save_results is set to be True. (Default:  \"one_lsp_that_decays_to_\"+signature+\"_\"+rpv_coup+\"_\"+category.replace(\" \",\"\")+\".csv\")\n",
    "  - **save_results** (bool) : save output into a csv file. (Default: True)\n",
    "\n",
    "If you have a signature (eg. 2 jets(any) + 2 light leptons + MET), and you wanna know what LSP can decay to it, use: <br>\n"
   ]
  },
  {
   "cell_type": "code",
   "execution_count": null,
   "metadata": {},
   "outputs": [],
   "source": [
    "rpv.find_one_lsp_from_signature(\"JJLLE\")"
   ]
  },
  {
   "attachments": {},
   "cell_type": "markdown",
   "metadata": {},
   "source": [
    "There are cases where it might be too much possibilities.\n",
    "You can restrict the possibilities by providing which couplings and/or which categories:"
   ]
  },
  {
   "cell_type": "code",
   "execution_count": null,
   "metadata": {},
   "outputs": [],
   "source": [
    "rpv.find_one_lsp_from_signature(\"JJLLE\",\"LQD\")"
   ]
  },
  {
   "cell_type": "code",
   "execution_count": null,
   "metadata": {},
   "outputs": [],
   "source": [
    "rpv.find_one_lsp_from_signature(\"JJLLE\",\"LQD\", \"L_3 Q_3 D\")"
   ]
  },
  {
   "attachments": {},
   "cell_type": "markdown",
   "metadata": {},
   "source": [
    "Similary, one can use the case for two LSPs scenario\n",
    "\n",
    "### 2. **find_two_lsp_from_signature(signature,rpv_coup=\"ALL\",category=\"ALL\",filename=\"\",save_results=True,verbose=True)**\n",
    "- Inputs:\n",
    "  - **signature**    (str)  : inpput collider signature you want to know (refer syntax mentioned above)  <br> \n",
    "  - **rpv_coup**     (str)  : \"LLE\", \"LQD\", \"UDD\" or \"ALL\"(default)\n",
    "  - **category**     (str)  : any category name (refer syntax mentioned above) or \"ALL\"(default)\n",
    "  - **filename**     (str)  : file name is save_results is set to be True. (Default:  \"one_lsp_that_decays_to_\"+signature+\"_\"+rpv_coup+\"_\"+category.replace(\" \",\"\")+\".csv\")\n",
    "  - **save_results** (bool) : save output into a csv file. (Default: True)\n",
    "\n",
    "If you have a signature (eg. 2 jets(any) + 3 light leptons + MET), and you wanna know which pair production of LSPs can produce such signature, use: <br>\n"
   ]
  },
  {
   "cell_type": "code",
   "execution_count": null,
   "metadata": {},
   "outputs": [],
   "source": [
    "display(rpv.find_two_lsp_from_signature(\"JJLLLE\"))\n"
   ]
  },
  {
   "attachments": {},
   "cell_type": "markdown",
   "metadata": {},
   "source": [
    "Alternatively, you can also look at what are all the possible decays that one LSP can have\n",
    "\n",
    "### 3.**find_signatures_from_one_lsp(lsp,rpv_coup=\"ALL\",category=\"ALL\",filename=\"\",save_results=True,verbose=True):**\n",
    "Input\n",
    "  - **lsp**          (str)  : input LSP sparticle (refer SPARTICLE syntax mentioned above) \n",
    "  - **rpv_coup**     (str)  : \"LLE\", \"LQD\", \"UDD\" or \"ALL\"(default)\n",
    "  - **category**     (str)  : any category name (refer CATEGORY syntax mentioned above) or \"ALL\"(default)\n",
    "  - **filename**     (str)  : file name is save_results is set to be True. (Default:  \"one_lsp_that_decays_to_\"+signature+\"_\"+rpv_coup+\"_\"+category.replace(\" \",\"\")+\".csv\")\n",
    "  - **save_results** (bool) : save output into a csv file. (Default: True)\n",
    "save_results=True,verbose=True\n"
   ]
  },
  {
   "cell_type": "code",
   "execution_count": null,
   "metadata": {},
   "outputs": [],
   "source": [
    "rpv.find_signatures_from_one_lsp(\"G\")\n"
   ]
  },
  {
   "attachments": {},
   "cell_type": "markdown",
   "metadata": {},
   "source": [
    "Similary for the two LSP scenario\n",
    "\n",
    "### 4.**find_signatures_from_two_lsp(lspa,lspb=\"\",rpv_coup=\"ALL\",category=\"ALL\",filename=\"\",save_results=True,verbose=True):**\n",
    "Input\n",
    "  - **lspa**          (str)  : input LSP A sparticle (refer SPARTICLE syntax mentioned above) \n",
    "  - **lspb**          (str)  : input LSP B sparticle (refer SPARTICLE syntax mentioned above) Default: same as LSP A. Cases where there are SU(2) mass degenerate sparticles, you can include them.\n",
    "  - **rpv_coup**     (str)  : \"LLE\", \"LQD\", \"UDD\" or \"ALL\"(default)\n",
    "  - **category**     (str)  : any category name (refer CATEGORY syntax mentioned above) or \"ALL\"(default)\n",
    "  - **filename**     (str)  : file name is save_results is set to be True. (Default:  \"one_lsp_that_decays_to_\"+signature+\"_\"+rpv_coup+\"_\"+category.replace(\" \",\"\")+\".csv\")\n",
    "  - **save_results** (bool) : save output into a csv file. (Default: True)\n"
   ]
  },
  {
   "cell_type": "code",
   "execution_count": null,
   "metadata": {},
   "outputs": [],
   "source": [
    "display(rpv.find_signatures_from_two_lsp(\"G\"))"
   ]
  },
  {
   "cell_type": "code",
   "execution_count": null,
   "metadata": {},
   "outputs": [],
   "source": [
    "display(rpv.find_signatures_from_two_lsp(\"W^0\",\"W^+\"))"
   ]
  },
  {
   "attachments": {},
   "cell_type": "markdown",
   "metadata": {},
   "source": [
    "# Signature Category Dictionary"
   ]
  },
  {
   "attachments": {},
   "cell_type": "markdown",
   "metadata": {},
   "source": [
    "### **rpv.ONE_LSP_SIG_CAT_DICT** \n",
    "categorized all possible final states of LSP decay based on their RPV categories"
   ]
  },
  {
   "cell_type": "code",
   "execution_count": null,
   "metadata": {},
   "outputs": [],
   "source": [
    "rpv.ONE_LSP_SIG_CAT_DICT[\"LLE\"]\n"
   ]
  },
  {
   "cell_type": "code",
   "execution_count": null,
   "metadata": {},
   "outputs": [],
   "source": [
    "rpv.ONE_LSP_SIG_CAT_DICT[\"LQD\"]\n"
   ]
  },
  {
   "cell_type": "code",
   "execution_count": null,
   "metadata": {},
   "outputs": [],
   "source": [
    "rpv.ONE_LSP_SIG_CAT_DICT[\"UDD\"]\n"
   ]
  },
  {
   "attachments": {},
   "cell_type": "markdown",
   "metadata": {},
   "source": [
    "### **rpv.TWO_LSP_SIG_CAT_DICT** \n",
    "captures all possible signature of from pair production of LSP categorized into all the categories <br>"
   ]
  },
  {
   "cell_type": "code",
   "execution_count": null,
   "metadata": {},
   "outputs": [],
   "source": [
    "rpv.TWO_LSP_SIG_CAT_DICT[\"LLE\"]\n"
   ]
  },
  {
   "cell_type": "code",
   "execution_count": null,
   "metadata": {},
   "outputs": [],
   "source": [
    "rpv.TWO_LSP_SIG_CAT_DICT[\"LQD\"]\n"
   ]
  },
  {
   "cell_type": "code",
   "execution_count": null,
   "metadata": {},
   "outputs": [],
   "source": [
    "rpv.TWO_LSP_SIG_CAT_DICT[\"UDD\"]\n"
   ]
  },
  {
   "attachments": {},
   "cell_type": "markdown",
   "metadata": {},
   "source": [
    "### **rpv.TWO_LSP_SIG_CAT_COMPLETE_DICT** \n",
    "Complete data used to generate **rpv.TWO_LSP_SIG_CAT_DICT**. \n",
    "Note: Computationally expensive to get proper minimal set, use the one that was produced and generate manually only if neccesary.\n",
    "- LLE 2mins  <br>\n",
    "- LQD 30mins<br>\n",
    "- UDD 2hours <br>\n"
   ]
  },
  {
   "cell_type": "code",
   "execution_count": null,
   "metadata": {},
   "outputs": [],
   "source": [
    "rpv.TWO_LSP_SIG_CAT_COMPLETE_DICT[\"LLE\"]"
   ]
  },
  {
   "attachments": {},
   "cell_type": "markdown",
   "metadata": {},
   "source": [
    "# Example on how to cross check with results on our paper"
   ]
  },
  {
   "cell_type": "code",
   "execution_count": null,
   "metadata": {},
   "outputs": [],
   "source": [
    "#Looking at Table 2 of the paper\n",
    "LSP = \"G\"\n",
    "insignature = \"llllJJJJE\"\n",
    "incategory = \"L L E\"\n",
    "x = rpv.find_two_lsp_from_signature(insignature,category=incategory)\n",
    "display(x)\n",
    "if len(x[x[\"LSP A\"] == LSP][\"Signatures\"].values) > 1:\n",
    "    print(rpv.get_common(x[x[\"LSP A\"] == LSP][\"Signatures\"].values))\n",
    "    print(rpv.minimal_sets_simplified_signatures(x[x[\"LSP A\"] == LSP][\"Signatures\"].values))"
   ]
  },
  {
   "attachments": {},
   "cell_type": "markdown",
   "metadata": {},
   "source": [
    "# MISC Functions and Dictionaries"
   ]
  },
  {
   "attachments": {},
   "cell_type": "markdown",
   "metadata": {},
   "source": [
    "If you wanna get transition signature between sparticles based on your input tables:"
   ]
  },
  {
   "cell_type": "code",
   "execution_count": null,
   "metadata": {},
   "outputs": [],
   "source": [
    "rpv.get_transition_sig(\"W^0\",\"G\")"
   ]
  },
  {
   "attachments": {},
   "cell_type": "markdown",
   "metadata": {},
   "source": [
    "If you wanna find the superset that include your input signature"
   ]
  },
  {
   "cell_type": "code",
   "execution_count": null,
   "metadata": {},
   "outputs": [],
   "source": [
    "rpv.get_all_superset(\"jjlE\",True,True,True)"
   ]
  },
  {
   "attachments": {},
   "cell_type": "markdown",
   "metadata": {},
   "source": [
    "If you wanna find all possible subsets of your signature"
   ]
  },
  {
   "cell_type": "code",
   "execution_count": null,
   "metadata": {},
   "outputs": [],
   "source": [
    "rpv.get_subsets([\"JJl\",\"JJE\"])"
   ]
  },
  {
   "attachments": {},
   "cell_type": "markdown",
   "metadata": {},
   "source": [
    "If you wanna convert the code signature syntax to something easier to understand:"
   ]
  },
  {
   "cell_type": "code",
   "execution_count": null,
   "metadata": {},
   "outputs": [],
   "source": [
    "rpv.rmisc.easy_read(\"jjJlTTE\")"
   ]
  },
  {
   "attachments": {},
   "cell_type": "markdown",
   "metadata": {},
   "source": [
    "If you wanna look up the input transitions tables:"
   ]
  },
  {
   "cell_type": "code",
   "execution_count": null,
   "metadata": {},
   "outputs": [],
   "source": [
    "rpv.NOTSUP_TABLE"
   ]
  },
  {
   "cell_type": "code",
   "execution_count": null,
   "metadata": {},
   "outputs": [],
   "source": [
    "rpv.SUP_TABLE"
   ]
  },
  {
   "cell_type": "code",
   "execution_count": null,
   "metadata": {},
   "outputs": [],
   "source": [
    "rpv.STRSUP_TABLE"
   ]
  },
  {
   "attachments": {},
   "cell_type": "markdown",
   "metadata": {},
   "source": [
    "# Advanced Functions"
   ]
  },
  {
   "attachments": {},
   "cell_type": "markdown",
   "metadata": {},
   "source": [
    "When using different input tables, it is important to regenerate all the tables used so far.\n",
    "- rpv.generate_transition_df(nv=1,save_csv=False) <br>\n",
    "  - --> Default nv=1:<br>\n",
    "    - when generating the table, we have used only *vertices* in the table_notsup.csv (ie transitions that are not suppressed).  <br>\n",
    "    - By default, we only look for the minimal non-vanishing vertices when constructing all the tables and dictionaries. However, it is also possible to include all possible chains up to  3 *vertices* (nv=3). <br>\n",
    "    - This would lead to more possible chains. And more possible signatures in most (if not all) scenario<br>\n",
    "  - --> This generate main table for generation of evey other table. \n",
    "  - --> Switch on same_csv=True, to ensure results are saved. <br>\n",
    "<br>\n",
    "  \n",
    "- rpv.generate_transitions_table()<br>\n",
    "  --> generate transitions_table<br>\n",
    "  \n",
    "- rpv.generate_LSP_RPV_decay_table(rpv_coup):<br>\n",
    "  --> generate ONE_LSP_RPV_decay_table<br>\n",
    "  \n",
    "- rpv.generate_LSP_sig_cat_table(rpv_coup)<br>\n",
    "  --> generate ONE_LSP_sig_cat_table<br>\n",
    "  \n",
    "- rpv.generate_2LSP_RPV_decay_table(rpv_coup)<br>\n",
    "  --> generate 2LSP_RPV_decay_table<br>\n",
    "  \n",
    "- rpv.generate_2LSP_sig_complete(rpv_coup)<br>\n",
    "  --> generate 2LSP_sig_complete<br>\n",
    "  --> **##NOT AVAILABLE YET, WORK IN PROGRESS##** computationally expensive to get proper minimal set\n",
    "  "
   ]
  },
  {
   "attachments": {},
   "cell_type": "markdown",
   "metadata": {},
   "source": [
    "### **rpv.TRANSITION_DF**\n",
    "Main table generated from inputs transition tables. All other tables are generated from this"
   ]
  },
  {
   "cell_type": "code",
   "execution_count": null,
   "metadata": {},
   "outputs": [],
   "source": [
    "rpv.TRANSITION_DF"
   ]
  },
  {
   "attachments": {},
   "cell_type": "markdown",
   "metadata": {},
   "source": [
    "### **rpv.TRANSITIONS_TABLE**\n",
    "Compiled Transitions tables"
   ]
  },
  {
   "cell_type": "code",
   "execution_count": null,
   "metadata": {},
   "outputs": [],
   "source": [
    "rpv.TRANSITIONS_TABLE"
   ]
  },
  {
   "attachments": {},
   "cell_type": "markdown",
   "metadata": {},
   "source": [
    "### **rpv.sanity_checks()**\n",
    "If one modified any of the input tables or regenerate tables with different number of vertices, it is a good thing to do some sanity checks"
   ]
  },
  {
   "cell_type": "code",
   "execution_count": null,
   "metadata": {},
   "outputs": [],
   "source": [
    "rpv.sanity_checks()"
   ]
  },
  {
   "cell_type": "code",
   "execution_count": null,
   "metadata": {},
   "outputs": [],
   "source": []
  }
 ],
 "metadata": {
  "kernelspec": {
   "display_name": "Python 3",
   "language": "python",
   "name": "python3"
  },
  "language_info": {
   "codemirror_mode": {
    "name": "ipython",
    "version": 3
   },
   "file_extension": ".py",
   "mimetype": "text/x-python",
   "name": "python",
   "nbconvert_exporter": "python",
   "pygments_lexer": "ipython3",
   "version": "3.8.10"
  },
  "orig_nbformat": 4
 },
 "nbformat": 4,
 "nbformat_minor": 2
}

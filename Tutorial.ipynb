{
 "cells": [
  {
   "cell_type": "code",
   "execution_count": null,
   "metadata": {},
   "outputs": [],
   "source": [
    "import abcrpv_alpha as rpv\n",
    "\n",
    "#If set true, everu results will automatically saved in the results folder as .csv files\n",
    "rpv.AUTOSAVE = False\n",
    "\n",
    "#If set true, more information is provided\n",
    "rpv.VERBOSE_MODE = True"
   ]
  },
  {
   "attachments": {},
   "cell_type": "markdown",
   "metadata": {},
   "source": [
    "# Introduction on syntax"
   ]
  },
  {
   "attachments": {},
   "cell_type": "markdown",
   "metadata": {},
   "source": [
    "### Sparticles\n",
    "Notation used in for sparticles in code: <br>\n",
    "\n",
    "\n",
    "| Code Syntax          | Sparticle          |\n",
    "| :--------------------:| ------------------:|\n",
    "|B                     | Bino               |\n",
    "|W^+                   | Charged Wino       |\n",
    "|W^0                   | Neutral Wino       |\n",
    "|G                     | Gluino             |\n",
    "|H^+                   | Charged Higgsino   |\n",
    "|H^0                   | Neutral Higgsino   |\n",
    "|q                     | u_L, d_L, c_L, s_L |\n",
    "|d                     | d_R, s_R           |\n",
    "|u                     | u_R, c_R           |\n",
    "|l                     | e_L, mu_L          |\n",
    "|nu                    | nu_e, nu_mu        |\n",
    "|e                     | e_R, mu_R          |\n",
    "|t_L                   | t_L                |\n",
    "|b_L                   | b_L                |\n",
    "|t                     | t_R                |\n",
    "|b                     | b_R                |\n",
    "|tau_L                 | tau_L              |\n",
    "|tau                   | tau_R              |\n",
    "|nu_tau                | nu_tau             |\n",
    "\n",
    "You can use **rdef.SPARTICLES** to show all the possibilities\n"
   ]
  },
  {
   "cell_type": "code",
   "execution_count": null,
   "metadata": {},
   "outputs": [],
   "source": [
    "print(rpv.rdef.SPARTICLES)"
   ]
  },
  {
   "attachments": {},
   "cell_type": "markdown",
   "metadata": {},
   "source": [
    "### Final State Object\n",
    "Notation used in for final state object in code (one-char syntax):<br>\n",
    "\n",
    "| Code Syntax | Descriptions    | Particles        |\n",
    "| :------:     | :-----------:    | -----------:     |\n",
    "|v            | Massive Bosons  | W,Z,H            |\n",
    "|J            | jet             | u, d, c, s, t, b |\n",
    "|3            | 3rd gen jet     | t, b             |\n",
    "|t            | top             | t                |\n",
    "|b            | bottom jet      | b                |\n",
    "|j            | light jet       | u, d, c, s       |\n",
    "|L            | charged leptons | e, mu, tau       |\n",
    "|l            | light lepton    | e, mu            |\n",
    "|T            | tau             | tau              |\n",
    "|X            | MET             | nu               |\n",
    "\n",
    "You can use **rdef.FINAL_STATE** to show all the possibilities"
   ]
  },
  {
   "cell_type": "code",
   "execution_count": null,
   "metadata": {},
   "outputs": [],
   "source": [
    "rpv.rdef.FINAL_STATE"
   ]
  },
  {
   "attachments": {},
   "cell_type": "markdown",
   "metadata": {},
   "source": [
    "# RPV Categories\n"
   ]
  },
  {
   "attachments": {},
   "cell_type": "markdown",
   "metadata": {},
   "source": [
    "\n",
    "**rdef.CAT_DICT** is a dictionary that contains all the catoegories in each of the RPV couplings."
   ]
  },
  {
   "cell_type": "code",
   "execution_count": null,
   "metadata": {},
   "outputs": [],
   "source": [
    "print(rpv.rdef.CAT_DICT[\"LLE\"])\n",
    "print(rpv.rdef.CAT_DICT[\"LQD\"])\n",
    "print(rpv.rdef.CAT_DICT[\"UDD\"])"
   ]
  },
  {
   "attachments": {},
   "cell_type": "markdown",
   "metadata": {},
   "source": [
    "# Dictionaries"
   ]
  },
  {
   "attachments": {},
   "cell_type": "markdown",
   "metadata": {},
   "source": [
    "Note: almost every output from here on are Pandas dataframe."
   ]
  },
  {
   "attachments": {},
   "cell_type": "markdown",
   "metadata": {},
   "source": [
    "### **ONE_LSP_RPV_DECAY_DICT**\n"
   ]
  },
  {
   "attachments": {},
   "cell_type": "markdown",
   "metadata": {},
   "source": [
    "It contains all information about the possibe decays of all the LSPs<br>\n",
    "\n",
    "| Columns              | Description                                                                 |\n",
    "| :------              | :-----------                                                                |\n",
    "| Category             | Category of RPV couplings                                                   |\n",
    "| LSP                  | Lightest Supersymmtric Particle                                             |\n",
    "| Decays via           | Sparticle that decays via RPV coupling                                      |\n",
    "| Signatures           | Signature from the LSP Decay                                                |\n",
    "| Chain                | Decay Chain of LSP                                                          |\n",
    "| NV_cascade*          | Number of *vertices* in the LSP's decay to the sparticle that decays via RPV  |\n",
    "| Signatures (ER)      | Signature in Easy-Readable Format                                           |\n",
    "\n",
    "*The vertices here doesnt need to be an exact 3-point vertex in a Feynman Diagram "
   ]
  },
  {
   "cell_type": "code",
   "execution_count": null,
   "metadata": {},
   "outputs": [],
   "source": [
    "rpv.ONE_LSP_RPV_DECAY_DICT[\"LLE\"]"
   ]
  },
  {
   "cell_type": "code",
   "execution_count": null,
   "metadata": {},
   "outputs": [],
   "source": [
    "rpv.ONE_LSP_RPV_DECAY_DICT[\"LQD\"]"
   ]
  },
  {
   "cell_type": "code",
   "execution_count": null,
   "metadata": {},
   "outputs": [],
   "source": [
    "rpv.ONE_LSP_RPV_DECAY_DICT[\"UDD\"]"
   ]
  },
  {
   "attachments": {},
   "cell_type": "markdown",
   "metadata": {},
   "source": [
    "### Understanding Signature and Chains syntax\n"
   ]
  },
  {
   "cell_type": "code",
   "execution_count": null,
   "metadata": {},
   "outputs": [],
   "source": [
    "(rpv.find_one_lsp_from_signature(\"jjllX\",rpv_coup=\"LLE\",category=\"L L E\").iloc[1])"
   ]
  },
  {
   "attachments": {},
   "cell_type": "markdown",
   "metadata": {},
   "source": [
    "\n",
    "#### Example Decay Chain <br>\n",
    "    'W^0 -- (j) -- q -- (j) -- B -- (l) -- e -- [l,X]'\n",
    "- () and [] are in signature syntax <br>\n",
    "- others are in sparticle syntax <br>\n",
    "\n",
    "So, going from the left to right, we started with a  \n",
    "1. a Wino, **W^0** that decays to 1/2gen squark, **q** while producing a jet, **(j)**\n",
    "2. the squark, **q** decays to a Bino, **B** while producing another jet **(j)**\n",
    "3. the Bino, **B** decays to a RH 1/2gen sleptons, **e** while producing a light lepton **(l)**\n",
    "4. and the sleptons, **e** finally decay to lepton and missing transverse energy  **[l,X]**\n",
    "\n",
    "From all the signatures combined, one can see that we have:\n",
    "- in our syntax: **jjllX** \n",
    "- or an easy-read syntax: **2j_l + 2l + MET**"
   ]
  },
  {
   "attachments": {},
   "cell_type": "markdown",
   "metadata": {},
   "source": [
    "![image](./abcrpv_alpha/example.png)"
   ]
  },
  {
   "cell_type": "code",
   "execution_count": null,
   "metadata": {},
   "outputs": [],
   "source": []
  },
  {
   "attachments": {},
   "cell_type": "markdown",
   "metadata": {},
   "source": [
    "### **TWO_LSP_RPV_DECAY_DICT**\n"
   ]
  },
  {
   "attachments": {},
   "cell_type": "markdown",
   "metadata": {},
   "source": [
    "It contains all information about the possibe signatures arising from pair production of two LSPs in the one category scenario (Both LSP decay via the RPV couplings in the same category)<br>\n",
    "\n",
    "| Columns              | Description                                                     |\n",
    "| :------:              | :-----------                                                    |\n",
    "| CAT                  | Category of RPV couplings (Same category for both produced LSP) |\n",
    "| LSP A                | LSP A                                                           |\n",
    "| LSP B                | LSP B                                                           |\n",
    "| Signature A          | Signature from LSP A Decay                                      |\n",
    "| Signature B          | Signature from LSP B Decay                                      |\n",
    "| Chain A              | Decay Chain of LSP A                                            |\n",
    "| Chain B              | Decay Chain of LSP B                                            |\n",
    "| Signatures           | Full Signature                                                  |\n",
    "| Signature A (ER)     | Signature from LSP A Decay in Easy-Readable Format              |\n",
    "| Signature B (ER)     | Signature from LSP B Decay in Easy-Readable Format              |\n",
    "| Signatures (ER)      | Full Signature             in Easy-Readable Format              |\n",
    "\n",
    "Note: LSP B can be different from LSP A only if it is in an SU(2) doublet\n"
   ]
  },
  {
   "cell_type": "code",
   "execution_count": null,
   "metadata": {},
   "outputs": [],
   "source": [
    "rpv.TWO_LSP_RPV_DECAY_DICT[\"LLE\"]"
   ]
  },
  {
   "cell_type": "code",
   "execution_count": null,
   "metadata": {},
   "outputs": [],
   "source": [
    "rpv.TWO_LSP_RPV_DECAY_DICT[\"LQD\"]"
   ]
  },
  {
   "cell_type": "code",
   "execution_count": null,
   "metadata": {},
   "outputs": [],
   "source": [
    "rpv.TWO_LSP_RPV_DECAY_DICT[\"UDD\"]"
   ]
  },
  {
   "attachments": {},
   "cell_type": "markdown",
   "metadata": {},
   "source": [
    "### **TWO_LSP_MIXED_RPV_DECAY_DICT**\n"
   ]
  },
  {
   "attachments": {},
   "cell_type": "markdown",
   "metadata": {},
   "source": [
    "It contains all information about the possibe signatures arising from pair production of two LSPs in the two category scenario (LSP A and LSP B decays via different categories)<br>\n",
    "\n",
    "| Columns              | Description                                                     |\n",
    "| :------              | :-----------                                                    |\n",
    "| CAT A                | Category of RPV couplings that LSP A is coupled to              |\n",
    "| CAT B                | Category of RPV couplings that LSP B is coupled to              |\n",
    "| LSP A                | LSP A                                                           |\n",
    "| LSP B                | LSP B                                                           |\n",
    "| Signature A          | Signature from LSP A Decay                                      |\n",
    "| Signature B          | Signature from LSP B Decay                                      |\n",
    "| Chain A              | Decay Chain of LSP A                                            |\n",
    "| Chain B              | Decay Chain of LSP B                                            |\n",
    "| Signatures           | Full Signature                                                  |\n",
    "| Signature A (ER)     | Signature from LSP A Decay in Easy-Readable Format              |\n",
    "| Signature B (ER)     | Signature from LSP B Decay in Easy-Readable Format              |\n",
    "| Signatures (ER)      | Full Signature             in Easy-Readable Format              |"
   ]
  },
  {
   "attachments": {},
   "cell_type": "markdown",
   "metadata": {},
   "source": [
    "All possible pairing of the RPV couplings"
   ]
  },
  {
   "cell_type": "code",
   "execution_count": null,
   "metadata": {},
   "outputs": [],
   "source": [
    "rpv.TWO_LSP_MIXED_RPV_DECAY_DICT.keys()"
   ]
  },
  {
   "attachments": {},
   "cell_type": "markdown",
   "metadata": {},
   "source": [
    "For example, looking at cases where LSP A decay via LQD and LSP B decay LLE"
   ]
  },
  {
   "cell_type": "code",
   "execution_count": null,
   "metadata": {},
   "outputs": [],
   "source": [
    "rpv.TWO_LSP_MIXED_RPV_DECAY_DICT[\"LQD_LLE\"]"
   ]
  },
  {
   "attachments": {},
   "cell_type": "markdown",
   "metadata": {},
   "source": [
    "Another example, looking at cases where both LSP A and B decay via LQD coupling but different categories"
   ]
  },
  {
   "cell_type": "code",
   "execution_count": null,
   "metadata": {},
   "outputs": [],
   "source": [
    "rpv.TWO_LSP_MIXED_RPV_DECAY_DICT[\"LQD_LQD\"]"
   ]
  },
  {
   "attachments": {},
   "cell_type": "markdown",
   "metadata": {},
   "source": [
    "As one can see, the total amount of data can be a lot. (And it can be even more, if you generate the data yourself with different input tables. Refer paper for more details)\n"
   ]
  },
  {
   "cell_type": "code",
   "execution_count": null,
   "metadata": {},
   "outputs": [],
   "source": []
  },
  {
   "attachments": {},
   "cell_type": "markdown",
   "metadata": {},
   "source": [
    "\n",
    "# **Functions**"
   ]
  },
  {
   "attachments": {},
   "cell_type": "markdown",
   "metadata": {},
   "source": [
    "\n",
    "To fully utilize the tables, we provide a few functions:\n"
   ]
  },
  {
   "attachments": {},
   "cell_type": "markdown",
   "metadata": {},
   "source": [
    "##   1. Searching for LSP's from signatures"
   ]
  },
  {
   "attachments": {},
   "cell_type": "markdown",
   "metadata": {},
   "source": [
    "###  1.1 One LSP Functions (LSP's RPV Decay)\n",
    "Given a certain signature, you want to look for which LSP's RPV decay can produce such signature\n"
   ]
  },
  {
   "attachments": {},
   "cell_type": "markdown",
   "metadata": {},
   "source": [
    "a) **find_one_lsp_from_signature(signature, rpv_coup, category, filename, save_results, verbose)**\n",
    "\n",
    "| Inputs               | Type    | Description                                                              | Default \n",
    "| :------              | :------ | :-----------                                                             | :------: \n",
    "| **signature**        | str     | input collider signature you want to know | -       \n",
    "| **rpv_coup**         | str     | *LLE, LQD, UDD, ALL*                                             | *ALL*   \n",
    "| **category**         | str     | *ALL* or any category name (refer syntax mentioned above)              | *ALL*   \n",
    "| **filename**         | str     | file name if save_results == True.                                       | one\\_lsp\\_from\\_*\\<signature\\>*\\_*\\<rpv\\_coup\\>*\\_*\\<category\\>*.csv|   \n",
    "| **save_results**     | bool    | save output into a csv file.                                             | rpv.AUTOSAVE\n",
    "| **verbose**          | bool    | verbose mode                                                             | rpv.VERBOSE_MODE\n",
    "\n",
    "If you have a signature (eg. 2 jets(any) + 2 leptons + MET), and you wanna know what LSP can decay to it, use: <br>\n"
   ]
  },
  {
   "cell_type": "code",
   "execution_count": null,
   "metadata": {},
   "outputs": [],
   "source": [
    "rpv.find_one_lsp_from_signature(\"JJLLX\")"
   ]
  },
  {
   "attachments": {},
   "cell_type": "markdown",
   "metadata": {},
   "source": [
    "If you have a signature (eg. 2 light jets + 2 light leptons + MET), and you wanna know what LSP can decay to it, use: <br>"
   ]
  },
  {
   "cell_type": "code",
   "execution_count": null,
   "metadata": {},
   "outputs": [],
   "source": [
    "rpv.find_one_lsp_from_signature(\"jjllX\")"
   ]
  },
  {
   "attachments": {},
   "cell_type": "markdown",
   "metadata": {},
   "source": [
    "There are cases where it might be too much possibilities.\n",
    "You can restrict the possibilities by providing which couplings and/or which categories:"
   ]
  },
  {
   "cell_type": "code",
   "execution_count": null,
   "metadata": {},
   "outputs": [],
   "source": [
    "rpv.find_one_lsp_from_signature(\"JJJL\",\"UDD\")"
   ]
  },
  {
   "cell_type": "code",
   "execution_count": null,
   "metadata": {},
   "outputs": [],
   "source": [
    "rpv.find_one_lsp_from_signature(\"JJLLX\",\"LQD\", \"L_3 Q_3 D\")"
   ]
  },
  {
   "attachments": {},
   "cell_type": "markdown",
   "metadata": {},
   "source": [
    "Note that here we are being very specific regrading the number of object. <br>\n",
    "However, this might not always be convenient, as experimentalist usually use inclusive cuts (eg, n_jet > 2 instead of n_jet == 2).<br>\n",
    "\n",
    "Alternatively, we also have the function in the inclusive mode"
   ]
  },
  {
   "attachments": {},
   "cell_type": "markdown",
   "metadata": {},
   "source": [
    "b) **find_one_lsp_from_signature_inclusive(signature, inclusive_obj, rpv_coup, category, filename, save_results, verbose)**\n",
    "\n",
    "| Inputs               | Type    | Description                                                              | Default \n",
    "| :------              | :------ | :-----------                                                             | :------: \n",
    "| **signature**        | str   | input collider signature you want to know  | -       \n",
    "| **inclusive_obj**    | str   | *MAX* or extra objects (signature syntax)                  | -\n",
    "| **rpv_coup**         | str   | *LLE, LQD, UDD, ALL*                                             | *ALL*   \n",
    "| **category**         | str   | *ALL* or any category name               | *ALL*   \n",
    "| **filename**         | str   | file name if save_results == True.                                       | one\\_lsp\\_from\\_*\\<signature\\>*\\_inclusive\\_*\\<inclusive_obj\\>*\\_*\\<rpv\\_coup\\>*\\_*\\<category\\>*.csv|   \n",
    "\n",
    "| **save_results**     | bool  | save output into a csv file.                                             | rpv.AUTOSAVE\n",
    "| **verbose**          | bool  | verbose mode                                                             | rpv.VERBOSE_MODE"
   ]
  },
  {
   "attachments": {},
   "cell_type": "markdown",
   "metadata": {},
   "source": [
    "For example, if you want to look at \"JJ\" in the inclusive mode (maximally inclusive)"
   ]
  },
  {
   "cell_type": "code",
   "execution_count": null,
   "metadata": {},
   "outputs": [],
   "source": [
    "rpv.find_one_lsp_from_signature_inclusive(\"JJ\",\"max\")"
   ]
  },
  {
   "attachments": {},
   "cell_type": "markdown",
   "metadata": {},
   "source": [
    "As it might not always be helpful to look at the maximally inclusive case, we can also be more specific on how many more objects we want to consider in the inclusive mode.\n",
    "\n",
    "For example, if you want to look at \"JJ\" up to 2 more jets, up to 1 more leptons (ie any combinations of 2 <= nj <= 4 and 0 <= nl <= 1)"
   ]
  },
  {
   "cell_type": "code",
   "execution_count": null,
   "metadata": {},
   "outputs": [],
   "source": [
    "rpv.find_one_lsp_from_signature_inclusive(\"JJ\",\"JJL\")"
   ]
  },
  {
   "attachments": {},
   "cell_type": "markdown",
   "metadata": {},
   "source": [
    "Similar as before, we can also restrict ourselves to only certain RPV couplings or categories"
   ]
  },
  {
   "cell_type": "code",
   "execution_count": null,
   "metadata": {},
   "outputs": [],
   "source": [
    "rpv.find_one_lsp_from_signature_inclusive(\"JJ\",\"JJL\",\"LQD\",\"L Q D\")"
   ]
  },
  {
   "attachments": {},
   "cell_type": "markdown",
   "metadata": {},
   "source": [
    "### 1.2 TWO LSP Functions (Pair Production of LSPs)\n",
    "Similary, we also have functions for the pair production scenarios. <br>\n",
    "Given a certain signature, you want to look for which pair production of the LSP's can produce such signature when the LSP decays via RPV \n",
    " \n"
   ]
  },
  {
   "attachments": {},
   "cell_type": "markdown",
   "metadata": {},
   "source": [
    "#### 1.2.1 One RPV category scenarios\n",
    "First, we look at the case where the couplings only originate from one category\n"
   ]
  },
  {
   "attachments": {},
   "cell_type": "markdown",
   "metadata": {},
   "source": [
    "\n",
    "a) **find_two_lsp_from_signature(signature, rpv_coup, category, filename, save_results, verbose)**\n",
    "\n",
    "| Inputs               | Type    | Description                                                              | Default \n",
    "| :------              | :------ | :-----------                                                             | :------: \n",
    "| **signature**        | str   | collider signature you want to know  | -       \n",
    "| **rpv_coup**         | str   | *LLE, LQD, UDD, ALL*                                             | *ALL*   \n",
    "| **category**         | str   | *ALL* or any category name               | *ALL*  \n",
    "| **filename**         | str   | file name if save_results == True.                                       | two\\_lsp\\_from\\_*\\<signature\\>*\\_*\\<rpv\\_coup\\>*\\_*\\<category\\>*.csv|   \n",
    "| **save_results**     | bool  | save output into a csv file.                                             | rpv.AUTOSAVE\n",
    "| **verbose**          | bool  | verbose mode                                                             | rpv.VERBOSE_MODE\n",
    "\n",
    "If you have a signature (eg. 2 jets (any) + 3 leptons + MET), and you wanna know which pair production of LSPs can produce such signature, use: <br>\n"
   ]
  },
  {
   "cell_type": "code",
   "execution_count": null,
   "metadata": {},
   "outputs": [],
   "source": [
    "display(rpv.find_two_lsp_from_signature(\"JJLLLX\"))"
   ]
  },
  {
   "attachments": {},
   "cell_type": "markdown",
   "metadata": {},
   "source": [
    "b) **find_two_lsp_from_signature_inclusive(signature, inclusive_obj,rpv_coup, category, filename, save_results, verbose)**\n",
    "\n",
    "| Inputs               | Type    | Description                                                              | Default \n",
    "| ------:              | ------: | :-----------                                                             | :------: \n",
    "| **signature**        | str   | input collider signature you want to know  | -       \n",
    "| **inclusive_obj**    | str | *max* or extra objects (signature syntax)                  | -\n",
    "| **rpv_coup**         | str   | *LLE, LQD, UDD, ALL*                                             | *ALL*   \n",
    "| **category**         | str   | *ALL* or any category name n             | *ALL*   \n",
    "| **filename**         | str   | file name if save_results == True.                                       | two\\_lsp\\_from\\_*\\<signature\\>*\\_inclusive\\_*\\<inclusive_obj\\>*\\_*\\<rpv\\_coup\\>*\\_*\\<category\\>*.csv|   \n",
    "| **save_results**     | bool  | save output into a csv file.                                             | rpv.AUTOSAVE\n",
    "| **verbose**          | bool  | verbose mode                                                             | rpv.VERBOSE_MODE\n"
   ]
  },
  {
   "attachments": {},
   "cell_type": "markdown",
   "metadata": {},
   "source": [
    "For example, if you want to look at \"JJLX\" in the inclusive mode:"
   ]
  },
  {
   "cell_type": "code",
   "execution_count": null,
   "metadata": {},
   "outputs": [],
   "source": [
    "display(rpv.find_two_lsp_from_signature_inclusive(\"JJLX\",\"max\"))"
   ]
  },
  {
   "attachments": {},
   "cell_type": "markdown",
   "metadata": {},
   "source": [
    "For example, if you want to look at \"JJLX\" up to 2 more jets, up to 1 more leptons"
   ]
  },
  {
   "cell_type": "code",
   "execution_count": null,
   "metadata": {},
   "outputs": [],
   "source": [
    "display(rpv.find_two_lsp_from_signature_inclusive(\"JJLX\",\"JJL\"))\n"
   ]
  },
  {
   "attachments": {},
   "cell_type": "markdown",
   "metadata": {},
   "source": [
    "#### 1.2.2 Two RPV coupling scenarios\n",
    "Now, we look at the case where the couplings originates from two cateogry (where LSP A will decay via Category A and LSP B will decay via Category B)\n"
   ]
  },
  {
   "attachments": {},
   "cell_type": "markdown",
   "metadata": {},
   "source": [
    "\n",
    "a) **find_two_lsp_from_signature_mixed_couplings(signature,rpv_coup1,rpv_coup2,category1,category2,filename,save_results,verbose)**\n",
    "\n",
    "| Inputs               | Type    | Description                                                              | Default \n",
    "| ------:              | ------: | :-----------                                                             | :------: \n",
    "| **signature**        | str   | input collider signature you want to know  | -       \n",
    "| **rpv_coup1**        | str   | RPV coupling that LSP A will decay via                  : [*LLE, LQD, UDD, ALL*]    | *ALL*   \n",
    "| **rpv_coup2**        | str   | RPV coupling that LSP B will decay via                  : [*LLE, LQD, UDD, ALL*]    | *ALL*   \n",
    "| **category1**        | str   | Category for LSP A: [*ALL* or any category name]               | *ALL*   \n",
    "| **category2**        | str   | Category for LSP B: [*ALL* or any category name]               | *ALL*   \n",
    "| **filename**         | str   | file name if save_results == True.                                       | two\\_lsp\\_from\\_*\\<signature\\>*\\_*\\<rpv\\_coup1\\>*_*\\<rpv\\_coup2\\>*\\_*\\<category1\\>*\\_*\\<category2\\>*.csv|   \n",
    "| **save_results**     | bool  | save output into a csv file.                                             | rpv.AUTOSAVE\n",
    "| **verbose**          | bool  | verbose mode                                                             | rpv.VERBOSE_MODE\n"
   ]
  },
  {
   "cell_type": "code",
   "execution_count": null,
   "metadata": {},
   "outputs": [],
   "source": [
    "rpv.find_two_lsp_from_signature_mixed_couplings(\"JJLLX\")"
   ]
  },
  {
   "attachments": {},
   "cell_type": "markdown",
   "metadata": {},
   "source": [
    "b) **find_two_lsp_from_signature_mixed_couplings_inclusive(signature,inclusive_obj,rpv_coup1,rpv_coup2,category1,category2,filename,save_results,verbose)**\n",
    "\n",
    "| Inputs               | Type    | Description                                                              | Default \n",
    "| ------:              | ------: | :-----------                                                             | :------: \n",
    "| **signature**        | str   | input collider signature you want to know  | -       \n",
    "| **inclusive_obj**    | str   | *max* or extra objects (signature syntax)                  | -\n",
    "| **rpv_coup1**        | str   | RPV coupling that LSP A will decay via                  : [*LLE, LQD, UDD, ALL*]    | *ALL*   \n",
    "| **rpv_coup2**        | str   | RPV coupling that LSP B will decay via                  : [*LLE, LQD, UDD, ALL*]    | *ALL*   \n",
    "| **category1**        | str   | Category for LSP A: [*ALL* or any category name]               | *ALL*   \n",
    "| **category2**        | str   | Category for LSP B: [*ALL* or any category name]               | *ALL*   \n",
    "| **filename**         | str   | file name if save_results == True.                                       | two\\_lsp\\_from\\_*\\<signature\\>*\\_inclusive\\_*\\<inclusive_obj\\>*\\_*\\<rpv\\_coup1\\>*_*\\<rpv\\_coup2\\>*\\_*\\<category1\\>*\\_*\\<category2\\>*.csv|   \n",
    "| **save_results**     | bool  | save output into a csv file.                                             | rpv.AUTOSAVE\n",
    "| **verbose**          | (bool)  | verbose mode                                                             | rpv.VERBOSE_MODE\n"
   ]
  },
  {
   "cell_type": "code",
   "execution_count": null,
   "metadata": {},
   "outputs": [],
   "source": [
    "rpv.find_two_lsp_from_signature_mixed_couplings_inclusive(\"JJLLX\",\"max\")"
   ]
  },
  {
   "cell_type": "code",
   "execution_count": null,
   "metadata": {},
   "outputs": [],
   "source": []
  },
  {
   "attachments": {},
   "cell_type": "markdown",
   "metadata": {},
   "source": [
    "##   2. Looking up the LSP's signatures\n",
    "Alternatively, you can also look at what are all the possible decays that one LSP can have\n"
   ]
  },
  {
   "attachments": {},
   "cell_type": "markdown",
   "metadata": {},
   "source": [
    "### 2.1 One LSP scenario : \n",
    "**find_signatures_from_one_lsp(lsp,rpv_coup,category,filename,save_results,verbose):**\n",
    "\n",
    "| Inputs               | Type    | Description                                                              | Default \n",
    "| ------:              | ------: | :-----------                                                             | :------: \n",
    "| **lsp**              | str     | input LSP sparticle              | -                             \n",
    "| **rpv_coup**         | str     | *LLE, LQD, UDD or ALL*                                    | *ALL*\n",
    "| **category**         | str     | *ALL* or any category name        | *ALL*\n",
    "| **filename**         | str     | file name is save_results is set to be True.                             | signatures\\_from\\_one\\_*\\<lsp\\>*\\_decay\\_*\\<rpv\\_coup\\>*\\_*\\<category\\>*.csv\n",
    "| **save_results**     | bool    | save output into a csv file.                                             | rpv.AUTOSAVE\n",
    "| **verbose**          | bool    | verbose mode                                                             | rpv.VERBOSE_MODE\n"
   ]
  },
  {
   "cell_type": "code",
   "execution_count": null,
   "metadata": {},
   "outputs": [],
   "source": [
    "rpv.find_signatures_from_one_lsp(\"G\")"
   ]
  },
  {
   "attachments": {},
   "cell_type": "markdown",
   "metadata": {},
   "source": [
    "### 2.2 Two LSP scenario\n"
   ]
  },
  {
   "attachments": {},
   "cell_type": "markdown",
   "metadata": {},
   "source": [
    "#### 2.2.1 One Category scenario\n",
    "**find_signatures_from_two_lsp(lspa, lspb, rpv_coup, category, filename, save_results, verbose):**\n",
    "\n",
    "| Inputs           | Type    | Description                                                              | Default \n",
    "| ------:              | ------: | :-----------                                                             | :------: \n",
    "| **lspa**         | str     | input LSP A sparticle            | - \n",
    "| **lspb**         | str     | input LSP B sparticle            | LSP A \n",
    "| **rpv_coup**     | str     | *LLE*, *LQD*, *UDD* or *ALL*                                             | *ALL*\n",
    "| **category**     | str     | any category name                 | *ALL* \n",
    "| **filename**     | str     | file name is save_results if set to be True.                             | signatures\\_from\\_2LSP\\_\\<lspa\\>\\_\\<lspb\\>\\_decay\\_\\<rpv\\_coup\\>\\_\\<category\\>.csv\n",
    "| **save_results**     | bool    | save output into a csv file.                                             | rpv.AUTOSAVE\n",
    "| **verbose**          | bool    | verbose mode                                                             | rpv.VERBOSE_MODE\n",
    "\n",
    "Note: LSP B can be different from LSP A only if it is in an SU(2) doublet\n"
   ]
  },
  {
   "cell_type": "code",
   "execution_count": null,
   "metadata": {},
   "outputs": [],
   "source": [
    "display(rpv.find_signatures_from_two_lsp(\"G\"))"
   ]
  },
  {
   "cell_type": "code",
   "execution_count": null,
   "metadata": {},
   "outputs": [],
   "source": [
    "display(rpv.find_signatures_from_two_lsp(\"W^0\",\"W^+\"))"
   ]
  },
  {
   "attachments": {},
   "cell_type": "markdown",
   "metadata": {},
   "source": [
    "#### 2.2.2 Two Category scenario\n",
    "**find_signatures_from_two_lsp_mixed_couplings(lspa, lspb, rpv_coup1, rpv_coup2, category1, category2, filename, save_results, verbose):**\n",
    "\n",
    "| Inputs          | Type    | Description                                                              | Default \n",
    "| ------:         | ------: | :-----------                                                             | :------: \n",
    "| **lspa**        | str     | input LSP A sparticle            | - \n",
    "| **lspb**        | str     | input LSP B sparticle            | LSP A \n",
    "| **rpv_coup1**   | str     | RPV coupling that LSP A will decay via                  : [*LLE, LQD, UDD, ALL*]    | *ALL*   \n",
    "| **rpv_coup2**   | str     | RPV coupling that LSP B will decay via                  : [*LLE, LQD, UDD, ALL*]    | *ALL*   \n",
    "| **category1**   | str     | Category for LSP A: [*ALL* or any category name]              | *ALL*   \n",
    "| **category2**   | str     | Category for LSP B: [*ALL* or any category name]              | *ALL*   \n",
    "| **filename**    | str     | file name is save_results if set to be True.                             | signatures\\_from\\_2LSP\\_\\<lspa\\>\\_\\<lspb\\>\\_decay\\_<br>\\<rpv\\_coup1\\>\\_\\<rpv\\_coup2\\>\\_\\<category1\\>\\_\\<category2\\>.csv\n",
    "| **save_results**     | bool    | save output into a csv file.                                             | rpv.AUTOSAVE\n",
    "| **verbose**          | bool    | verbose mode                                                             | rpv.VERBOSE_MODE\n",
    "\n"
   ]
  },
  {
   "cell_type": "code",
   "execution_count": null,
   "metadata": {},
   "outputs": [],
   "source": [
    "display(rpv.find_signatures_from_two_lsp_mixed_couplings(\"G\"))"
   ]
  },
  {
   "attachments": {},
   "cell_type": "markdown",
   "metadata": {},
   "source": [
    "# Signature Category Dictionary"
   ]
  },
  {
   "attachments": {},
   "cell_type": "markdown",
   "metadata": {},
   "source": [
    "### **rpv.ONE_LSP_SIG_CAT_DICT** \n",
    "categorized all possible final states of LSP decay based on their RPV categories"
   ]
  },
  {
   "cell_type": "code",
   "execution_count": null,
   "metadata": {},
   "outputs": [],
   "source": [
    "rpv.ONE_LSP_SIG_CAT_DICT[\"LLE\"]"
   ]
  },
  {
   "cell_type": "code",
   "execution_count": null,
   "metadata": {},
   "outputs": [],
   "source": [
    "rpv.ONE_LSP_SIG_CAT_DICT[\"LQD\"]"
   ]
  },
  {
   "cell_type": "code",
   "execution_count": null,
   "metadata": {},
   "outputs": [],
   "source": [
    "rpv.ONE_LSP_SIG_CAT_DICT[\"UDD\"]"
   ]
  },
  {
   "attachments": {},
   "cell_type": "markdown",
   "metadata": {},
   "source": [
    "### **rpv.TWO_LSP_SIG_CAT_DICT** \n",
    "captures all possible signature of from pair production of LSP categorized into all the categories <br>"
   ]
  },
  {
   "cell_type": "code",
   "execution_count": null,
   "metadata": {},
   "outputs": [],
   "source": [
    "rpv.TWO_LSP_SIG_CAT_DICT[\"LLE\"]"
   ]
  },
  {
   "cell_type": "code",
   "execution_count": null,
   "metadata": {},
   "outputs": [],
   "source": [
    "rpv.TWO_LSP_SIG_CAT_DICT[\"LQD\"]\n"
   ]
  },
  {
   "cell_type": "code",
   "execution_count": null,
   "metadata": {},
   "outputs": [],
   "source": [
    "rpv.TWO_LSP_SIG_CAT_DICT[\"UDD\"]\n"
   ]
  },
  {
   "attachments": {},
   "cell_type": "markdown",
   "metadata": {},
   "source": [
    "### **rpv.TWO_LSP_SIG_CAT_COMPLETE_DICT** \n",
    "Complete data used to generate **rpv.TWO_LSP_SIG_CAT_DICT**. \n",
    "Note: Computationally expensive to get proper minimal set, use the one that was produced and generate manually only if neccesary.\n",
    "- LLE 2mins  <br>\n",
    "- LQD 30mins<br>\n",
    "- UDD 2hours <br>\n"
   ]
  },
  {
   "cell_type": "code",
   "execution_count": null,
   "metadata": {},
   "outputs": [],
   "source": [
    "rpv.TWO_LSP_SIG_CAT_COMPLETE_DICT[\"LLE\"]"
   ]
  },
  {
   "attachments": {},
   "cell_type": "markdown",
   "metadata": {},
   "source": [
    "# Example on how to cross check with results on our paper"
   ]
  },
  {
   "cell_type": "code",
   "execution_count": null,
   "metadata": {},
   "outputs": [],
   "source": [
    "#Looking at Table 2 of the paper\n",
    "LSP = \"G\"\n",
    "insignature = \"llllJJJJX\"\n",
    "incategory = \"L L E\"\n",
    "x = rpv.find_two_lsp_from_signature(insignature,category=incategory)\n",
    "display(x)\n",
    "if len(x[x[\"LSP A\"] == LSP][\"Signatures\"].values) > 1:\n",
    "    print(rpv.get_common(x[x[\"LSP A\"] == LSP][\"Signatures\"].values))\n",
    "    print(rpv.minimal_sets_simplified_signatures(x[x[\"LSP A\"] == LSP][\"Signatures\"].values))"
   ]
  },
  {
   "attachments": {},
   "cell_type": "markdown",
   "metadata": {},
   "source": [
    "Note that in the paper, we are being very loose in terms of the definition of J."
   ]
  },
  {
   "attachments": {},
   "cell_type": "markdown",
   "metadata": {},
   "source": [
    "# Future updates:\n",
    "- Include possibility of produced sparticles different from LSP (Next Update)\n",
    "- Include charges of final state objects (Need to rewrite code base, in progress)\n",
    "- Using all possible exact vertices instead of not_suppressed table (Need to rewrite code base, in progress)\n",
    "- Generate Madgraph template param_card for parameter scans (Need to rewrite code base, in progress)\n",
    "- Incorporate code with large RPV cases (Depends on how that project goes)\n"
   ]
  },
  {
   "cell_type": "code",
   "execution_count": null,
   "metadata": {},
   "outputs": [],
   "source": []
  },
  {
   "attachments": {},
   "cell_type": "markdown",
   "metadata": {},
   "source": [
    "# MISC Functions and Dictionaries"
   ]
  },
  {
   "attachments": {},
   "cell_type": "markdown",
   "metadata": {},
   "source": [
    "If you wanna get transition signature between sparticles based on your input tables:"
   ]
  },
  {
   "cell_type": "code",
   "execution_count": null,
   "metadata": {},
   "outputs": [],
   "source": [
    "rpv.get_transition_sig(\"W^0\",\"G\")"
   ]
  },
  {
   "attachments": {},
   "cell_type": "markdown",
   "metadata": {},
   "source": [
    "If you wanna find the superset that include your input signature"
   ]
  },
  {
   "cell_type": "code",
   "execution_count": null,
   "metadata": {},
   "outputs": [],
   "source": [
    "# The three options are based on grouping via the defintion of \"J\", \"3\" and \"L\" respictively\n",
    "print(rpv.get_all_superset(\"tjlX\",optJ=True,opt3=False,optL=False))\n",
    "print(rpv.get_all_superset(\"tjlX\",optJ=False,opt3=True,optL=False))\n",
    "print(rpv.get_all_superset(\"tjlX\",optJ=False,opt3=False,optL=True))\n",
    "print(rpv.get_all_superset(\"tjlX\",optJ=True,opt3=True,optL=True))"
   ]
  },
  {
   "attachments": {},
   "cell_type": "markdown",
   "metadata": {},
   "source": [
    "If you wanna find all possible subsets of your signature"
   ]
  },
  {
   "cell_type": "code",
   "execution_count": null,
   "metadata": {},
   "outputs": [],
   "source": [
    "rpv.get_subsets([\"JJl\",\"JJX\"])"
   ]
  },
  {
   "attachments": {},
   "cell_type": "markdown",
   "metadata": {},
   "source": [
    "If you wanna convert the code signature syntax to something easier to understand:"
   ]
  },
  {
   "cell_type": "code",
   "execution_count": null,
   "metadata": {},
   "outputs": [],
   "source": [
    "rpv.rmisc.easy_read(\"jjJlTTX\")"
   ]
  },
  {
   "attachments": {},
   "cell_type": "markdown",
   "metadata": {},
   "source": [
    "If you wanna look up the input transitions tables:"
   ]
  },
  {
   "cell_type": "code",
   "execution_count": null,
   "metadata": {},
   "outputs": [],
   "source": [
    "rpv.NOTSUP_TABLE"
   ]
  },
  {
   "cell_type": "code",
   "execution_count": null,
   "metadata": {},
   "outputs": [],
   "source": [
    "rpv.SUP_TABLE"
   ]
  },
  {
   "cell_type": "code",
   "execution_count": null,
   "metadata": {},
   "outputs": [],
   "source": [
    "rpv.STRSUP_TABLE"
   ]
  },
  {
   "attachments": {},
   "cell_type": "markdown",
   "metadata": {},
   "source": [
    "# Advanced Functions (Adv. Tutorial will be provided in next update)"
   ]
  },
  {
   "attachments": {},
   "cell_type": "markdown",
   "metadata": {},
   "source": [
    "When using different input tables, it is important to regenerate all the tables used so far.\n",
    "- rpv.generate_transition_df(nv=1,save_csv=False) <br>\n",
    "  - --> Default nv=1:<br>\n",
    "    - when generating the table, we have used only *vertices* in the table_notsup.csv (ie transitions that are not suppressed).  <br>\n",
    "    - By default, we only look for the minimal non-vanishing vertices when constructing all the tables and dictionaries. However, it is also possible to include all possible chains up to  3 *vertices* (nv=3). <br>\n",
    "    - This would lead to more possible chains. And more possible signatures in most (if not all) scenario<br>\n",
    "  - --> This generate main table for generation of evey other table. \n",
    "  - --> Switch on same_csv=True, to ensure results are saved. <br>\n",
    "<br>\n",
    "  \n",
    "- rpv.generate_transitions_table()<br>\n",
    "  --> generate transitions_table<br>\n",
    "  \n",
    "- rpv.generate_LSP_RPV_decay_table(rpv_coup):<br>\n",
    "  --> generate ONE_LSP_RPV_decay_table<br>\n",
    "  \n",
    "- rpv.generate_LSP_sig_cat_table(rpv_coup)<br>\n",
    "  --> generate ONE_LSP_sig_cat_table<br>\n",
    "  \n",
    "- rpv.generate_2LSP_RPV_decay_table(rpv_coup)<br>\n",
    "  --> generate 2LSP_RPV_decay_table<br>\n",
    "  \n",
    "- rpv.generate_2LSP_sig_complete(rpv_coup)<br>\n",
    "  --> generate 2LSP_sig_complete<br>\n",
    "  --> Note: computationally expensive to get proper minimal set, might take awhile\n",
    "  "
   ]
  },
  {
   "attachments": {},
   "cell_type": "markdown",
   "metadata": {},
   "source": [
    "### **rpv.TRANSITION_DF**\n",
    "Main table generated from inputs transition tables. All other tables are generated from this"
   ]
  },
  {
   "cell_type": "code",
   "execution_count": null,
   "metadata": {},
   "outputs": [],
   "source": [
    "rpv.TRANSITION_DF"
   ]
  },
  {
   "attachments": {},
   "cell_type": "markdown",
   "metadata": {},
   "source": [
    "### **rpv.TRANSITIONS_TABLE**\n",
    "Compiled Transitions tables"
   ]
  },
  {
   "cell_type": "code",
   "execution_count": null,
   "metadata": {},
   "outputs": [],
   "source": [
    "rpv.TRANSITIONS_TABLE"
   ]
  },
  {
   "attachments": {},
   "cell_type": "markdown",
   "metadata": {},
   "source": [
    "### **rpv.sanity_checks()**\n",
    "If one modified any of the input tables or regenerate tables with different number of vertices, it is a good thing to do some sanity checks"
   ]
  },
  {
   "cell_type": "code",
   "execution_count": null,
   "metadata": {},
   "outputs": [],
   "source": [
    "rpv.sanity_checks()"
   ]
  },
  {
   "cell_type": "code",
   "execution_count": null,
   "metadata": {},
   "outputs": [],
   "source": []
  }
 ],
 "metadata": {
  "kernelspec": {
   "display_name": "Python 3",
   "language": "python",
   "name": "python3"
  },
  "language_info": {
   "codemirror_mode": {
    "name": "ipython",
    "version": 3
   },
   "file_extension": ".py",
   "mimetype": "text/x-python",
   "name": "python",
   "nbconvert_exporter": "python",
   "pygments_lexer": "ipython3",
   "version": "3.8.10"
  },
  "orig_nbformat": 4
 },
 "nbformat": 4,
 "nbformat_minor": 2
}

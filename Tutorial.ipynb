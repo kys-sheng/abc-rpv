{
 "cells": [
  {
   "cell_type": "code",
   "execution_count": null,
   "metadata": {},
   "outputs": [],
   "source": [
    "import abcrpv as rpv\n",
    "\n",
    "#If set true, every results will automatically saved in the results folder as .csv files (Default is True). Set False here for tutorial purposes\n",
    "rpv.AUTOSAVE = False\n",
    "\n",
    "#If set true, more information is provided\n",
    "rpv.VERBOSE_MODE = True\n"
   ]
  },
  {
   "attachments": {},
   "cell_type": "markdown",
   "metadata": {},
   "source": [
    "# Introduction on syntax"
   ]
  },
  {
   "attachments": {},
   "cell_type": "markdown",
   "metadata": {},
   "source": [
    "### Sparticles\n",
    "Notation used in for sparticles in code: <br>\n",
    "\n",
    "\n",
    "| Code Syntax          | Sparticle          |\n",
    "| :--------------------:| ------------------:|\n",
    "|B                     | Bino               |\n",
    "|W^+                   | Charged Wino       |\n",
    "|W^0                   | Neutral Wino       |\n",
    "|G                     | Gluino             |\n",
    "|H^+                   | Charged Higgsino   |\n",
    "|H^0                   | Neutral Higgsino   |\n",
    "|q                     | u_L, d_L, c_L, s_L |\n",
    "|d                     | d_R, s_R           |\n",
    "|u                     | u_R, c_R           |\n",
    "|l                     | e_L, mu_L          |\n",
    "|nu                    | nu_e, nu_mu        |\n",
    "|e                     | e_R, mu_R          |\n",
    "|t_L                   | t_L                |\n",
    "|b_L                   | b_L                |\n",
    "|t                     | t_R                |\n",
    "|b                     | b_R                |\n",
    "|tau_L                 | tau_L              |\n",
    "|tau                   | tau_R              |\n",
    "|nu_tau                | nu_tau             |\n",
    "\n",
    "You can use **rdef.SPARTICLES** to show all the possibilities\n"
   ]
  },
  {
   "cell_type": "code",
   "execution_count": null,
   "metadata": {},
   "outputs": [],
   "source": [
    "print(rpv.rdef.SPARTICLES)"
   ]
  },
  {
   "attachments": {},
   "cell_type": "markdown",
   "metadata": {},
   "source": [
    "### Final State Object\n",
    "Notation used in for final state object in code (one-char syntax):<br>\n",
    "\n",
    "| Code Syntax | Descriptions    | Particles        |\n",
    "| :------:     | :-----------:    | -----------:     |\n",
    "|v            | Massive Bosons  | W,Z,H            |\n",
    "|J            | jet             | u, d, c, s, t, b |\n",
    "|3            | 3rd gen jet     | t, b             |\n",
    "|t            | top             | t                |\n",
    "|b            | bottom jet      | b                |\n",
    "|j            | light jet       | u, d, c, s       |\n",
    "|L            | charged leptons | e, mu, tau       |\n",
    "|l            | light lepton    | e, mu            |\n",
    "|T            | tau             | tau              |\n",
    "|X            | MET             | nu               |\n",
    "\n",
    "You can use **rdef.FINAL_STATE** to show all the possibilities"
   ]
  },
  {
   "cell_type": "code",
   "execution_count": null,
   "metadata": {},
   "outputs": [],
   "source": [
    "rpv.rdef.FINAL_STATE"
   ]
  },
  {
   "attachments": {},
   "cell_type": "markdown",
   "metadata": {},
   "source": [
    "# RPV Categories\n"
   ]
  },
  {
   "attachments": {},
   "cell_type": "markdown",
   "metadata": {},
   "source": [
    "\n",
    "**rdef.CAT_DICT** is a dictionary that contains all the catoegories in each of the RPV couplings."
   ]
  },
  {
   "cell_type": "code",
   "execution_count": null,
   "metadata": {},
   "outputs": [],
   "source": [
    "print(rpv.rdef.CAT_DICT[\"LLE\"])\n",
    "print(rpv.rdef.CAT_DICT[\"LQD\"])\n",
    "print(rpv.rdef.CAT_DICT[\"UDD\"])"
   ]
  },
  {
   "attachments": {},
   "cell_type": "markdown",
   "metadata": {},
   "source": [
    "# Note :\n",
    "- We heavily rely on the [pandas library](https://pandas.pydata.org/pandas-docs/stable/index.html) in our library. <br>\n",
    "- Almost every output (mainly the dictionaries and the outputs of our functions) from here on are [pandas Dataframe](https://pandas.pydata.org/pandas-docs/stable/reference/frame.html) objects. <br>\n",
    "- As the output of the notebook cells might not be able to show the full table, users should utilize pandas library to handle the table in any way they like. \n",
    "- With pandas library, one can easily convert any of the output table of our library into latex form (via `.to_latex()`) which can then easily be included in any paper/slides."
   ]
  },
  {
   "attachments": {},
   "cell_type": "markdown",
   "metadata": {},
   "source": [
    "# Dictionaries"
   ]
  },
  {
   "attachments": {},
   "cell_type": "markdown",
   "metadata": {},
   "source": [
    "### **ONE_LSP_RPV_DECAY_DICT**\n"
   ]
  },
  {
   "attachments": {},
   "cell_type": "markdown",
   "metadata": {},
   "source": [
    "It contains all information about the possibe decays of all the LSPs<br>\n",
    "\n",
    "| Columns              | Description                                                                 |\n",
    "| :------              | :-----------                                                                |\n",
    "| Category             | Category of RPV couplings                                                   |\n",
    "| LSP                  | Lightest Supersymmtric Particle                                             |\n",
    "| Decays via           | Sparticle that decays via RPV coupling                                      |\n",
    "| Signatures           | Signature from the LSP Decay                                                |\n",
    "| Chain                | Decay Chain of LSP                                                          |\n",
    "| NV_cascade*          | Number of *vertices* in the LSP's decay to the sparticle that decays via RPV  |\n",
    "| Signatures (ER)      | Signature in Easy-Readable Format                                           |\n",
    "\n",
    "*The vertices here doesnt need to be an exact 3-point vertex in a Feynman Diagram and is based on the input table `table_notsup.csv`"
   ]
  },
  {
   "cell_type": "code",
   "execution_count": null,
   "metadata": {},
   "outputs": [],
   "source": [
    "rpv.ONE_LSP_RPV_DECAY_DICT[\"LLE\"]"
   ]
  },
  {
   "cell_type": "code",
   "execution_count": null,
   "metadata": {},
   "outputs": [],
   "source": [
    "rpv.ONE_LSP_RPV_DECAY_DICT[\"LQD\"]"
   ]
  },
  {
   "cell_type": "code",
   "execution_count": null,
   "metadata": {},
   "outputs": [],
   "source": [
    "rpv.ONE_LSP_RPV_DECAY_DICT[\"UDD\"]"
   ]
  },
  {
   "attachments": {},
   "cell_type": "markdown",
   "metadata": {},
   "source": [
    "### Understanding Signature and Chains syntax\n"
   ]
  },
  {
   "attachments": {},
   "cell_type": "markdown",
   "metadata": {},
   "source": [
    "Lets try to look at a row in the LLE table as an example"
   ]
  },
  {
   "cell_type": "code",
   "execution_count": null,
   "metadata": {},
   "outputs": [],
   "source": [
    "x = rpv.ONE_LSP_RPV_DECAY_DICT[\"LLE\"]\n",
    "print(x[(x[\"Category\"] == \"L L E\") & (x[\"LSP\"] == \"W^0\") & (x[\"Signatures\"] == \"jjllX\")].iloc[0])"
   ]
  },
  {
   "attachments": {},
   "cell_type": "markdown",
   "metadata": {},
   "source": [
    "\n",
    "#### Example Decay Chain <br>\n",
    "    'W^0 -- (j) -- q -- (j) -- B -- (l) -- e -- [l,X]'\n",
    "- () and [] are in signature syntax <br>\n",
    "- others are in sparticle syntax <br>\n",
    "\n",
    "So, going from the left to right, we started with a  \n",
    "1. a Wino, **W^0** that decays to 1/2gen squark, **q** while producing a jet, **(j)**\n",
    "2. the squark, **q** decays to a Bino, **B** while producing another jet **(j)**\n",
    "3. the Bino, **B** decays to a RH 1/2gen sleptons, **e** while producing a light lepton **(l)**\n",
    "4. and the sleptons, **e** finally decay to lepton and missing transverse energy  **[l,X]**\n",
    "\n",
    "From all the signatures combined, one can see that we have **2 light jets + 2 light leptons + missing transverse energy**.\n",
    "- code syntax: **jjllX** \n",
    "- easy-read (ER) syntax: **2j_l + 2l + MET**"
   ]
  },
  {
   "attachments": {},
   "cell_type": "markdown",
   "metadata": {},
   "source": [
    "![image](./example.png)"
   ]
  },
  {
   "cell_type": "code",
   "execution_count": null,
   "metadata": {},
   "outputs": [],
   "source": []
  },
  {
   "attachments": {},
   "cell_type": "markdown",
   "metadata": {},
   "source": [
    "### **TWO_LSP_RPV_DECAY_DICT**\n"
   ]
  },
  {
   "attachments": {},
   "cell_type": "markdown",
   "metadata": {},
   "source": [
    "It contains all information about the possibe signatures arising from pair production of two LSPs in the one category scenario (Both LSP decay via RPV couplings in the same category as defined in Table 2-11 in the paper)<br>\n",
    "\n",
    "| Columns              | Description                                                     |\n",
    "| :------:              | :-----------                                                    |\n",
    "| CAT                  | Category of RPV couplings (Same category for both produced LSP) |\n",
    "| LSP A                | LSP A                                                           |\n",
    "| LSP B                | LSP B                                                           |\n",
    "| Signature A          | Signature from LSP A Decay                                      |\n",
    "| Signature B          | Signature from LSP B Decay                                      |\n",
    "| Chain A              | Decay Chain of LSP A                                            |\n",
    "| Chain B              | Decay Chain of LSP B                                            |\n",
    "| Signatures           | Full Signature                                                  |\n",
    "| Signature A (ER)     | Signature from LSP A Decay in Easy-Readable Format              |\n",
    "| Signature B (ER)     | Signature from LSP B Decay in Easy-Readable Format              |\n",
    "| Signatures (ER)      | Full Signature             in Easy-Readable Format              |\n",
    "\n",
    "Note: LSP B can only be different from LSP A if it is in an SU(2) doublet. This is based on our assumption in the paper that they are mass degenerate. A future update will include cases where any two sparticles can be both LSPs.\n"
   ]
  },
  {
   "cell_type": "code",
   "execution_count": null,
   "metadata": {},
   "outputs": [],
   "source": [
    "rpv.TWO_LSP_RPV_DECAY_DICT[\"LLE\"]"
   ]
  },
  {
   "cell_type": "code",
   "execution_count": null,
   "metadata": {},
   "outputs": [],
   "source": [
    "rpv.TWO_LSP_RPV_DECAY_DICT[\"LQD\"]"
   ]
  },
  {
   "cell_type": "code",
   "execution_count": null,
   "metadata": {},
   "outputs": [],
   "source": [
    "rpv.TWO_LSP_RPV_DECAY_DICT[\"UDD\"]"
   ]
  },
  {
   "attachments": {},
   "cell_type": "markdown",
   "metadata": {},
   "source": [
    "### **TWO_LSP_MIXED_RPV_DECAY_DICT**\n"
   ]
  },
  {
   "attachments": {},
   "cell_type": "markdown",
   "metadata": {},
   "source": [
    "It contains all information about the possibe signatures arising from pair production of two LSPs in the two category scenario (LSP A and LSP B decays via RPV couplings from different categories)<br>\n",
    "\n",
    "| Columns              | Description                                                     |\n",
    "| :------              | :-----------                                                    |\n",
    "| CAT A                | Category of RPV couplings that LSP A is coupled to              |\n",
    "| CAT B                | Category of RPV couplings that LSP B is coupled to              |\n",
    "| LSP A                | LSP A                                                           |\n",
    "| LSP B                | LSP B                                                           |\n",
    "| Signature A          | Signature from LSP A Decay                                      |\n",
    "| Signature B          | Signature from LSP B Decay                                      |\n",
    "| Chain A              | Decay Chain of LSP A                                            |\n",
    "| Chain B              | Decay Chain of LSP B                                            |\n",
    "| Signatures           | Full Signature                                                  |\n",
    "| Signature A (ER)     | Signature from LSP A Decay in Easy-Readable Format              |\n",
    "| Signature B (ER)     | Signature from LSP B Decay in Easy-Readable Format              |\n",
    "| Signatures (ER)      | Full Signature             in Easy-Readable Format              |"
   ]
  },
  {
   "attachments": {},
   "cell_type": "markdown",
   "metadata": {},
   "source": [
    "All possible pairing of the RPV couplings in terms of categories"
   ]
  },
  {
   "cell_type": "code",
   "execution_count": null,
   "metadata": {},
   "outputs": [],
   "source": [
    "rpv.TWO_LSP_MIXED_RPV_DECAY_DICT.keys()"
   ]
  },
  {
   "attachments": {},
   "cell_type": "markdown",
   "metadata": {},
   "source": [
    "For example, looking at cases where LSP A decay via LQD and LSP B decay LLE"
   ]
  },
  {
   "cell_type": "code",
   "execution_count": null,
   "metadata": {},
   "outputs": [],
   "source": [
    "rpv.TWO_LSP_MIXED_RPV_DECAY_DICT[\"LQD_LLE\"]"
   ]
  },
  {
   "attachments": {},
   "cell_type": "markdown",
   "metadata": {},
   "source": [
    "Another example, looking at cases where both LSP A and B decay via LQD coupling but different categories"
   ]
  },
  {
   "cell_type": "code",
   "execution_count": null,
   "metadata": {},
   "outputs": [],
   "source": [
    "rpv.TWO_LSP_MIXED_RPV_DECAY_DICT[\"LQD_LQD\"]"
   ]
  },
  {
   "attachments": {},
   "cell_type": "markdown",
   "metadata": {},
   "source": [
    "As one can see, the total amount of data can be a lot. (And it can be even more, if we introduce more vertices and/or with different input tables.)\n"
   ]
  },
  {
   "cell_type": "code",
   "execution_count": null,
   "metadata": {},
   "outputs": [],
   "source": []
  },
  {
   "attachments": {},
   "cell_type": "markdown",
   "metadata": {},
   "source": [
    "\n",
    "# **Functions**"
   ]
  },
  {
   "attachments": {},
   "cell_type": "markdown",
   "metadata": {},
   "source": [
    "\n",
    "To fully utilize the tables, we provide a few functions:\n"
   ]
  },
  {
   "attachments": {},
   "cell_type": "markdown",
   "metadata": {},
   "source": [
    "##   1. Searching for the LSP from a user-given signatures"
   ]
  },
  {
   "attachments": {},
   "cell_type": "markdown",
   "metadata": {},
   "source": [
    "###  1.1 One LSP Functions (LSP's RPV Decay)\n",
    "Given a certain signature, you want to look for which LSP's RPV decay can produce such signature\n"
   ]
  },
  {
   "attachments": {},
   "cell_type": "markdown",
   "metadata": {},
   "source": [
    "**a) find_one_lsp_from_signature(signature, rpv_coup, category, filename, save_results, verbose)**\n",
    "\n",
    "| Inputs               | Type    | Description                                                              | Default \n",
    "| :------              | :------ | :-----------                                                             | :------: \n",
    "| **signature**        | str     | input collider signature you want to know | -       \n",
    "| **rpv_coup**         | str     | *LLE, LQD, UDD, ALL*                                             | *ALL*   \n",
    "| **category**         | str     | *ALL* or any category name (refer syntax mentioned above)              | *ALL*   \n",
    "| **filename**         | str     | file name if save_results == True.                                       | one\\_lsp\\_from\\_*\\<signature\\>*\\_*\\<rpv\\_coup\\>*\\_*\\<category\\>*.csv|   \n",
    "| **save_results**     | bool    | save output into a csv file.                                             | rpv.AUTOSAVE\n",
    "| **verbose**          | bool    | verbose mode                                                             | rpv.VERBOSE_MODE\n",
    "\n",
    "If you have a signature (eg. 2 jets + 2 leptons + MET), and you wanna know what LSP can decay to it, use: <br>\n"
   ]
  },
  {
   "cell_type": "code",
   "execution_count": null,
   "metadata": {},
   "outputs": [],
   "source": [
    "rpv.find_one_lsp_from_signature(\"JJLLX\")"
   ]
  },
  {
   "attachments": {},
   "cell_type": "markdown",
   "metadata": {},
   "source": [
    "If you have a signature (eg. 2 light jets + 2 light leptons + MET), and you wanna know what LSP can decay to it, use: <br>"
   ]
  },
  {
   "cell_type": "code",
   "execution_count": null,
   "metadata": {},
   "outputs": [],
   "source": [
    "rpv.find_one_lsp_from_signature(\"jjllX\")"
   ]
  },
  {
   "attachments": {},
   "cell_type": "markdown",
   "metadata": {},
   "source": [
    "There are cases where it might be too much possibilities.\n",
    "You can restrict the possibilities by providing which couplings and/or which categories:"
   ]
  },
  {
   "cell_type": "code",
   "execution_count": null,
   "metadata": {},
   "outputs": [],
   "source": [
    "rpv.find_one_lsp_from_signature(\"JJJL\",\"UDD\")"
   ]
  },
  {
   "cell_type": "code",
   "execution_count": null,
   "metadata": {},
   "outputs": [],
   "source": [
    "rpv.find_one_lsp_from_signature(\"JJLLX\",\"LQD\", \"L_3 Q_3 D\")"
   ]
  },
  {
   "attachments": {},
   "cell_type": "markdown",
   "metadata": {},
   "source": [
    "Note that here we are being very specific regarding the number of objects. <br>\n",
    "However, this might not always be convenient, as inclusive cuts (eg, n_jet >= 2 instead of n_jet == 2) are usually used in experiments.<br>\n",
    "\n",
    "As such, we also have the function in the inclusive mode"
   ]
  },
  {
   "attachments": {},
   "cell_type": "markdown",
   "metadata": {},
   "source": [
    "b) **find_one_lsp_from_signature_inclusive(signature, inclusive_obj, rpv_coup, category, filename, save_results, verbose)**\n",
    "\n",
    "| Inputs               | Type    | Description                                                              | Default \n",
    "| :------              | :------ | :-----------                                                             | :------: \n",
    "| **signature**        | str   | input collider signature you want to know  | -       \n",
    "| **inclusive_obj**    | str   | *MAX* or extra objects (signature syntax)                  | -\n",
    "| **rpv_coup**         | str   | *LLE, LQD, UDD, ALL*                                             | *ALL*   \n",
    "| **category**         | str   | *ALL* or any category name               | *ALL*   \n",
    "| **filename**         | str   | file name if save_results == True.                                       | one\\_lsp\\_from\\_*\\<signature\\>*\\_inclusive\\_*\\<inclusive_obj\\>*\\_*\\<rpv\\_coup\\>*\\_*\\<category\\>*.csv|   \n",
    "| **save_results**     | bool  | save output into a csv file.                                             | rpv.AUTOSAVE\n",
    "| **verbose**          | bool  | verbose mode                                                             | rpv.VERBOSE_MODE"
   ]
  },
  {
   "attachments": {},
   "cell_type": "markdown",
   "metadata": {},
   "source": [
    "For example, if you want to look at \"JJ\" in the inclusive mode (maximally inclusive). ie. considering all possible extra objects on top of the input signature"
   ]
  },
  {
   "cell_type": "code",
   "execution_count": null,
   "metadata": {},
   "outputs": [],
   "source": [
    "rpv.find_one_lsp_from_signature_inclusive(\"JJ\",\"max\")"
   ]
  },
  {
   "attachments": {},
   "cell_type": "markdown",
   "metadata": {},
   "source": [
    "As it might not always be helpful to look at the maximally inclusive case, we can also be more specific on how many more objects we want to consider in the inclusive mode.\n",
    "\n",
    "For example, if you want to look at \"JJ\" up to 2 more jets, up to 1 more leptons (ie any combinations of 2 <= nj <= 4 and 0 <= nl <= 1)"
   ]
  },
  {
   "cell_type": "code",
   "execution_count": null,
   "metadata": {},
   "outputs": [],
   "source": [
    "rpv.find_one_lsp_from_signature_inclusive(\"JJ\",\"JJL\")"
   ]
  },
  {
   "attachments": {},
   "cell_type": "markdown",
   "metadata": {},
   "source": [
    "Similar as before, we can also restrict ourselves to only certain RPV couplings or categories"
   ]
  },
  {
   "cell_type": "code",
   "execution_count": null,
   "metadata": {},
   "outputs": [],
   "source": [
    "rpv.find_one_lsp_from_signature_inclusive(\"JJ\",\"JJL\",\"LQD\",\"L Q D\")"
   ]
  },
  {
   "attachments": {},
   "cell_type": "markdown",
   "metadata": {},
   "source": [
    "### 1.2 Two LSP Functions (Pair Production of LSPs)\n",
    "Similary, we also have functions for the pair production scenarios. <br>\n",
    "Given a certain signature, you want to look for which pair production of the LSPs can produce the user-given signature\n"
   ]
  },
  {
   "attachments": {},
   "cell_type": "markdown",
   "metadata": {},
   "source": [
    "#### 1.2.1 One RPV category scenarios\n",
    "First, we look at the case where the couplings only originate from one category\n"
   ]
  },
  {
   "attachments": {},
   "cell_type": "markdown",
   "metadata": {},
   "source": [
    "\n",
    "a) **find_two_lsp_from_signature(signature, rpv_coup, category, filename, save_results, verbose)**\n",
    "\n",
    "| Inputs               | Type    | Description                                                              | Default \n",
    "| :------              | :------ | :-----------                                                             | :------: \n",
    "| **signature**        | str   | collider signature you want to know  | -       \n",
    "| **rpv_coup**         | str   | *LLE, LQD, UDD, ALL*                                             | *ALL*   \n",
    "| **category**         | str   | *ALL* or any category name               | *ALL*  \n",
    "| **filename**         | str   | file name if save_results == True.                                       | two\\_lsp\\_from\\_*\\<signature\\>*\\_*\\<rpv\\_coup\\>*\\_*\\<category\\>*.csv|   \n",
    "| **save_results**     | bool  | save output into a csv file.                                             | rpv.AUTOSAVE\n",
    "| **verbose**          | bool  | verbose mode                                                             | rpv.VERBOSE_MODE\n",
    "\n",
    "If you have a signature (eg. 2 jets (any) + 3 leptons + MET), and you wanna know which pair production of LSPs can produce such signature, use: <br>\n"
   ]
  },
  {
   "cell_type": "code",
   "execution_count": null,
   "metadata": {},
   "outputs": [],
   "source": [
    "rpv.find_two_lsp_from_signature(\"JJLLLX\")"
   ]
  },
  {
   "attachments": {},
   "cell_type": "markdown",
   "metadata": {},
   "source": [
    "Similar as before, we also have the function in the inclusive mode"
   ]
  },
  {
   "attachments": {},
   "cell_type": "markdown",
   "metadata": {},
   "source": [
    "b) **find_two_lsp_from_signature_inclusive(signature, inclusive_obj,rpv_coup, category, filename, save_results, verbose)**\n",
    "\n",
    "| Inputs               | Type    | Description                                                              | Default \n",
    "| ------:              | ------: | :-----------                                                             | :------: \n",
    "| **signature**        | str   | input collider signature you want to know  | -       \n",
    "| **inclusive_obj**    | str | *max* or extra objects (signature syntax)                  | -\n",
    "| **rpv_coup**         | str   | *LLE, LQD, UDD, ALL*                                             | *ALL*   \n",
    "| **category**         | str   | *ALL* or any category name n             | *ALL*   \n",
    "| **filename**         | str   | file name if save_results == True.                                       | two\\_lsp\\_from\\_*\\<signature\\>*\\_inclusive\\_*\\<inclusive_obj\\>*\\_*\\<rpv\\_coup\\>*\\_*\\<category\\>*.csv|   \n",
    "| **save_results**     | bool  | save output into a csv file.                                             | rpv.AUTOSAVE\n",
    "| **verbose**          | bool  | verbose mode                                                             | rpv.VERBOSE_MODE\n"
   ]
  },
  {
   "attachments": {},
   "cell_type": "markdown",
   "metadata": {},
   "source": [
    "For example, if you want to look at \"JJLX\" in the inclusive mode:"
   ]
  },
  {
   "cell_type": "code",
   "execution_count": null,
   "metadata": {},
   "outputs": [],
   "source": [
    "rpv.find_two_lsp_from_signature_inclusive(\"JJLX\",\"max\")"
   ]
  },
  {
   "attachments": {},
   "cell_type": "markdown",
   "metadata": {},
   "source": [
    "For example, if you want to look at \"JJLX\" up to 2 more jets, up to 1 more leptons and any possible combination in between."
   ]
  },
  {
   "cell_type": "code",
   "execution_count": null,
   "metadata": {},
   "outputs": [],
   "source": [
    "rpv.find_two_lsp_from_signature_inclusive(\"JJLX\",\"JJL\")\n"
   ]
  },
  {
   "attachments": {},
   "cell_type": "markdown",
   "metadata": {},
   "source": [
    "#### 1.2.2 Two RPV coupling scenarios\n",
    "Now, we look at the case where the LSPs decay via couplings that originates from two different categories (ie LSP A will decay via Category A and LSP B will decay via Category B)\n"
   ]
  },
  {
   "attachments": {},
   "cell_type": "markdown",
   "metadata": {},
   "source": [
    "\n",
    "a) **find_two_lsp_from_signature_mixed_couplings(signature,rpv_coup1,rpv_coup2,category1,category2,filename,save_results,verbose)**\n",
    "\n",
    "| Inputs               | Type    | Description                                                              | Default \n",
    "| ------:              | ------: | :-----------                                                             | :------: \n",
    "| **signature**        | str   | input collider signature you want to know  | -       \n",
    "| **rpv_coup1**        | str   | RPV coupling that LSP A will decay via                  : [*LLE, LQD, UDD, ALL*]    | *ALL*   \n",
    "| **rpv_coup2**        | str   | RPV coupling that LSP B will decay via                  : [*LLE, LQD, UDD, ALL*]    | *ALL*   \n",
    "| **category1**        | str   | Category for LSP A's RPV coupling: [*ALL* or any category name]               | *ALL*   \n",
    "| **category2**        | str   | Category for LSP B's RPV coupling: [*ALL* or any category name]               | *ALL*   \n",
    "| **filename**         | str   | file name if save_results == True.                                       | two\\_lsp\\_from\\_*\\<signature\\>*\\_*\\<rpv\\_coup1\\>*_*\\<rpv\\_coup2\\>*\\_*\\<category1\\>*\\_*\\<category2\\>*.csv|   \n",
    "| **save_results**     | bool  | save output into a csv file.                                             | rpv.AUTOSAVE\n",
    "| **verbose**          | bool  | verbose mode                                                             | rpv.VERBOSE_MODE\n"
   ]
  },
  {
   "cell_type": "code",
   "execution_count": null,
   "metadata": {},
   "outputs": [],
   "source": [
    "rpv.find_two_lsp_from_signature_mixed_couplings(\"JJLLX\")"
   ]
  },
  {
   "attachments": {},
   "cell_type": "markdown",
   "metadata": {},
   "source": [
    "We can also be more specific as before, let say we want look at the 2jets+2leptons+MET scenario and we want LSP A to decay via LLE while LSP B to decay via LQD"
   ]
  },
  {
   "cell_type": "code",
   "execution_count": null,
   "metadata": {},
   "outputs": [],
   "source": [
    "rpv.find_two_lsp_from_signature_mixed_couplings(\"JJLLX\",\"LLE\",\"LQD\")"
   ]
  },
  {
   "attachments": {},
   "cell_type": "markdown",
   "metadata": {},
   "source": [
    "As before, we also have it in the inclusive mode."
   ]
  },
  {
   "attachments": {},
   "cell_type": "markdown",
   "metadata": {},
   "source": [
    "b) **find_two_lsp_from_signature_mixed_couplings_inclusive(signature,inclusive_obj,rpv_coup1,rpv_coup2,category1,category2,filename,save_results,verbose)**\n",
    "\n",
    "| Inputs               | Type    | Description                                                              | Default \n",
    "| ------:              | ------: | :-----------                                                             | :------: \n",
    "| **signature**        | str   | input collider signature you want to know  | -       \n",
    "| **inclusive_obj**    | str   | *max* or extra objects (signature syntax)                  | -\n",
    "| **rpv_coup1**        | str   | RPV coupling that LSP A will decay via                  : [*LLE, LQD, UDD, ALL*]    | *ALL*   \n",
    "| **rpv_coup2**        | str   | RPV coupling that LSP B will decay via                  : [*LLE, LQD, UDD, ALL*]    | *ALL*   \n",
    "| **category1**        | str   | Category for LSP A's RPV coupling: [*ALL* or any category name]               | *ALL*   \n",
    "| **category2**        | str   | Category for LSP B's RPV coupling: [*ALL* or any category name]               | *ALL*   \n",
    "| **filename**         | str   | file name if save_results == True.                                       | two\\_lsp\\_from\\_*\\<signature\\>*\\_inclusive\\_*\\<inclusive_obj\\>*\\_*\\<rpv\\_coup1\\>*_*\\<rpv\\_coup2\\>*\\_*\\<category1\\>*\\_*\\<category2\\>*.csv|   \n",
    "| **save_results**     | bool  | save output into a csv file.                                             | rpv.AUTOSAVE\n",
    "| **verbose**          | (bool)  | verbose mode                                                             | rpv.VERBOSE_MODE\n"
   ]
  },
  {
   "cell_type": "code",
   "execution_count": null,
   "metadata": {},
   "outputs": [],
   "source": [
    "rpv.find_two_lsp_from_signature_mixed_couplings_inclusive(\"JJLLX\",\"max\")"
   ]
  },
  {
   "cell_type": "code",
   "execution_count": null,
   "metadata": {},
   "outputs": [],
   "source": []
  },
  {
   "attachments": {},
   "cell_type": "markdown",
   "metadata": {},
   "source": [
    "##   2. Looking up the LSP's signatures\n",
    "Alternatively, you can also look at what are all the possible decays that the LSPs can have\n"
   ]
  },
  {
   "attachments": {},
   "cell_type": "markdown",
   "metadata": {},
   "source": [
    "### 2.1 One LSP scenario : \n",
    "**find_signatures_from_one_lsp(lsp,rpv_coup,category,filename,save_results,verbose):**\n",
    "\n",
    "| Inputs               | Type    | Description                                                              | Default \n",
    "| ------:              | ------: | :-----------                                                             | :------: \n",
    "| **lsp**              | str     | input LSP sparticle              | -                             \n",
    "| **rpv_coup**         | str     | *LLE, LQD, UDD or ALL*                                    | *ALL*\n",
    "| **category**         | str     | *ALL* or any category name        | *ALL*\n",
    "| **filename**         | str     | file name is save_results is set to be True.                             | signatures\\_from\\_one\\_*\\<lsp\\>*\\_decay\\_*\\<rpv\\_coup\\>*\\_*\\<category\\>*.csv\n",
    "| **save_results**     | bool    | save output into a csv file.                                             | rpv.AUTOSAVE\n",
    "| **verbose**          | bool    | verbose mode                                                             | rpv.VERBOSE_MODE\n"
   ]
  },
  {
   "attachments": {},
   "cell_type": "markdown",
   "metadata": {},
   "source": [
    "Let say we are interested in the Gluino's decays"
   ]
  },
  {
   "cell_type": "code",
   "execution_count": null,
   "metadata": {},
   "outputs": [],
   "source": [
    "rpv.find_signatures_from_one_lsp(\"G\")"
   ]
  },
  {
   "attachments": {},
   "cell_type": "markdown",
   "metadata": {},
   "source": [
    "Similarly, one can always restrict oneself to only certain RPV couplings and RPV categories"
   ]
  },
  {
   "cell_type": "code",
   "execution_count": null,
   "metadata": {},
   "outputs": [],
   "source": [
    "rpv.find_signatures_from_one_lsp(\"G\",\"LLE\",\"L L E_3\")"
   ]
  },
  {
   "attachments": {},
   "cell_type": "markdown",
   "metadata": {},
   "source": [
    "### 2.2 Two LSP scenario\n",
    "We can look also the pair produced scenarios and their corresponding signatures\n"
   ]
  },
  {
   "attachments": {},
   "cell_type": "markdown",
   "metadata": {},
   "source": [
    "#### 2.2.1 One Category scenario\n",
    "**find_signatures_from_two_lsp(lspa, lspb, rpv_coup, category, filename, save_results, verbose):**\n",
    "\n",
    "| Inputs           | Type    | Description                                                              | Default \n",
    "| ------:              | ------: | :-----------                                                             | :------: \n",
    "| **lspa**         | str     | input LSP A sparticle            | - \n",
    "| **lspb**         | str     | input LSP B sparticle            | LSP A \n",
    "| **rpv_coup**     | str     | *LLE*, *LQD*, *UDD* or *ALL*                                             | *ALL*\n",
    "| **category**     | str     | any category name                 | *ALL* \n",
    "| **filename**     | str     | file name is save_results if set to be True.                             | signatures\\_from\\_2LSP\\_\\<lspa\\>\\_\\<lspb\\>\\_decay\\_\\<rpv\\_coup\\>\\_\\<category\\>.csv\n",
    "| **save_results**     | bool    | save output into a csv file.                                             | rpv.AUTOSAVE\n",
    "| **verbose**          | bool    | verbose mode                                                             | rpv.VERBOSE_MODE\n",
    "\n",
    "Note: As mentioned before, LSP B can only be different from LSP A if it is in an SU(2) doublet. This is based on our assumption in the paper that they are mass degenerate. A future update will include cases where any two sparticles can be both LSPs."
   ]
  },
  {
   "attachments": {},
   "cell_type": "markdown",
   "metadata": {},
   "source": [
    "For example, looking at the pair production of gluinos (which are the LSP)"
   ]
  },
  {
   "cell_type": "code",
   "execution_count": null,
   "metadata": {},
   "outputs": [],
   "source": [
    "rpv.find_signatures_from_two_lsp(\"G\")"
   ]
  },
  {
   "attachments": {},
   "cell_type": "markdown",
   "metadata": {},
   "source": [
    "We can also look at the pair production of winos (one charged one neutral)"
   ]
  },
  {
   "cell_type": "code",
   "execution_count": null,
   "metadata": {},
   "outputs": [],
   "source": [
    "rpv.find_signatures_from_two_lsp(\"W^0\",\"W^+\")"
   ]
  },
  {
   "attachments": {},
   "cell_type": "markdown",
   "metadata": {},
   "source": [
    "Again, one can specify the couplings"
   ]
  },
  {
   "cell_type": "code",
   "execution_count": null,
   "metadata": {},
   "outputs": [],
   "source": [
    "rpv.find_signatures_from_two_lsp(\"W^0\",\"W^+\",\"UDD\", \"U D_3 D_3\")"
   ]
  },
  {
   "attachments": {},
   "cell_type": "markdown",
   "metadata": {},
   "source": [
    "Similarly, we have similar functions for the two category scenarios <br>\n"
   ]
  },
  {
   "attachments": {},
   "cell_type": "markdown",
   "metadata": {},
   "source": [
    "#### 2.2.2 Two Category scenario\n",
    "**find_signatures_from_two_lsp_mixed_couplings(lspa, lspb, rpv_coup1, rpv_coup2, category1, category2, filename, save_results, verbose):**\n",
    "\n",
    "| Inputs          | Type    | Description                                                              | Default \n",
    "| ------:         | ------: | :-----------                                                             | :------: \n",
    "| **lspa**        | str     | input LSP A sparticle            | - \n",
    "| **lspb**        | str     | input LSP B sparticle            | LSP A \n",
    "| **rpv_coup1**   | str     | RPV coupling that LSP A will decay via                  : [*LLE, LQD, UDD, ALL*]    | *ALL*   \n",
    "| **rpv_coup2**   | str     | RPV coupling that LSP B will decay via                  : [*LLE, LQD, UDD, ALL*]    | *ALL*   \n",
    "| **category1**   | str     | Category for LSP A: [*ALL* or any category name]              | *ALL*   \n",
    "| **category2**   | str     | Category for LSP B: [*ALL* or any category name]              | *ALL*   \n",
    "| **filename**    | str     | file name is save_results if set to be True.                             | signatures\\_from\\_2LSP\\_\\<lspa\\>\\_\\<lspb\\>\\_decay\\_<br>\\<rpv\\_coup1\\>\\_\\<rpv\\_coup2\\>\\_\\<category1\\>\\_\\<category2\\>.csv\n",
    "| **save_results**     | bool    | save output into a csv file.                                             | rpv.AUTOSAVE\n",
    "| **verbose**          | bool    | verbose mode                                                             | rpv.VERBOSE_MODE\n",
    "\n"
   ]
  },
  {
   "cell_type": "code",
   "execution_count": null,
   "metadata": {},
   "outputs": [],
   "source": [
    "rpv.find_signatures_from_two_lsp_mixed_couplings(\"G\")"
   ]
  },
  {
   "attachments": {},
   "cell_type": "markdown",
   "metadata": {},
   "source": [
    "# Signature Category Dictionary"
   ]
  },
  {
   "attachments": {},
   "cell_type": "markdown",
   "metadata": {},
   "source": [
    "From the existing tables, we also summarized all the signatures according to the LSP scenarios and RPV categories"
   ]
  },
  {
   "attachments": {},
   "cell_type": "markdown",
   "metadata": {},
   "source": [
    "### **rpv.ONE_LSP_SIG_CAT_DICT** \n",
    "categorized all possible final states of LSP decay based on their RPV categories. <br>\n",
    "In all cases we provide the possible minimal number of subset that covers everything"
   ]
  },
  {
   "cell_type": "code",
   "execution_count": null,
   "metadata": {},
   "outputs": [],
   "source": [
    "rpv.ONE_LSP_SIG_CAT_DICT[\"LLE\"]"
   ]
  },
  {
   "cell_type": "code",
   "execution_count": null,
   "metadata": {},
   "outputs": [],
   "source": [
    "rpv.ONE_LSP_SIG_CAT_DICT[\"LQD\"]"
   ]
  },
  {
   "cell_type": "code",
   "execution_count": null,
   "metadata": {},
   "outputs": [],
   "source": [
    "rpv.ONE_LSP_SIG_CAT_DICT[\"UDD\"]"
   ]
  },
  {
   "attachments": {},
   "cell_type": "markdown",
   "metadata": {},
   "source": [
    "### **rpv.TWO_LSP_SIG_CAT_DICT** \n",
    "Captures all possible signatures from pair production of LSP categorized based on their RPV categories <br>\n",
    "In all cases we provide the possible minimal number of subset that covers everything"
   ]
  },
  {
   "cell_type": "code",
   "execution_count": null,
   "metadata": {},
   "outputs": [],
   "source": [
    "rpv.TWO_LSP_SIG_CAT_DICT[\"LLE\"]"
   ]
  },
  {
   "cell_type": "code",
   "execution_count": null,
   "metadata": {},
   "outputs": [],
   "source": [
    "rpv.TWO_LSP_SIG_CAT_DICT[\"LQD\"]\n"
   ]
  },
  {
   "cell_type": "code",
   "execution_count": null,
   "metadata": {},
   "outputs": [],
   "source": [
    "rpv.TWO_LSP_SIG_CAT_DICT[\"UDD\"]\n"
   ]
  },
  {
   "attachments": {},
   "cell_type": "markdown",
   "metadata": {},
   "source": [
    "### **rpv.TWO_LSP_SIG_CAT_COMPLETE_DICT** \n",
    "Complete data used to generate **rpv.TWO_LSP_SIG_CAT_DICT**. "
   ]
  },
  {
   "cell_type": "code",
   "execution_count": null,
   "metadata": {},
   "outputs": [],
   "source": [
    "rpv.TWO_LSP_SIG_CAT_COMPLETE_DICT[\"LLE\"]\n",
    "rpv.TWO_LSP_SIG_CAT_COMPLETE_DICT[\"LQD\"]\n",
    "rpv.TWO_LSP_SIG_CAT_COMPLETE_DICT[\"UDD\"]"
   ]
  },
  {
   "attachments": {},
   "cell_type": "markdown",
   "metadata": {},
   "source": [
    "Note: Computationally expensive to get proper minimal set (Set Cover problem)\n",
    "- LLE 3mins  <br>\n",
    "- LQD 1hour<br>\n",
    "- UDD 3hours <br>\n",
    "\n",
    "Use the Signature Category Dictionaries that was produced.\n",
    "Generate manually only if neccesary."
   ]
  },
  {
   "attachments": {},
   "cell_type": "markdown",
   "metadata": {},
   "source": [
    "# Example on how to cross check with results on our paper"
   ]
  },
  {
   "attachments": {},
   "cell_type": "markdown",
   "metadata": {},
   "source": [
    "#### Getting results from Figure 1\n",
    "Note that based on our assumptions in Appendix C.2, we have only included the shortest chain. "
   ]
  },
  {
   "cell_type": "code",
   "execution_count": null,
   "metadata": {},
   "outputs": [],
   "source": [
    "x = rpv.find_signatures_from_one_lsp(\"q\",\"UDD\",\"U_3 D D\")\n",
    "display(x)\n",
    "print(\"All possible decay of LSP q under U_3 D D couplings:\")\n",
    "for i in (x[\"Chain\"].tolist()):\n",
    "    for k in i:\n",
    "        print(k)"
   ]
  },
  {
   "attachments": {},
   "cell_type": "markdown",
   "metadata": {},
   "source": [
    "#### Getting results from Table 2-11\n",
    "Few things to note before we continue:\n",
    "- Results from our code will show all possible exact signatures based on the input tables.\n",
    "- Whereas Table 2-11 in the paper shows only the relevant ones (ie, after cross-section considerations, reconstructed object considerations, inclusive cuts and much more) <br>"
   ]
  },
  {
   "attachments": {},
   "cell_type": "markdown",
   "metadata": {},
   "source": [
    "One can by simply looking up the rpv.TWO_LSP_SIG_CAT_DICT table and go through the signatures in each cells"
   ]
  },
  {
   "cell_type": "code",
   "execution_count": null,
   "metadata": {},
   "outputs": [],
   "source": [
    "rpv.TWO_LSP_SIG_CAT_DICT[\"LLE\"]"
   ]
  },
  {
   "attachments": {},
   "cell_type": "markdown",
   "metadata": {},
   "source": [
    "One can also go through one by one by creating your own function such that one can look up the decay chains and other relevant information "
   ]
  },
  {
   "cell_type": "code",
   "execution_count": null,
   "metadata": {},
   "outputs": [],
   "source": [
    "import numpy as np\n",
    "import pandas as pd\n",
    "\n",
    "def check_table_2(LSPA,LSPB,incategory,verbose=False):\n",
    "    LSPlist =[]\n",
    "    if LSPA != LSPB:\n",
    "        LSPlist.append([LSPA,LSPA])\n",
    "        LSPlist.append([LSPA,LSPB])\n",
    "        LSPlist.append([LSPB,LSPB])\n",
    "    else:\n",
    "        LSPlist.append([LSPA,LSPB])\n",
    "    \n",
    "    pdlist = []\n",
    "    pdlist = []\n",
    "    for lspa,lspb in LSPlist:        \n",
    "        xlsp = rpv.find_signatures_from_two_lsp(lspa,lspb,category=incategory,verbose=verbose)\n",
    "        pdlist.append(xlsp)\n",
    "    mainpd = pd.concat(pdlist)\n",
    "    display(mainpd)\n",
    "    if len(mainpd[\"Signatures\"].values) > 1:\n",
    "            print(\"What is present in all of the possible signatures:\")\n",
    "            print(rpv.get_common(mainpd[\"Signatures\"].values))\n",
    "            print()\n",
    "            print(\"All signatures:\")\n",
    "            print(np.unique(mainpd[\"Signatures\"].tolist()))\n",
    "            print()\n",
    "\n",
    "\n",
    "#check_table_2(\"l\",\"l\",\"L L E\",True)\n",
    "#check_table_2(\"l\",\"nu\",\"L L E\",True)\n",
    "#check_table_2(\"nu\",\"nu\",\"L L E\",True)\n",
    "check_table_2(\"H^+\",\"H^0\",\"L L E\",True)\n"
   ]
  },
  {
   "attachments": {},
   "cell_type": "markdown",
   "metadata": {},
   "source": [
    "#### Getting results from Table 17"
   ]
  },
  {
   "cell_type": "code",
   "execution_count": null,
   "metadata": {},
   "outputs": [],
   "source": [
    "import itertools \n",
    "\n",
    "def transition_from_produced_sparticles_to_LSP(s1,s2,lsp1,lsp2):\n",
    "    ts1  = np.unique(rpv.get_transitions(s1,lsp1,False)[\"Minimal Set\"].tolist())\n",
    "    ts2  = np.unique(rpv.get_transitions(s2,lsp2,False)[\"Minimal Set\"].tolist())\n",
    "    allts = set([rpv.rmisc.signature_ordering(\"\".join(x)) for x in list(itertools.product(ts1, ts2))])\n",
    "    print(\"Transition signatures from Produced sparticle ({s1}) -> LSP A ({lsp1}) :\\n\".format(s1=s1,lsp1=lsp1),ts1)\n",
    "    print()\n",
    "    print(\"Transition signatures from Produced sparticle ({s2}) -> LSP B ({lsp2}) :\\n\".format(s2=s2,lsp2=lsp2),ts2)\n",
    "    print()\n",
    "    print(\"All possible extra transition signatures from produced sparticles to LSPs\")\n",
    "    print(allts)\n",
    "    print()\n",
    "    if rpv.get_common(allts) != \"\":\n",
    "        print(\"What is present in all of the possible signatures:\")\n",
    "        print(rpv.get_common(allts))\n",
    "\n",
    "transition_from_produced_sparticles_to_LSP(\"G\",\"G\",\"q\",\"q\")"
   ]
  },
  {
   "attachments": {},
   "cell_type": "markdown",
   "metadata": {},
   "source": [
    "# Using NV=3 data"
   ]
  },
  {
   "attachments": {},
   "cell_type": "markdown",
   "metadata": {},
   "source": [
    "One can redo all the tutorials here with datas containing chains up to 3 vertices by using provided data in data_3. <br>\n",
    "\n",
    "To do this:\n",
    "1. go to main directory \n",
    "2. move 3-vertex data `data_3.tar.gz` from `data` directory to main directory (` mv data/data_3.tar.gz . `)\n",
    "3. rename current `data` directory to something else (` mv data data_old `)\n",
    "4. untar `data_3.tar.gz` (` tar -xzvf data_3.tar.gz `)\n",
    "5. rename 3-vertex data directory to `data` (` mv data_3 dat`)\n",
    "6. rerun jupyter notebook"
   ]
  },
  {
   "attachments": {},
   "cell_type": "markdown",
   "metadata": {},
   "source": [
    "# MISC Functions and Dictionaries"
   ]
  },
  {
   "attachments": {},
   "cell_type": "markdown",
   "metadata": {},
   "source": [
    "If you wanna get transition signature between sparticles based on your input tables:"
   ]
  },
  {
   "cell_type": "code",
   "execution_count": null,
   "metadata": {},
   "outputs": [],
   "source": [
    "rpv.get_transitions(\"B\",\"W^+\")"
   ]
  },
  {
   "attachments": {},
   "cell_type": "markdown",
   "metadata": {},
   "source": [
    "If you wanna find the superset that include your input signature"
   ]
  },
  {
   "cell_type": "code",
   "execution_count": null,
   "metadata": {},
   "outputs": [],
   "source": [
    "# The three options are based on grouping via the defintion of \"J\", \"3\" and \"L\" respictively\n",
    "print(rpv.get_all_superset(\"tjlX\",optJ=True,opt3=False,optL=False))\n",
    "print(rpv.get_all_superset(\"tjlX\",optJ=False,opt3=True,optL=False))\n",
    "print(rpv.get_all_superset(\"tjlX\",optJ=False,opt3=False,optL=True))\n",
    "print(rpv.get_all_superset(\"tjlX\",optJ=True,opt3=True,optL=True))"
   ]
  },
  {
   "attachments": {},
   "cell_type": "markdown",
   "metadata": {},
   "source": [
    "If you wanna find all the elements in your set based on your input signature(with J/3/L)"
   ]
  },
  {
   "cell_type": "code",
   "execution_count": null,
   "metadata": {},
   "outputs": [],
   "source": [
    "rpv.set_elements_simplified(\"JJLlX\")"
   ]
  },
  {
   "attachments": {},
   "cell_type": "markdown",
   "metadata": {},
   "source": [
    "If you wanna find all possible subsets of your signature"
   ]
  },
  {
   "cell_type": "code",
   "execution_count": null,
   "metadata": {},
   "outputs": [],
   "source": [
    "rpv.get_subsets([\"JJl\",\"JJX\"])"
   ]
  },
  {
   "attachments": {},
   "cell_type": "markdown",
   "metadata": {},
   "source": [
    "If you wanna convert the code signature syntax to something easier to understand:"
   ]
  },
  {
   "cell_type": "code",
   "execution_count": null,
   "metadata": {},
   "outputs": [],
   "source": [
    "rpv.rmisc.easy_read(\"jjJlTTX\")"
   ]
  },
  {
   "attachments": {},
   "cell_type": "markdown",
   "metadata": {},
   "source": [
    "If you wanna look up the input transitions tables:"
   ]
  },
  {
   "cell_type": "code",
   "execution_count": null,
   "metadata": {},
   "outputs": [],
   "source": [
    "rpv.NOTSUP_TABLE"
   ]
  },
  {
   "attachments": {},
   "cell_type": "markdown",
   "metadata": {},
   "source": [
    "### **rpv.TRANSITION_DF**\n",
    "Main table generated from inputs transition tables. All other tables are generated from this"
   ]
  },
  {
   "cell_type": "code",
   "execution_count": null,
   "metadata": {},
   "outputs": [],
   "source": [
    "rpv.TRANSITION_DF"
   ]
  },
  {
   "attachments": {},
   "cell_type": "markdown",
   "metadata": {},
   "source": [
    "### **rpv.TRANSITIONS_TABLE**\n",
    "Compiled Transitions tables"
   ]
  },
  {
   "cell_type": "code",
   "execution_count": null,
   "metadata": {},
   "outputs": [],
   "source": [
    "rpv.TRANSITIONS_TABLE"
   ]
  },
  {
   "attachments": {},
   "cell_type": "markdown",
   "metadata": {},
   "source": [
    "### **rpv.sanity_checks()**\n",
    "If one modified any of the input tables or regenerate tables with different number of vertices, it is a good thing to do some sanity checks"
   ]
  },
  {
   "cell_type": "code",
   "execution_count": null,
   "metadata": {},
   "outputs": [],
   "source": [
    "rpv.sanity_checks()"
   ]
  },
  {
   "attachments": {},
   "cell_type": "markdown",
   "metadata": {},
   "source": [
    "# Advanced Functions (Adv. Tutorial will be provided in next update)\n",
    "When using different input tables, it is important to regenerate all the tables used so far.\n",
    "By default, all dictionaries and tables are regenerated automatically from the input table if all the csv files in the data directory are deleted. \n",
    "Thus, one can generate all the tables based on their custom input table (table_notsup.csv) by deleting the csv files in the data directory and reimporting the library. \n",
    "\n",
    "However it may be useful to double check datas along the process of generation in order to ensure proper results.\n",
    "In such scenarios, the following functions will become relevant. An advanced tutorial on this part will be provided in next update.\n",
    "\n",
    "- rpv.generate_transition_df(nv=1,save_csv=False) <br>\n",
    "  - --> Default nv=1:<br>\n",
    "    - when generating the table, we have used only *vertices* in the table_notsup.csv (ie transitions that are not suppressed).  <br>\n",
    "    - By default, we only look for the minimal non-vanishing vertices when constructing all the tables and dictionaries. However, it is also possible to include all possible chains up to  3 *vertices* (nv=3). <br>\n",
    "    - This would lead to more possible chains. And more possible signatures in most (if not all) scenario<br>\n",
    "  - --> This generate main table for generation of evey other table. \n",
    "  - --> Switch on same_csv=True, to ensure results are saved. <br>\n",
    "<br>\n",
    "  \n",
    "- rpv.generate_transitions_table()<br>\n",
    "  --> generate transitions_table<br>\n",
    "  \n",
    "- rpv.generate_LSP_RPV_decay_table(rpv_coup):<br>\n",
    "  --> generate ONE_LSP_RPV_decay_table<br>\n",
    "  \n",
    "- rpv.generate_LSP_sig_cat_table(rpv_coup)<br>\n",
    "  --> generate ONE_LSP_sig_cat_table<br>\n",
    "  \n",
    "- rpv.generate_2LSP_RPV_decay_table(rpv_coup)<br>\n",
    "  --> generate 2LSP_RPV_decay_table<br>\n",
    "  \n",
    "- rpv.generate_2LSP_sig_complete(rpv_coup)<br>\n",
    "  --> generate 2LSP_sig_complete<br>\n",
    "  --> Note: computationally expensive to get proper minimal set, might take awhile\n",
    "\n",
    "\n",
    "If urgent use is required, feel free to leave a message in the code's [Github's issue system](https://github.com/kys-sheng/abc-rpv/issues) .\n"
   ]
  },
  {
   "cell_type": "code",
   "execution_count": null,
   "metadata": {},
   "outputs": [],
   "source": []
  }
 ],
 "metadata": {
  "kernelspec": {
   "display_name": "Python 3",
   "language": "python",
   "name": "python3"
  },
  "language_info": {
   "codemirror_mode": {
    "name": "ipython",
    "version": 3
   },
   "file_extension": ".py",
   "mimetype": "text/x-python",
   "name": "python",
   "nbconvert_exporter": "python",
   "pygments_lexer": "ipython3",
   "version": "3.8.10"
  },
  "orig_nbformat": 4
 },
 "nbformat": 4,
 "nbformat_minor": 2
}
